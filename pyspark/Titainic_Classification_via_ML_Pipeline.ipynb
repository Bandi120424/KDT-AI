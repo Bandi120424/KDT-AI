{
  "nbformat": 4,
  "nbformat_minor": 0,
  "metadata": {
    "colab": {
      "provenance": [],
      "authorship_tag": "ABX9TyPmujyD6Ssk0yAJyEMYNygP",
      "include_colab_link": true
    },
    "kernelspec": {
      "name": "python3",
      "display_name": "Python 3"
    },
    "language_info": {
      "name": "python"
    }
  },
  "cells": [
    {
      "cell_type": "markdown",
      "metadata": {
        "id": "view-in-github",
        "colab_type": "text"
      },
      "source": [
        "<a href=\"https://colab.research.google.com/github/Bandi120424/KDT-AI/blob/Month-3/Titainic_Classification_via_ML_Pipeline.ipynb\" target=\"_parent\"><img src=\"https://colab.research.google.com/assets/colab-badge.svg\" alt=\"Open In Colab\"/></a>"
      ]
    },
    {
      "cell_type": "markdown",
      "source": [
        "## ML Pipeline 기반 머신러닝 모델 만들기\n",
        "- Titainic 생존여부예측 모델"
      ],
      "metadata": {
        "id": "AzpVcVA8dsBR"
      }
    },
    {
      "cell_type": "code",
      "execution_count": 70,
      "metadata": {
        "colab": {
          "base_uri": "https://localhost:8080/"
        },
        "id": "jzEIfkymc-IT",
        "outputId": "38b27533-714e-42bf-f766-19bc9fe0bbfc"
      },
      "outputs": [
        {
          "output_type": "stream",
          "name": "stdout",
          "text": [
            "Looking in indexes: https://pypi.org/simple, https://us-python.pkg.dev/colab-wheels/public/simple/\n",
            "Requirement already satisfied: pyspark==3.0.1 in /usr/local/lib/python3.8/dist-packages (3.0.1)\n",
            "Requirement already satisfied: py4j==0.10.9 in /usr/local/lib/python3.8/dist-packages (0.10.9)\n"
          ]
        }
      ],
      "source": [
        "!pip install pyspark==3.0.1 py4j==0.10.9"
      ]
    },
    {
      "cell_type": "code",
      "source": [
        "from pyspark.sql import SparkSession\n",
        "\n",
        "spark = SparkSession \\\n",
        "    .builder \\\n",
        "    .config(\"/content/pmml-sparkml-example-executable-2.2.0.jar\") \\\n",
        "    .appName(\"Titainic Classification via ML Pipeline\") \\\n",
        "    .getOrCreate()"
      ],
      "metadata": {
        "id": "EJ8mMw8LdWND"
      },
      "execution_count": 77,
      "outputs": []
    },
    {
      "cell_type": "code",
      "source": [
        "spark"
      ],
      "metadata": {
        "colab": {
          "base_uri": "https://localhost:8080/",
          "height": 222
        },
        "id": "Fw_4nH0-d03X",
        "outputId": "426d9e8a-54b7-498a-a229-016f5f011572"
      },
      "execution_count": 78,
      "outputs": [
        {
          "output_type": "execute_result",
          "data": {
            "text/plain": [
              "<pyspark.sql.session.SparkSession at 0x7f6282c62730>"
            ],
            "text/html": [
              "\n",
              "            <div>\n",
              "                <p><b>SparkSession - in-memory</b></p>\n",
              "                \n",
              "        <div>\n",
              "            <p><b>SparkContext</b></p>\n",
              "\n",
              "            <p><a href=\"http://6a6ffecf8b23:4040\">Spark UI</a></p>\n",
              "\n",
              "            <dl>\n",
              "              <dt>Version</dt>\n",
              "                <dd><code>v3.0.1</code></dd>\n",
              "              <dt>Master</dt>\n",
              "                <dd><code>local[*]</code></dd>\n",
              "              <dt>AppName</dt>\n",
              "                <dd><code>Titainic Classification via ML Pipeline</code></dd>\n",
              "            </dl>\n",
              "        </div>\n",
              "        \n",
              "            </div>\n",
              "        "
            ]
          },
          "metadata": {},
          "execution_count": 78
        }
      ]
    },
    {
      "cell_type": "markdown",
      "source": [
        "## 데이터 준비"
      ],
      "metadata": {
        "id": "EG2rh43nd8LW"
      }
    },
    {
      "cell_type": "code",
      "source": [
        "!wget https://s3-geospatial.s3-us-west-2.amazonaws.com/titanic.csv"
      ],
      "metadata": {
        "colab": {
          "base_uri": "https://localhost:8080/"
        },
        "id": "qOriMOInd4-Q",
        "outputId": "af37fbc1-7e8b-49d2-f2c5-67406b15155b"
      },
      "execution_count": 74,
      "outputs": [
        {
          "output_type": "stream",
          "name": "stdout",
          "text": [
            "--2023-01-03 05:17:18--  https://s3-geospatial.s3-us-west-2.amazonaws.com/titanic.csv\n",
            "Resolving s3-geospatial.s3-us-west-2.amazonaws.com (s3-geospatial.s3-us-west-2.amazonaws.com)... 52.92.194.234, 52.218.235.25, 52.218.216.97, ...\n",
            "Connecting to s3-geospatial.s3-us-west-2.amazonaws.com (s3-geospatial.s3-us-west-2.amazonaws.com)|52.92.194.234|:443... connected.\n",
            "HTTP request sent, awaiting response... 200 OK\n",
            "Length: 61197 (60K) [text/csv]\n",
            "Saving to: ‘titanic.csv’\n",
            "\n",
            "titanic.csv         100%[===================>]  59.76K   377KB/s    in 0.2s    \n",
            "\n",
            "2023-01-03 05:17:19 (377 KB/s) - ‘titanic.csv’ saved [61197/61197]\n",
            "\n"
          ]
        }
      ]
    },
    {
      "cell_type": "code",
      "source": [
        "%cd"
      ],
      "metadata": {
        "colab": {
          "base_uri": "https://localhost:8080/"
        },
        "id": "ge8lZmNzEFOi",
        "outputId": "f27a7d2d-7ff0-4f69-cdce-23ccda33621e"
      },
      "execution_count": 76,
      "outputs": [
        {
          "output_type": "stream",
          "name": "stdout",
          "text": [
            "/root\n"
          ]
        }
      ]
    },
    {
      "cell_type": "code",
      "source": [
        "!ls -tl #파일 확인"
      ],
      "metadata": {
        "colab": {
          "base_uri": "https://localhost:8080/"
        },
        "id": "Vm2VE9Z0eCTS",
        "outputId": "599b53d0-31f6-40f2-8329-6153afacddfb"
      },
      "execution_count": 79,
      "outputs": [
        {
          "output_type": "stream",
          "name": "stdout",
          "text": [
            "total 60\n",
            "-rw-r--r-- 1 root root 61197 Mar 17  2022 titanic.csv\n"
          ]
        }
      ]
    },
    {
      "cell_type": "markdown",
      "source": [
        "데이터 -> 데이터프레임으로 로딩"
      ],
      "metadata": {
        "id": "07IpD3nIeO7J"
      }
    },
    {
      "cell_type": "code",
      "source": [
        "data = spark.read.csv(\"./titanic.csv\", header = True, inferSchema = True)"
      ],
      "metadata": {
        "id": "Pd2nfkXHeEvz"
      },
      "execution_count": 8,
      "outputs": []
    },
    {
      "cell_type": "code",
      "source": [
        "data.printSchema()"
      ],
      "metadata": {
        "colab": {
          "base_uri": "https://localhost:8080/"
        },
        "id": "JDuw_6mxeM1f",
        "outputId": "03b616d3-fe01-49d7-83d2-61384e79882c"
      },
      "execution_count": 9,
      "outputs": [
        {
          "output_type": "stream",
          "name": "stdout",
          "text": [
            "root\n",
            " |-- PassengerId: integer (nullable = true)\n",
            " |-- Survived: integer (nullable = true)\n",
            " |-- Pclass: integer (nullable = true)\n",
            " |-- Name: string (nullable = true)\n",
            " |-- Gender: string (nullable = true)\n",
            " |-- Age: double (nullable = true)\n",
            " |-- SibSp: integer (nullable = true)\n",
            " |-- Parch: integer (nullable = true)\n",
            " |-- Ticket: string (nullable = true)\n",
            " |-- Fare: double (nullable = true)\n",
            " |-- Cabin: string (nullable = true)\n",
            " |-- Embarked: string (nullable = true)\n",
            "\n"
          ]
        }
      ]
    },
    {
      "cell_type": "code",
      "source": [
        "data.show()"
      ],
      "metadata": {
        "colab": {
          "base_uri": "https://localhost:8080/"
        },
        "id": "gT3FCSE4eTaY",
        "outputId": "d9d39a40-3672-4f76-fdd9-a8f59b5b871c"
      },
      "execution_count": 10,
      "outputs": [
        {
          "output_type": "stream",
          "name": "stdout",
          "text": [
            "+-----------+--------+------+--------------------+------+----+-----+-----+----------------+-------+-----+--------+\n",
            "|PassengerId|Survived|Pclass|                Name|Gender| Age|SibSp|Parch|          Ticket|   Fare|Cabin|Embarked|\n",
            "+-----------+--------+------+--------------------+------+----+-----+-----+----------------+-------+-----+--------+\n",
            "|          1|       0|     3|Braund, Mr. Owen ...|  male|22.0|    1|    0|       A/5 21171|   7.25| null|       S|\n",
            "|          2|       1|     1|Cumings, Mrs. Joh...|female|38.0|    1|    0|        PC 17599|71.2833|  C85|       C|\n",
            "|          3|       1|     3|Heikkinen, Miss. ...|female|26.0|    0|    0|STON/O2. 3101282|  7.925| null|       S|\n",
            "|          4|       1|     1|Futrelle, Mrs. Ja...|female|35.0|    1|    0|          113803|   53.1| C123|       S|\n",
            "|          5|       0|     3|Allen, Mr. Willia...|  male|35.0|    0|    0|          373450|   8.05| null|       S|\n",
            "|          6|       0|     3|    Moran, Mr. James|  male|null|    0|    0|          330877| 8.4583| null|       Q|\n",
            "|          7|       0|     1|McCarthy, Mr. Tim...|  male|54.0|    0|    0|           17463|51.8625|  E46|       S|\n",
            "|          8|       0|     3|Palsson, Master. ...|  male| 2.0|    3|    1|          349909| 21.075| null|       S|\n",
            "|          9|       1|     3|Johnson, Mrs. Osc...|female|27.0|    0|    2|          347742|11.1333| null|       S|\n",
            "|         10|       1|     2|Nasser, Mrs. Nich...|female|14.0|    1|    0|          237736|30.0708| null|       C|\n",
            "|         11|       1|     3|Sandstrom, Miss. ...|female| 4.0|    1|    1|         PP 9549|   16.7|   G6|       S|\n",
            "|         12|       1|     1|Bonnell, Miss. El...|female|58.0|    0|    0|          113783|  26.55| C103|       S|\n",
            "|         13|       0|     3|Saundercock, Mr. ...|  male|20.0|    0|    0|       A/5. 2151|   8.05| null|       S|\n",
            "|         14|       0|     3|Andersson, Mr. An...|  male|39.0|    1|    5|          347082| 31.275| null|       S|\n",
            "|         15|       0|     3|Vestrom, Miss. Hu...|female|14.0|    0|    0|          350406| 7.8542| null|       S|\n",
            "|         16|       1|     2|Hewlett, Mrs. (Ma...|female|55.0|    0|    0|          248706|   16.0| null|       S|\n",
            "|         17|       0|     3|Rice, Master. Eugene|  male| 2.0|    4|    1|          382652| 29.125| null|       Q|\n",
            "|         18|       1|     2|Williams, Mr. Cha...|  male|null|    0|    0|          244373|   13.0| null|       S|\n",
            "|         19|       0|     3|Vander Planke, Mr...|female|31.0|    1|    0|          345763|   18.0| null|       S|\n",
            "|         20|       1|     3|Masselmani, Mrs. ...|female|null|    0|    0|            2649|  7.225| null|       C|\n",
            "+-----------+--------+------+--------------------+------+----+-----+-----+----------------+-------+-----+--------+\n",
            "only showing top 20 rows\n",
            "\n"
          ]
        }
      ]
    },
    {
      "cell_type": "code",
      "source": [
        "data.select(['*']).describe().show()"
      ],
      "metadata": {
        "colab": {
          "base_uri": "https://localhost:8080/"
        },
        "id": "4RkjlZEqeVEA",
        "outputId": "da888362-8220-4336-80dd-ef6ccf448e5c"
      },
      "execution_count": 11,
      "outputs": [
        {
          "output_type": "stream",
          "name": "stdout",
          "text": [
            "+-------+-----------------+-------------------+------------------+--------------------+------+------------------+------------------+-------------------+------------------+-----------------+-----+--------+\n",
            "|summary|      PassengerId|           Survived|            Pclass|                Name|Gender|               Age|             SibSp|              Parch|            Ticket|             Fare|Cabin|Embarked|\n",
            "+-------+-----------------+-------------------+------------------+--------------------+------+------------------+------------------+-------------------+------------------+-----------------+-----+--------+\n",
            "|  count|              891|                891|               891|                 891|   891|               714|               891|                891|               891|              891|  204|     889|\n",
            "|   mean|            446.0| 0.3838383838383838| 2.308641975308642|                null|  null| 29.69911764705882|0.5230078563411896|0.38159371492704824|260318.54916792738| 32.2042079685746| null|    null|\n",
            "| stddev|257.3538420152301|0.48659245426485753|0.8360712409770491|                null|  null|14.526497332334035|1.1027434322934315| 0.8060572211299488|471609.26868834975|49.69342859718089| null|    null|\n",
            "|    min|                1|                  0|                 1|\"Andersson, Mr. A...|female|              0.42|                 0|                  0|            110152|              0.0|  A10|       C|\n",
            "|    max|              891|                  1|                 3|van Melkebeke, Mr...|  male|              80.0|                 8|                  6|         WE/P 5735|         512.3292|    T|       S|\n",
            "+-------+-----------------+-------------------+------------------+--------------------+------+------------------+------------------+-------------------+------------------+-----------------+-----+--------+\n",
            "\n"
          ]
        }
      ]
    },
    {
      "cell_type": "markdown",
      "source": [
        "### 데이터 클린업\n",
        "\n",
        "\n",
        "*   **feature 선택**\n",
        "  * PassengerID, Name, Ticket, Embarked: 생존 여부와 크게 상관없은 feature => 사용 X\n",
        "* **결측치처리**  \n",
        "  * Cabin: 결측치가 많으므로 사용하지 않음 \n",
        "  * Age: 생존 여부와 유의미한 관계 -> 결측치를 특정 값으로 채워줌\n",
        "* **스케일링**\n",
        "  * MinMaxScaler \n",
        "* **범주형 변수 처리**\n",
        "  * Gender: 숫자로 인코딩\n",
        "\n",
        "\n",
        "\n"
      ],
      "metadata": {
        "id": "RuL94qxTebvz"
      }
    },
    {
      "cell_type": "markdown",
      "source": [
        "#### 결측치 확인"
      ],
      "metadata": {
        "id": "gaEiLR5wf23b"
      }
    },
    {
      "cell_type": "code",
      "source": [
        "from pyspark.sql.functions import col,isnan, when, count\n",
        "data.select([count(when(isnan(c) | col(c).isNull(), c)).alias(c) for c in data.columns]\n",
        "   ).show()"
      ],
      "metadata": {
        "colab": {
          "base_uri": "https://localhost:8080/"
        },
        "id": "LVheBxLteZjr",
        "outputId": "66652bf4-ae8b-4aa4-ce7b-46c375527572"
      },
      "execution_count": 12,
      "outputs": [
        {
          "output_type": "stream",
          "name": "stdout",
          "text": [
            "+-----------+--------+------+----+------+---+-----+-----+------+----+-----+--------+\n",
            "|PassengerId|Survived|Pclass|Name|Gender|Age|SibSp|Parch|Ticket|Fare|Cabin|Embarked|\n",
            "+-----------+--------+------+----+------+---+-----+-----+------+----+-----+--------+\n",
            "|          0|       0|     0|   0|     0|177|    0|    0|     0|   0|  687|       2|\n",
            "+-----------+--------+------+----+------+---+-----+-----+------+----+-----+--------+\n",
            "\n"
          ]
        }
      ]
    },
    {
      "cell_type": "markdown",
      "source": [
        "#### feature 선택 \n",
        "새로운 데이터 프레임으로 정의"
      ],
      "metadata": {
        "id": "cy0iY6aegytk"
      }
    },
    {
      "cell_type": "code",
      "source": [
        "new_feats = [ x for x in data.columns if x not in ['PassengerId', 'Name', 'Ticket', 'Embarked', 'Cabin']]\n",
        "new_feats"
      ],
      "metadata": {
        "colab": {
          "base_uri": "https://localhost:8080/"
        },
        "id": "ZkfRYFmHhN6W",
        "outputId": "1efd85fd-84e4-44e4-d95a-2ed2a61db2a2"
      },
      "execution_count": 13,
      "outputs": [
        {
          "output_type": "execute_result",
          "data": {
            "text/plain": [
              "['Survived', 'Pclass', 'Gender', 'Age', 'SibSp', 'Parch', 'Fare']"
            ]
          },
          "metadata": {},
          "execution_count": 13
        }
      ]
    },
    {
      "cell_type": "code",
      "source": [
        "final_data = data[new_feats]"
      ],
      "metadata": {
        "id": "w1QmARtjhH-0"
      },
      "execution_count": 14,
      "outputs": []
    },
    {
      "cell_type": "code",
      "source": [
        "final_data.show()"
      ],
      "metadata": {
        "colab": {
          "base_uri": "https://localhost:8080/"
        },
        "id": "KHBSEXFthrhD",
        "outputId": "0845a360-01ba-47a4-913e-be7dab4616f9"
      },
      "execution_count": 15,
      "outputs": [
        {
          "output_type": "stream",
          "name": "stdout",
          "text": [
            "+--------+------+------+----+-----+-----+-------+\n",
            "|Survived|Pclass|Gender| Age|SibSp|Parch|   Fare|\n",
            "+--------+------+------+----+-----+-----+-------+\n",
            "|       0|     3|  male|22.0|    1|    0|   7.25|\n",
            "|       1|     1|female|38.0|    1|    0|71.2833|\n",
            "|       1|     3|female|26.0|    0|    0|  7.925|\n",
            "|       1|     1|female|35.0|    1|    0|   53.1|\n",
            "|       0|     3|  male|35.0|    0|    0|   8.05|\n",
            "|       0|     3|  male|null|    0|    0| 8.4583|\n",
            "|       0|     1|  male|54.0|    0|    0|51.8625|\n",
            "|       0|     3|  male| 2.0|    3|    1| 21.075|\n",
            "|       1|     3|female|27.0|    0|    2|11.1333|\n",
            "|       1|     2|female|14.0|    1|    0|30.0708|\n",
            "|       1|     3|female| 4.0|    1|    1|   16.7|\n",
            "|       1|     1|female|58.0|    0|    0|  26.55|\n",
            "|       0|     3|  male|20.0|    0|    0|   8.05|\n",
            "|       0|     3|  male|39.0|    1|    5| 31.275|\n",
            "|       0|     3|female|14.0|    0|    0| 7.8542|\n",
            "|       1|     2|female|55.0|    0|    0|   16.0|\n",
            "|       0|     3|  male| 2.0|    4|    1| 29.125|\n",
            "|       1|     2|  male|null|    0|    0|   13.0|\n",
            "|       0|     3|female|31.0|    1|    0|   18.0|\n",
            "|       1|     3|female|null|    0|    0|  7.225|\n",
            "+--------+------+------+----+-----+-----+-------+\n",
            "only showing top 20 rows\n",
            "\n"
          ]
        }
      ]
    },
    {
      "cell_type": "markdown",
      "source": [
        "#### 결측치 처리\n",
        "- Age: 평균값으로 채움"
      ],
      "metadata": {
        "id": "GwNgQ1mQiDqC"
      }
    },
    {
      "cell_type": "code",
      "source": [
        "from pyspark.ml.feature import Imputer\n",
        "\n",
        "imputer = Imputer(strategy='mean', inputCols = ['Age'], outputCols = ['AgeImputed'])\n",
        "imputer_model = imputer.fit(final_data)\n",
        "final_data = imputer_model.transform(final_data)"
      ],
      "metadata": {
        "id": "4OipeCU8e_RB"
      },
      "execution_count": 16,
      "outputs": []
    },
    {
      "cell_type": "code",
      "source": [
        "final_data = imputer_model.transform(final_data)"
      ],
      "metadata": {
        "id": "f3ntDH_cgvax"
      },
      "execution_count": 17,
      "outputs": []
    },
    {
      "cell_type": "code",
      "source": [
        "final_data.select('Age', 'AgeImputed').show()"
      ],
      "metadata": {
        "colab": {
          "base_uri": "https://localhost:8080/"
        },
        "id": "I1OkU1cMidD_",
        "outputId": "b40ec4a0-accd-4d4f-d80d-8b58faa67b85"
      },
      "execution_count": 18,
      "outputs": [
        {
          "output_type": "stream",
          "name": "stdout",
          "text": [
            "+----+-----------------+\n",
            "| Age|       AgeImputed|\n",
            "+----+-----------------+\n",
            "|22.0|             22.0|\n",
            "|38.0|             38.0|\n",
            "|26.0|             26.0|\n",
            "|35.0|             35.0|\n",
            "|35.0|             35.0|\n",
            "|null|29.69911764705882|\n",
            "|54.0|             54.0|\n",
            "| 2.0|              2.0|\n",
            "|27.0|             27.0|\n",
            "|14.0|             14.0|\n",
            "| 4.0|              4.0|\n",
            "|58.0|             58.0|\n",
            "|20.0|             20.0|\n",
            "|39.0|             39.0|\n",
            "|14.0|             14.0|\n",
            "|55.0|             55.0|\n",
            "| 2.0|              2.0|\n",
            "|null|29.69911764705882|\n",
            "|31.0|             31.0|\n",
            "|null|29.69911764705882|\n",
            "+----+-----------------+\n",
            "only showing top 20 rows\n",
            "\n"
          ]
        }
      ]
    },
    {
      "cell_type": "markdown",
      "source": [
        "#### 범주형 변수 처리\n",
        "- Gender: 숫자로 인코딩 (male: 0, female: 1)"
      ],
      "metadata": {
        "id": "NlkHPd-Wipe-"
      }
    },
    {
      "cell_type": "code",
      "source": [
        "from pyspark.ml.feature import StringIndexer\n",
        "\n",
        "gender_indexer = StringIndexer(inputCol = 'Gender', outputCol = 'GenderIndexed')\n",
        "gender_indexer_model = gender_indexer.fit(final_data)\n",
        "final_data = gender_indexer_model.transform(final_data)"
      ],
      "metadata": {
        "id": "Z-SaDrl7il0F"
      },
      "execution_count": 19,
      "outputs": []
    },
    {
      "cell_type": "code",
      "source": [
        "final_data.select(\"Gender\", 'GenderIndexed').show()"
      ],
      "metadata": {
        "colab": {
          "base_uri": "https://localhost:8080/"
        },
        "id": "AnbNw3JLjBpH",
        "outputId": "cee9b1e0-c8a6-4f93-c97d-f6bdddefb875"
      },
      "execution_count": 20,
      "outputs": [
        {
          "output_type": "stream",
          "name": "stdout",
          "text": [
            "+------+-------------+\n",
            "|Gender|GenderIndexed|\n",
            "+------+-------------+\n",
            "|  male|          0.0|\n",
            "|female|          1.0|\n",
            "|female|          1.0|\n",
            "|female|          1.0|\n",
            "|  male|          0.0|\n",
            "|  male|          0.0|\n",
            "|  male|          0.0|\n",
            "|  male|          0.0|\n",
            "|female|          1.0|\n",
            "|female|          1.0|\n",
            "|female|          1.0|\n",
            "|female|          1.0|\n",
            "|  male|          0.0|\n",
            "|  male|          0.0|\n",
            "|female|          1.0|\n",
            "|female|          1.0|\n",
            "|  male|          0.0|\n",
            "|  male|          0.0|\n",
            "|female|          1.0|\n",
            "|female|          1.0|\n",
            "+------+-------------+\n",
            "only showing top 20 rows\n",
            "\n"
          ]
        }
      ]
    },
    {
      "cell_type": "markdown",
      "source": [
        "#### feature 벡터 생성"
      ],
      "metadata": {
        "id": "5mV0A2xJjH32"
      }
    },
    {
      "cell_type": "code",
      "source": [
        "final_feats = [ x for x in final_data.columns if x not in ['Age', 'Gender', 'Survived']]\n",
        "final_feats"
      ],
      "metadata": {
        "colab": {
          "base_uri": "https://localhost:8080/"
        },
        "id": "gQPlYNiNjOKi",
        "outputId": "e58072cf-0d4f-4081-c25e-2632891be498"
      },
      "execution_count": 21,
      "outputs": [
        {
          "output_type": "execute_result",
          "data": {
            "text/plain": [
              "['Pclass', 'SibSp', 'Parch', 'Fare', 'AgeImputed', 'GenderIndexed']"
            ]
          },
          "metadata": {},
          "execution_count": 21
        }
      ]
    },
    {
      "cell_type": "code",
      "source": [
        "from pyspark.ml.feature import VectorAssembler \n",
        "\n",
        "assembler = VectorAssembler(inputCols = final_feats, outputCol = 'features')\n",
        "data_vec = assembler.transform(final_data)"
      ],
      "metadata": {
        "id": "IBWF5YdTjE8v"
      },
      "execution_count": 22,
      "outputs": []
    },
    {
      "cell_type": "code",
      "source": [
        "data_vec.show()"
      ],
      "metadata": {
        "colab": {
          "base_uri": "https://localhost:8080/"
        },
        "id": "KC9wVzCSjnD9",
        "outputId": "bc4943f8-86cc-49e7-e40e-33fa53466dfd"
      },
      "execution_count": 23,
      "outputs": [
        {
          "output_type": "stream",
          "name": "stdout",
          "text": [
            "+--------+------+------+----+-----+-----+-------+-----------------+-------------+--------------------+\n",
            "|Survived|Pclass|Gender| Age|SibSp|Parch|   Fare|       AgeImputed|GenderIndexed|            features|\n",
            "+--------+------+------+----+-----+-----+-------+-----------------+-------------+--------------------+\n",
            "|       0|     3|  male|22.0|    1|    0|   7.25|             22.0|          0.0|[3.0,1.0,0.0,7.25...|\n",
            "|       1|     1|female|38.0|    1|    0|71.2833|             38.0|          1.0|[1.0,1.0,0.0,71.2...|\n",
            "|       1|     3|female|26.0|    0|    0|  7.925|             26.0|          1.0|[3.0,0.0,0.0,7.92...|\n",
            "|       1|     1|female|35.0|    1|    0|   53.1|             35.0|          1.0|[1.0,1.0,0.0,53.1...|\n",
            "|       0|     3|  male|35.0|    0|    0|   8.05|             35.0|          0.0|[3.0,0.0,0.0,8.05...|\n",
            "|       0|     3|  male|null|    0|    0| 8.4583|29.69911764705882|          0.0|[3.0,0.0,0.0,8.45...|\n",
            "|       0|     1|  male|54.0|    0|    0|51.8625|             54.0|          0.0|[1.0,0.0,0.0,51.8...|\n",
            "|       0|     3|  male| 2.0|    3|    1| 21.075|              2.0|          0.0|[3.0,3.0,1.0,21.0...|\n",
            "|       1|     3|female|27.0|    0|    2|11.1333|             27.0|          1.0|[3.0,0.0,2.0,11.1...|\n",
            "|       1|     2|female|14.0|    1|    0|30.0708|             14.0|          1.0|[2.0,1.0,0.0,30.0...|\n",
            "|       1|     3|female| 4.0|    1|    1|   16.7|              4.0|          1.0|[3.0,1.0,1.0,16.7...|\n",
            "|       1|     1|female|58.0|    0|    0|  26.55|             58.0|          1.0|[1.0,0.0,0.0,26.5...|\n",
            "|       0|     3|  male|20.0|    0|    0|   8.05|             20.0|          0.0|[3.0,0.0,0.0,8.05...|\n",
            "|       0|     3|  male|39.0|    1|    5| 31.275|             39.0|          0.0|[3.0,1.0,5.0,31.2...|\n",
            "|       0|     3|female|14.0|    0|    0| 7.8542|             14.0|          1.0|[3.0,0.0,0.0,7.85...|\n",
            "|       1|     2|female|55.0|    0|    0|   16.0|             55.0|          1.0|[2.0,0.0,0.0,16.0...|\n",
            "|       0|     3|  male| 2.0|    4|    1| 29.125|              2.0|          0.0|[3.0,4.0,1.0,29.1...|\n",
            "|       1|     2|  male|null|    0|    0|   13.0|29.69911764705882|          0.0|[2.0,0.0,0.0,13.0...|\n",
            "|       0|     3|female|31.0|    1|    0|   18.0|             31.0|          1.0|[3.0,1.0,0.0,18.0...|\n",
            "|       1|     3|female|null|    0|    0|  7.225|29.69911764705882|          1.0|[3.0,0.0,0.0,7.22...|\n",
            "+--------+------+------+----+-----+-----+-------+-----------------+-------------+--------------------+\n",
            "only showing top 20 rows\n",
            "\n"
          ]
        }
      ]
    },
    {
      "cell_type": "markdown",
      "source": [
        "#### 스케일링\n",
        "Age와 Fare의 값을 스케일링: MInMaxScaler 사용"
      ],
      "metadata": {
        "id": "_sgPV5CHjzz4"
      }
    },
    {
      "cell_type": "code",
      "source": [
        "from pyspark.ml.feature import MinMaxScaler\n",
        "\n",
        "age_scaler = MinMaxScaler(inputCol = 'features', outputCol = 'features_scaled')\n",
        "age_scaler_model = age_scaler.fit(data_vec)\n",
        "data_vec = age_scaler_model.transform(data_vec)"
      ],
      "metadata": {
        "id": "1vQxXk5mjpC5"
      },
      "execution_count": 24,
      "outputs": []
    },
    {
      "cell_type": "code",
      "source": [
        "data_vec.select('features', 'features_scaled').show()"
      ],
      "metadata": {
        "colab": {
          "base_uri": "https://localhost:8080/"
        },
        "id": "IZDaVtbmlGWx",
        "outputId": "9cd75bec-db38-49f2-be49-2cce1364fe81"
      },
      "execution_count": 25,
      "outputs": [
        {
          "output_type": "stream",
          "name": "stdout",
          "text": [
            "+--------------------+--------------------+\n",
            "|            features|     features_scaled|\n",
            "+--------------------+--------------------+\n",
            "|[3.0,1.0,0.0,7.25...|[1.0,0.125,0.0,0....|\n",
            "|[1.0,1.0,0.0,71.2...|[0.0,0.125,0.0,0....|\n",
            "|[3.0,0.0,0.0,7.92...|[1.0,0.0,0.0,0.01...|\n",
            "|[1.0,1.0,0.0,53.1...|[0.0,0.125,0.0,0....|\n",
            "|[3.0,0.0,0.0,8.05...|[1.0,0.0,0.0,0.01...|\n",
            "|[3.0,0.0,0.0,8.45...|[1.0,0.0,0.0,0.01...|\n",
            "|[1.0,0.0,0.0,51.8...|(6,[3,4],[0.10122...|\n",
            "|[3.0,3.0,1.0,21.0...|[1.0,0.375,0.1666...|\n",
            "|[3.0,0.0,2.0,11.1...|[1.0,0.0,0.333333...|\n",
            "|[2.0,1.0,0.0,30.0...|[0.5,0.125,0.0,0....|\n",
            "|[3.0,1.0,1.0,16.7...|[1.0,0.125,0.1666...|\n",
            "|[1.0,0.0,0.0,26.5...|[0.0,0.0,0.0,0.05...|\n",
            "|[3.0,0.0,0.0,8.05...|[1.0,0.0,0.0,0.01...|\n",
            "|[3.0,1.0,5.0,31.2...|[1.0,0.125,0.8333...|\n",
            "|[3.0,0.0,0.0,7.85...|[1.0,0.0,0.0,0.01...|\n",
            "|[2.0,0.0,0.0,16.0...|[0.5,0.0,0.0,0.03...|\n",
            "|[3.0,4.0,1.0,29.1...|[1.0,0.5,0.166666...|\n",
            "|[2.0,0.0,0.0,13.0...|[0.5,0.0,0.0,0.02...|\n",
            "|[3.0,1.0,0.0,18.0...|[1.0,0.125,0.0,0....|\n",
            "|[3.0,0.0,0.0,7.22...|[1.0,0.0,0.0,0.01...|\n",
            "+--------------------+--------------------+\n",
            "only showing top 20 rows\n",
            "\n"
          ]
        }
      ]
    },
    {
      "cell_type": "code",
      "source": [
        "data_vec.show()"
      ],
      "metadata": {
        "id": "Mj6D7v7am083",
        "colab": {
          "base_uri": "https://localhost:8080/"
        },
        "outputId": "bd95baca-f06a-42d4-d248-0778c548853c"
      },
      "execution_count": 26,
      "outputs": [
        {
          "output_type": "stream",
          "name": "stdout",
          "text": [
            "+--------+------+------+----+-----+-----+-------+-----------------+-------------+--------------------+--------------------+\n",
            "|Survived|Pclass|Gender| Age|SibSp|Parch|   Fare|       AgeImputed|GenderIndexed|            features|     features_scaled|\n",
            "+--------+------+------+----+-----+-----+-------+-----------------+-------------+--------------------+--------------------+\n",
            "|       0|     3|  male|22.0|    1|    0|   7.25|             22.0|          0.0|[3.0,1.0,0.0,7.25...|[1.0,0.125,0.0,0....|\n",
            "|       1|     1|female|38.0|    1|    0|71.2833|             38.0|          1.0|[1.0,1.0,0.0,71.2...|[0.0,0.125,0.0,0....|\n",
            "|       1|     3|female|26.0|    0|    0|  7.925|             26.0|          1.0|[3.0,0.0,0.0,7.92...|[1.0,0.0,0.0,0.01...|\n",
            "|       1|     1|female|35.0|    1|    0|   53.1|             35.0|          1.0|[1.0,1.0,0.0,53.1...|[0.0,0.125,0.0,0....|\n",
            "|       0|     3|  male|35.0|    0|    0|   8.05|             35.0|          0.0|[3.0,0.0,0.0,8.05...|[1.0,0.0,0.0,0.01...|\n",
            "|       0|     3|  male|null|    0|    0| 8.4583|29.69911764705882|          0.0|[3.0,0.0,0.0,8.45...|[1.0,0.0,0.0,0.01...|\n",
            "|       0|     1|  male|54.0|    0|    0|51.8625|             54.0|          0.0|[1.0,0.0,0.0,51.8...|(6,[3,4],[0.10122...|\n",
            "|       0|     3|  male| 2.0|    3|    1| 21.075|              2.0|          0.0|[3.0,3.0,1.0,21.0...|[1.0,0.375,0.1666...|\n",
            "|       1|     3|female|27.0|    0|    2|11.1333|             27.0|          1.0|[3.0,0.0,2.0,11.1...|[1.0,0.0,0.333333...|\n",
            "|       1|     2|female|14.0|    1|    0|30.0708|             14.0|          1.0|[2.0,1.0,0.0,30.0...|[0.5,0.125,0.0,0....|\n",
            "|       1|     3|female| 4.0|    1|    1|   16.7|              4.0|          1.0|[3.0,1.0,1.0,16.7...|[1.0,0.125,0.1666...|\n",
            "|       1|     1|female|58.0|    0|    0|  26.55|             58.0|          1.0|[1.0,0.0,0.0,26.5...|[0.0,0.0,0.0,0.05...|\n",
            "|       0|     3|  male|20.0|    0|    0|   8.05|             20.0|          0.0|[3.0,0.0,0.0,8.05...|[1.0,0.0,0.0,0.01...|\n",
            "|       0|     3|  male|39.0|    1|    5| 31.275|             39.0|          0.0|[3.0,1.0,5.0,31.2...|[1.0,0.125,0.8333...|\n",
            "|       0|     3|female|14.0|    0|    0| 7.8542|             14.0|          1.0|[3.0,0.0,0.0,7.85...|[1.0,0.0,0.0,0.01...|\n",
            "|       1|     2|female|55.0|    0|    0|   16.0|             55.0|          1.0|[2.0,0.0,0.0,16.0...|[0.5,0.0,0.0,0.03...|\n",
            "|       0|     3|  male| 2.0|    4|    1| 29.125|              2.0|          0.0|[3.0,4.0,1.0,29.1...|[1.0,0.5,0.166666...|\n",
            "|       1|     2|  male|null|    0|    0|   13.0|29.69911764705882|          0.0|[2.0,0.0,0.0,13.0...|[0.5,0.0,0.0,0.02...|\n",
            "|       0|     3|female|31.0|    1|    0|   18.0|             31.0|          1.0|[3.0,1.0,0.0,18.0...|[1.0,0.125,0.0,0....|\n",
            "|       1|     3|female|null|    0|    0|  7.225|29.69911764705882|          1.0|[3.0,0.0,0.0,7.22...|[1.0,0.0,0.0,0.01...|\n",
            "+--------+------+------+----+-----+-----+-------+-----------------+-------------+--------------------+--------------------+\n",
            "only showing top 20 rows\n",
            "\n"
          ]
        }
      ]
    },
    {
      "cell_type": "markdown",
      "source": [
        "## 모델 훈련"
      ],
      "metadata": {
        "id": "KY9L01RWmiWP"
      }
    },
    {
      "cell_type": "markdown",
      "source": [
        "훈련, 테스트 데이터 분리 "
      ],
      "metadata": {
        "id": "KbwBX7MlmqNq"
      }
    },
    {
      "cell_type": "code",
      "source": [
        "train, test = data_vec.randomSplit([0.7, 0.3])"
      ],
      "metadata": {
        "id": "HZ8hhNaqmOMr"
      },
      "execution_count": 27,
      "outputs": []
    },
    {
      "cell_type": "markdown",
      "source": [
        "모델 생성"
      ],
      "metadata": {
        "id": "E-kFhq2-nPyL"
      }
    },
    {
      "cell_type": "code",
      "source": [
        "from pyspark.ml.classification import LogisticRegression\n",
        "\n",
        "algo = LogisticRegression(featuresCol = 'features_scaled', labelCol = 'Survived')\n",
        "model = algo.fit(train)"
      ],
      "metadata": {
        "id": "4o7NSmTDmv8i"
      },
      "execution_count": 28,
      "outputs": []
    },
    {
      "cell_type": "markdown",
      "source": [
        "### 모델 성능 측정"
      ],
      "metadata": {
        "id": "0YITMRsanhr1"
      }
    },
    {
      "cell_type": "code",
      "source": [
        "predictions = model.transform(test)\n",
        "predictions.groupby(['Survived']).count().collect()"
      ],
      "metadata": {
        "colab": {
          "base_uri": "https://localhost:8080/"
        },
        "id": "a5QN1J-6nggG",
        "outputId": "2cdcb343-bca4-40ed-d8fc-acb72360f7ab"
      },
      "execution_count": 29,
      "outputs": [
        {
          "output_type": "execute_result",
          "data": {
            "text/plain": [
              "[Row(Survived=1, count=107), Row(Survived=0, count=171)]"
            ]
          },
          "metadata": {},
          "execution_count": 29
        }
      ]
    },
    {
      "cell_type": "code",
      "source": [
        "predictions.groupby(['prediction']).count().collect() #prediction 예측 비율"
      ],
      "metadata": {
        "colab": {
          "base_uri": "https://localhost:8080/"
        },
        "id": "2jU-Aprrn6UA",
        "outputId": "5def7b5a-037f-40ef-aaa2-fd33d9b20aa3"
      },
      "execution_count": 30,
      "outputs": [
        {
          "output_type": "execute_result",
          "data": {
            "text/plain": [
              "[Row(prediction=0.0, count=183), Row(prediction=1.0, count=95)]"
            ]
          },
          "metadata": {},
          "execution_count": 30
        }
      ]
    },
    {
      "cell_type": "code",
      "source": [
        "predictions.select(['Survived', 'prediction', 'probability']).show()"
      ],
      "metadata": {
        "colab": {
          "base_uri": "https://localhost:8080/"
        },
        "id": "wCJRcbIjoery",
        "outputId": "50d5eb43-0951-4d9c-d2c4-048704539501"
      },
      "execution_count": 31,
      "outputs": [
        {
          "output_type": "stream",
          "name": "stdout",
          "text": [
            "+--------+----------+--------------------+\n",
            "|Survived|prediction|         probability|\n",
            "+--------+----------+--------------------+\n",
            "|       0|       1.0|[0.07003832590959...|\n",
            "|       0|       1.0|[0.09869639678791...|\n",
            "|       0|       1.0|[0.45886762954252...|\n",
            "|       0|       1.0|[0.46700398677515...|\n",
            "|       0|       1.0|[0.46736321977784...|\n",
            "|       0|       1.0|[0.46959741941252...|\n",
            "|       0|       1.0|[0.47186994536041...|\n",
            "|       0|       1.0|[0.40646883654519...|\n",
            "|       0|       1.0|[0.42721173627224...|\n",
            "|       0|       0.0|[0.51052492175456...|\n",
            "|       0|       1.0|[0.47024815759162...|\n",
            "|       0|       1.0|[0.48682108702216...|\n",
            "|       0|       1.0|[0.49199068155100...|\n",
            "|       0|       0.0|[0.53155944834869...|\n",
            "|       0|       0.0|[0.63754804039149...|\n",
            "|       0|       0.0|[0.68033217160983...|\n",
            "|       0|       0.0|[0.61185670786826...|\n",
            "|       0|       0.0|[0.71507094862391...|\n",
            "|       0|       0.0|[0.63206802439476...|\n",
            "|       0|       0.0|[0.76819904926273...|\n",
            "+--------+----------+--------------------+\n",
            "only showing top 20 rows\n",
            "\n"
          ]
        }
      ]
    },
    {
      "cell_type": "code",
      "source": [
        "from pyspark.ml.evaluation import BinaryClassificationEvaluator\n",
        "\n",
        "evaluator = BinaryClassificationEvaluator(labelCol = 'Survived', metricName = 'areaUnderROC')\n",
        "evaluator.evaluate(predictions)"
      ],
      "metadata": {
        "colab": {
          "base_uri": "https://localhost:8080/"
        },
        "id": "xqS92cMKok9_",
        "outputId": "f1e82302-61cc-461b-f742-a2b77c6a555f"
      },
      "execution_count": 32,
      "outputs": [
        {
          "output_type": "execute_result",
          "data": {
            "text/plain": [
              "0.8391812865497077"
            ]
          },
          "metadata": {},
          "execution_count": 32
        }
      ]
    },
    {
      "cell_type": "code",
      "source": [
        "import matplotlib.pyplot as plt\n",
        "\n",
        "plt.figure(figsize = (5, 5))\n",
        "plt.plot([0,1], [0, 1], 'r--')\n",
        "plt.plot(model.summary.roc.select('FPR').collect(),\n",
        "         model.summary.roc.select('TPR').collect())\n",
        "plt.xlabel('FPR')\n",
        "plt.ylabel('TPR')\n",
        "plt.show()"
      ],
      "metadata": {
        "colab": {
          "base_uri": "https://localhost:8080/",
          "height": 334
        },
        "id": "QpkIJHy3pR0g",
        "outputId": "f572e791-b3f8-44c7-95ce-5646e3cf7ea5"
      },
      "execution_count": 33,
      "outputs": [
        {
          "output_type": "display_data",
          "data": {
            "text/plain": [
              "<Figure size 360x360 with 1 Axes>"
            ],
            "image/png": "[encoded data removed]"
          },
          "metadata": {
            "needs_background": "light"
          }
        }
      ]
    },
    {
      "cell_type": "markdown",
      "source": [
        "## ML Pipeline 만들기\n",
        "\n",
        "위 과정을 pipeline으로 간편하게 해보자"
      ],
      "metadata": {
        "id": "kZAXcYZ3p12j"
      }
    },
    {
      "cell_type": "code",
      "source": [
        "from pyspark.ml.feature import Imputer, StringIndexer, VectorAssembler, MinMaxScaler\n",
        "\n",
        "imputer = Imputer(strategy = 'mean', inputCols = ['Age'], outputCols = ['AgeImputed'])\n",
        "stringIndexer = StringIndexer(inputCol = 'Gender', outputCol = 'GenderIndexed')\n",
        "assembler = VectorAssembler(inputCols = final_feats, outputCol = 'features')\n",
        "minmax_scaler = MinMaxScaler(inputCol = 'features', outputCol = 'features_scaled')\n",
        "\n",
        "stages = [imputer, stringIndexer, assembler, minmax_scaler]"
      ],
      "metadata": {
        "id": "KKfDGohJpucZ"
      },
      "execution_count": 34,
      "outputs": []
    },
    {
      "cell_type": "code",
      "source": [
        "from pyspark.ml.classification import LogisticRegression\n",
        "\n",
        "algo = LogisticRegression(featuresCol = 'features_scaled', labelCol = 'Survived')\n",
        "lr_stages = stages + [algo]"
      ],
      "metadata": {
        "id": "SW9hhzo6rtt9"
      },
      "execution_count": 35,
      "outputs": []
    },
    {
      "cell_type": "code",
      "source": [
        "lr_stages"
      ],
      "metadata": {
        "colab": {
          "base_uri": "https://localhost:8080/"
        },
        "id": "fw2_NKkKr5lt",
        "outputId": "6c93ece9-8b9a-49ba-eeb3-be3041e01d93"
      },
      "execution_count": 36,
      "outputs": [
        {
          "output_type": "execute_result",
          "data": {
            "text/plain": [
              "[Imputer_0ba2e2b1da25,\n",
              " StringIndexer_2e414413f40a,\n",
              " VectorAssembler_cccbf7c0b2f4,\n",
              " MinMaxScaler_d80c83dd00d5,\n",
              " LogisticRegression_9d150b5a523d]"
            ]
          },
          "metadata": {},
          "execution_count": 36
        }
      ]
    },
    {
      "cell_type": "code",
      "source": [
        "from pyspark.ml import Pipeline \n",
        "pipeline = Pipeline(stages = lr_stages)"
      ],
      "metadata": {
        "id": "8IYDz0mUr61U"
      },
      "execution_count": 37,
      "outputs": []
    },
    {
      "cell_type": "code",
      "source": [
        "new_feats = [ x for x in data.columns if x not in ['PassengerId', 'Name', 'Ticket', 'Embarked', 'Cabin']]\n",
        "new_feats"
      ],
      "metadata": {
        "colab": {
          "base_uri": "https://localhost:8080/"
        },
        "id": "1UXcE1MtsDPr",
        "outputId": "ad291d0e-1657-4036-b529-530cc15163e7"
      },
      "execution_count": 38,
      "outputs": [
        {
          "output_type": "execute_result",
          "data": {
            "text/plain": [
              "['Survived', 'Pclass', 'Gender', 'Age', 'SibSp', 'Parch', 'Fare']"
            ]
          },
          "metadata": {},
          "execution_count": 38
        }
      ]
    },
    {
      "cell_type": "code",
      "source": [
        "df = data.select(new_feats)\n",
        "df.show()"
      ],
      "metadata": {
        "colab": {
          "base_uri": "https://localhost:8080/"
        },
        "id": "ZPNL_hGzsMHM",
        "outputId": "624ca2d9-a55f-47ef-8f5b-5783a3bbd993"
      },
      "execution_count": 39,
      "outputs": [
        {
          "output_type": "stream",
          "name": "stdout",
          "text": [
            "+--------+------+------+----+-----+-----+-------+\n",
            "|Survived|Pclass|Gender| Age|SibSp|Parch|   Fare|\n",
            "+--------+------+------+----+-----+-----+-------+\n",
            "|       0|     3|  male|22.0|    1|    0|   7.25|\n",
            "|       1|     1|female|38.0|    1|    0|71.2833|\n",
            "|       1|     3|female|26.0|    0|    0|  7.925|\n",
            "|       1|     1|female|35.0|    1|    0|   53.1|\n",
            "|       0|     3|  male|35.0|    0|    0|   8.05|\n",
            "|       0|     3|  male|null|    0|    0| 8.4583|\n",
            "|       0|     1|  male|54.0|    0|    0|51.8625|\n",
            "|       0|     3|  male| 2.0|    3|    1| 21.075|\n",
            "|       1|     3|female|27.0|    0|    2|11.1333|\n",
            "|       1|     2|female|14.0|    1|    0|30.0708|\n",
            "|       1|     3|female| 4.0|    1|    1|   16.7|\n",
            "|       1|     1|female|58.0|    0|    0|  26.55|\n",
            "|       0|     3|  male|20.0|    0|    0|   8.05|\n",
            "|       0|     3|  male|39.0|    1|    5| 31.275|\n",
            "|       0|     3|female|14.0|    0|    0| 7.8542|\n",
            "|       1|     2|female|55.0|    0|    0|   16.0|\n",
            "|       0|     3|  male| 2.0|    4|    1| 29.125|\n",
            "|       1|     2|  male|null|    0|    0|   13.0|\n",
            "|       0|     3|female|31.0|    1|    0|   18.0|\n",
            "|       1|     3|female|null|    0|    0|  7.225|\n",
            "+--------+------+------+----+-----+-----+-------+\n",
            "only showing top 20 rows\n",
            "\n"
          ]
        }
      ]
    },
    {
      "cell_type": "markdown",
      "source": [
        "훈련, 테스트 데이터 분리"
      ],
      "metadata": {
        "id": "D7o3fwFYsgA7"
      }
    },
    {
      "cell_type": "code",
      "source": [
        "train, test = df.randomSplit([0.7, 0.3])"
      ],
      "metadata": {
        "id": "NYwHUVaqsb57"
      },
      "execution_count": 40,
      "outputs": []
    },
    {
      "cell_type": "code",
      "source": [
        "lr_model = pipeline.fit(train)\n",
        "lr_cv_predictions = lr_model.transform(test)\n",
        "evaluator.evaluate(lr_cv_predictions)"
      ],
      "metadata": {
        "colab": {
          "base_uri": "https://localhost:8080/"
        },
        "id": "Gu3vxluvsk2-",
        "outputId": "2c47335f-be5c-4ac8-b442-dccf69cb4f47"
      },
      "execution_count": 41,
      "outputs": [
        {
          "output_type": "execute_result",
          "data": {
            "text/plain": [
              "0.8623847456564017"
            ]
          },
          "metadata": {},
          "execution_count": 41
        }
      ]
    },
    {
      "cell_type": "markdown",
      "source": [
        "## ML Tuning\n",
        "\n",
        "최적의 하이퍼파라미터 찾기"
      ],
      "metadata": {
        "id": "JFzo37k-s_1q"
      }
    },
    {
      "cell_type": "code",
      "source": [
        "evaluator = BinaryClassificationEvaluator(labelCol = 'Survived', metricName = 'areaUnderROC')"
      ],
      "metadata": {
        "id": "3boNmSZZs48t"
      },
      "execution_count": 42,
      "outputs": []
    },
    {
      "cell_type": "code",
      "source": [
        "from pyspark.ml.tuning import ParamGridBuilder, CrossValidator\n",
        "\n",
        "paramGrid = (ParamGridBuilder()\n",
        "              .addGrid(algo.maxIter, [1, 5, 10])\n",
        "              .build())\n",
        "\n",
        "cv = CrossValidator(\n",
        "    estimator = pipeline,\n",
        "    estimatorParamMaps = paramGrid,\n",
        "    evaluator = evaluator,\n",
        "    numFolds = 5\n",
        ")"
      ],
      "metadata": {
        "id": "YoMQSLeetO9x"
      },
      "execution_count": 43,
      "outputs": []
    },
    {
      "cell_type": "code",
      "source": [
        "cvModel = cv.fit(train)\n",
        "lr_cv_predictions = cvModel.transform(test)\n",
        "evaluator.evaluate(lr_cv_predictions)"
      ],
      "metadata": {
        "colab": {
          "base_uri": "https://localhost:8080/"
        },
        "id": "bal5snTethTl",
        "outputId": "0de21a7f-87fa-4004-ea91-9e59c893a819"
      },
      "execution_count": 44,
      "outputs": [
        {
          "output_type": "execute_result",
          "data": {
            "text/plain": [
              "0.8608166593489315"
            ]
          },
          "metadata": {},
          "execution_count": 44
        }
      ]
    },
    {
      "cell_type": "code",
      "source": [
        "lr_cv_predictions.select('prediction', 'Survived').show()"
      ],
      "metadata": {
        "colab": {
          "base_uri": "https://localhost:8080/"
        },
        "id": "7nri5Yyvt4If",
        "outputId": "60c38e59-a0e1-4546-d832-b99486a4c41e"
      },
      "execution_count": 45,
      "outputs": [
        {
          "output_type": "stream",
          "name": "stdout",
          "text": [
            "+----------+--------+\n",
            "|prediction|Survived|\n",
            "+----------+--------+\n",
            "|       1.0|       0|\n",
            "|       0.0|       0|\n",
            "|       0.0|       0|\n",
            "|       0.0|       0|\n",
            "|       0.0|       0|\n",
            "|       0.0|       0|\n",
            "|       1.0|       0|\n",
            "|       0.0|       0|\n",
            "|       0.0|       0|\n",
            "|       0.0|       0|\n",
            "|       0.0|       0|\n",
            "|       0.0|       0|\n",
            "|       0.0|       0|\n",
            "|       0.0|       0|\n",
            "|       0.0|       0|\n",
            "|       0.0|       0|\n",
            "|       0.0|       0|\n",
            "|       0.0|       0|\n",
            "|       0.0|       0|\n",
            "|       0.0|       0|\n",
            "+----------+--------+\n",
            "only showing top 20 rows\n",
            "\n"
          ]
        }
      ]
    },
    {
      "cell_type": "markdown",
      "source": [
        "하이퍼 파라미터별 score 출력"
      ],
      "metadata": {
        "id": "HMrvDAvKuAZC"
      }
    },
    {
      "cell_type": "code",
      "source": [
        "import pandas as pd \n",
        "\n",
        "params = [{p.name: v for p, v in m.items()} for m in cvModel.getEstimatorParamMaps()]\n",
        "pd.DataFrame.from_dict([\n",
        "    {cvModel.getEvaluator().getMetricName(): metric, **ps}\n",
        "    for ps, metric in zip(params, cvModel.avgMetrics)   \n",
        "])"
      ],
      "metadata": {
        "colab": {
          "base_uri": "https://localhost:8080/",
          "height": 143
        },
        "id": "7u5GG2O5t9A7",
        "outputId": "e4a291fe-f2d0-4630-e65d-c9f81aef818c"
      },
      "execution_count": 46,
      "outputs": [
        {
          "output_type": "execute_result",
          "data": {
            "text/plain": [
              "   areaUnderROC  maxIter\n",
              "0      0.825985        1\n",
              "1      0.846101        5\n",
              "2      0.846660       10"
            ],
            "text/html": [
              "\n",
              "  <div id=\"df-af005bb3-45b3-42b3-a8db-fbaea534a866\">\n",
              "    <div class=\"colab-df-container\">\n",
              "      <div>\n",
              "<style scoped>\n",
              "    .dataframe tbody tr th:only-of-type {\n",
              "        vertical-align: middle;\n",
              "    }\n",
              "\n",
              "    .dataframe tbody tr th {\n",
              "        vertical-align: top;\n",
              "    }\n",
              "\n",
              "    .dataframe thead th {\n",
              "        text-align: right;\n",
              "    }\n",
              "</style>\n",
              "<table border=\"1\" class=\"dataframe\">\n",
              "  <thead>\n",
              "    <tr style=\"text-align: right;\">\n",
              "      <th></th>\n",
              "      <th>areaUnderROC</th>\n",
              "      <th>maxIter</th>\n",
              "    </tr>\n",
              "  </thead>\n",
              "  <tbody>\n",
              "    <tr>\n",
              "      <th>0</th>\n",
              "      <td>0.825985</td>\n",
              "      <td>1</td>\n",
              "    </tr>\n",
              "    <tr>\n",
              "      <th>1</th>\n",
              "      <td>0.846101</td>\n",
              "      <td>5</td>\n",
              "    </tr>\n",
              "    <tr>\n",
              "      <th>2</th>\n",
              "      <td>0.846660</td>\n",
              "      <td>10</td>\n",
              "    </tr>\n",
              "  </tbody>\n",
              "</table>\n",
              "</div>\n",
              "      <button class=\"colab-df-convert\" onclick=\"convertToInteractive('df-af005bb3-45b3-42b3-a8db-fbaea534a866')\"\n",
              "              title=\"Convert this dataframe to an interactive table.\"\n",
              "              style=\"display:none;\">\n",
              "        \n",
              "  <svg xmlns=\"http://www.w3.org/2000/svg\" height=\"24px\"viewBox=\"0 0 24 24\"\n",
              "       width=\"24px\">\n",
              "    <path d=\"M0 0h24v24H0V0z\" fill=\"none\"/>\n",
              "    <path d=\"M18.56 5.44l.94 2.06.94-2.06 2.06-.94-2.06-.94-.94-2.06-.94 2.06-2.06.94zm-11 1L8.5 8.5l.94-2.06 2.06-.94-2.06-.94L8.5 2.5l-.94 2.06-2.06.94zm10 10l.94 2.06.94-2.06 2.06-.94-2.06-.94-.94-2.06-.94 2.06-2.06.94z\"/><path d=\"M17.41 7.96l-1.37-1.37c-.4-.4-.92-.59-1.43-.59-.52 0-1.04.2-1.43.59L10.3 9.45l-7.72 7.72c-.78.78-.78 2.05 0 2.83L4 21.41c.39.39.9.59 1.41.59.51 0 1.02-.2 1.41-.59l7.78-7.78 2.81-2.81c.8-.78.8-2.07 0-2.86zM5.41 20L4 18.59l7.72-7.72 1.47 1.35L5.41 20z\"/>\n",
              "  </svg>\n",
              "      </button>\n",
              "      \n",
              "  <style>\n",
              "    .colab-df-container {\n",
              "      display:flex;\n",
              "      flex-wrap:wrap;\n",
              "      gap: 12px;\n",
              "    }\n",
              "\n",
              "    .colab-df-convert {\n",
              "      background-color: #E8F0FE;\n",
              "      border: none;\n",
              "      border-radius: 50%;\n",
              "      cursor: pointer;\n",
              "      display: none;\n",
              "      fill: #1967D2;\n",
              "      height: 32px;\n",
              "      padding: 0 0 0 0;\n",
              "      width: 32px;\n",
              "    }\n",
              "\n",
              "    .colab-df-convert:hover {\n",
              "      background-color: #E2EBFA;\n",
              "      box-shadow: 0px 1px 2px rgba(60, 64, 67, 0.3), 0px 1px 3px 1px rgba(60, 64, 67, 0.15);\n",
              "      fill: #174EA6;\n",
              "    }\n",
              "\n",
              "    [theme=dark] .colab-df-convert {\n",
              "      background-color: #3B4455;\n",
              "      fill: #D2E3FC;\n",
              "    }\n",
              "\n",
              "    [theme=dark] .colab-df-convert:hover {\n",
              "      background-color: #434B5C;\n",
              "      box-shadow: 0px 1px 3px 1px rgba(0, 0, 0, 0.15);\n",
              "      filter: drop-shadow(0px 1px 2px rgba(0, 0, 0, 0.3));\n",
              "      fill: #FFFFFF;\n",
              "    }\n",
              "  </style>\n",
              "\n",
              "      <script>\n",
              "        const buttonEl =\n",
              "          document.querySelector('#df-af005bb3-45b3-42b3-a8db-fbaea534a866 button.colab-df-convert');\n",
              "        buttonEl.style.display =\n",
              "          google.colab.kernel.accessAllowed ? 'block' : 'none';\n",
              "\n",
              "        async function convertToInteractive(key) {\n",
              "          const element = document.querySelector('#df-af005bb3-45b3-42b3-a8db-fbaea534a866');\n",
              "          const dataTable =\n",
              "            await google.colab.kernel.invokeFunction('convertToInteractive',\n",
              "                                                     [key], {});\n",
              "          if (!dataTable) return;\n",
              "\n",
              "          const docLinkHtml = 'Like what you see? Visit the ' +\n",
              "            '<a target=\"_blank\" href=https://colab.research.google.com/notebooks/data_table.ipynb>data table notebook</a>'\n",
              "            + ' to learn more about interactive tables.';\n",
              "          element.innerHTML = '';\n",
              "          dataTable['output_type'] = 'display_data';\n",
              "          await google.colab.output.renderOutput(dataTable, element);\n",
              "          const docLink = document.createElement('div');\n",
              "          docLink.innerHTML = docLinkHtml;\n",
              "          element.appendChild(docLink);\n",
              "        }\n",
              "      </script>\n",
              "    </div>\n",
              "  </div>\n",
              "  "
            ]
          },
          "metadata": {},
          "execution_count": 46
        }
      ]
    },
    {
      "cell_type": "markdown",
      "source": [
        "GBT Classifier 사용\n",
        "- Gradient-Boosted Trees (GBTs)"
      ],
      "metadata": {
        "id": "4iYeuRFwuuJb"
      }
    },
    {
      "cell_type": "code",
      "source": [
        "from pyspark.ml.classification import GBTClassifier\n",
        "\n",
        "gbt = GBTClassifier(featuresCol = 'features_scaled', labelCol = 'Survived')\n",
        "gbt_stages = stages + [gbt]"
      ],
      "metadata": {
        "id": "XomgtKYmugkR"
      },
      "execution_count": 47,
      "outputs": []
    },
    {
      "cell_type": "code",
      "source": [
        "from pyspark.ml import Pipeline\n",
        "pipeline = Pipeline(stages = gbt_stages)"
      ],
      "metadata": {
        "id": "WPZe2z5Yu8VH"
      },
      "execution_count": 48,
      "outputs": []
    },
    {
      "cell_type": "code",
      "source": [
        "gbt_stages"
      ],
      "metadata": {
        "colab": {
          "base_uri": "https://localhost:8080/"
        },
        "id": "0DOgqyzQwx13",
        "outputId": "bc58a2eb-0497-4985-c5b9-975de9648458"
      },
      "execution_count": 49,
      "outputs": [
        {
          "output_type": "execute_result",
          "data": {
            "text/plain": [
              "[Imputer_0ba2e2b1da25,\n",
              " StringIndexer_2e414413f40a,\n",
              " VectorAssembler_cccbf7c0b2f4,\n",
              " MinMaxScaler_d80c83dd00d5,\n",
              " GBTClassifier_37a64ddddbf8]"
            ]
          },
          "metadata": {},
          "execution_count": 49
        }
      ]
    },
    {
      "cell_type": "code",
      "source": [
        "from pyspark.ml.tuning import ParamGridBuilder, CrossValidator\n",
        "\n",
        "paramGrid = (ParamGridBuilder()\n",
        "              .addGrid(gbt.maxDepth, [2, 4, 6])\n",
        "              .addGrid(gbt.maxBins, [20, 60])\n",
        "              .addGrid(gbt.maxIter, [10, 20])\n",
        "              .build())\n",
        "\n",
        "cv = CrossValidator(\n",
        "    estimator = pipeline,\n",
        "    estimatorParamMaps = paramGrid,\n",
        "    evaluator = evaluator,\n",
        "    numFolds = 5\n",
        ")"
      ],
      "metadata": {
        "id": "CzmW9DeMvJjN"
      },
      "execution_count": 50,
      "outputs": []
    },
    {
      "cell_type": "code",
      "source": [
        "cvModel = cv.fit(train)\n",
        "gbt_cv_predictions = cvModel.transform(test)\n",
        "evaluator.evaluate(gbt_cv_predictions)"
      ],
      "metadata": {
        "colab": {
          "base_uri": "https://localhost:8080/"
        },
        "id": "HFcEs6iivNEa",
        "outputId": "e30d2939-669c-4f0b-8f23-ae1cb6f0297c"
      },
      "execution_count": 51,
      "outputs": [
        {
          "output_type": "execute_result",
          "data": {
            "text/plain": [
              "0.8692843254092705"
            ]
          },
          "metadata": {},
          "execution_count": 51
        }
      ]
    }
  ]
}
