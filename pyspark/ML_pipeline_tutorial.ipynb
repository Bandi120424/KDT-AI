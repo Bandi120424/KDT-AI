{
  "nbformat": 4,
  "nbformat_minor": 0,
  "metadata": {
    "colab": {
      "provenance": [],
      "authorship_tag": "ABX9TyPDKm88bOdv0w3wE6nLJyvu",
      "include_colab_link": true
    },
    "kernelspec": {
      "name": "python3",
      "display_name": "Python 3"
    },
    "language_info": {
      "name": "python"
    }
  },
  "cells": [
    {
      "cell_type": "markdown",
      "metadata": {
        "id": "view-in-github",
        "colab_type": "text"
      },
      "source": [
        "<a href=\"https://colab.research.google.com/github/Bandi120424/KDT-AI/blob/Month-3/pyspark/ML_pipeline_tutorial.ipynb\" target=\"_parent\"><img src=\"https://colab.research.google.com/assets/colab-badge.svg\" alt=\"Open In Colab\"/></a>"
      ]
    },
    {
      "cell_type": "code",
      "source": [
        "!pip install pyspark==3.3.1 py4j==0.10.9.5"
      ],
      "metadata": {
        "colab": {
          "base_uri": "https://localhost:8080/"
        },
        "id": "uYuArmsyK1YL",
        "outputId": "4781d7c8-679a-442e-8fe4-0832391305ed"
      },
      "execution_count": null,
      "outputs": [
        {
          "output_type": "stream",
          "name": "stdout",
          "text": [
            "Looking in indexes: https://pypi.org/simple, https://us-python.pkg.dev/colab-wheels/public/simple/\n",
            "Collecting pyspark==3.3.1\n",
            "  Downloading pyspark-3.3.1.tar.gz (281.4 MB)\n",
            "\u001b[K     |████████████████████████████████| 281.4 MB 47 kB/s \n",
            "\u001b[?25hCollecting py4j==0.10.9.5\n",
            "  Downloading py4j-0.10.9.5-py2.py3-none-any.whl (199 kB)\n",
            "\u001b[K     |████████████████████████████████| 199 kB 75.1 MB/s \n",
            "\u001b[?25hBuilding wheels for collected packages: pyspark\n",
            "  Building wheel for pyspark (setup.py) ... \u001b[?25l\u001b[?25hdone\n",
            "  Created wheel for pyspark: filename=pyspark-3.3.1-py2.py3-none-any.whl size=281845512 sha256=f6cdc38e0f2f80ca7aac384c2aaacbda91a2491469f614ceda04044add202a4a\n",
            "  Stored in directory: /root/.cache/pip/wheels/43/dc/11/ec201cd671da62fa9c5cc77078235e40722170ceba231d7598\n",
            "Successfully built pyspark\n",
            "Installing collected packages: py4j, pyspark\n",
            "Successfully installed py4j-0.10.9.5 pyspark-3.3.1\n"
          ]
        }
      ]
    },
    {
      "cell_type": "code",
      "source": [
        "from pyspark.sql import SparkSession\n",
        "\n",
        "spark = SparkSession \\\n",
        "    .builder \\\n",
        "    .appName('pipeline example') \\\n",
        "    .getOrCreate()"
      ],
      "metadata": {
        "id": "xzuIGApLK6BO"
      },
      "execution_count": null,
      "outputs": []
    },
    {
      "cell_type": "code",
      "execution_count": null,
      "metadata": {
        "id": "S1v64LJPKjS6"
      },
      "outputs": [],
      "source": [
        "from pyspark.ml.linalg import Vectors\n",
        "from pyspark.ml.classification import LogisticRegression\n",
        "\n",
        "training = spark.createDataFrame([\n",
        "    (1.0, Vectors.dense([0.0, 1.1, 0.1])),\n",
        "    (0.0, Vectors.dense([2.0, 1.0, -1.0])),\n",
        "    (0.0, Vectors.dense([2.0, 1.3, 1.0])),\n",
        "    (1.0, Vectors.dense([0.0, 1.2, -0.5]))], [\"label\", \"features\"])"
      ]
    },
    {
      "cell_type": "code",
      "source": [
        "training.show()"
      ],
      "metadata": {
        "colab": {
          "base_uri": "https://localhost:8080/"
        },
        "id": "sVyT0Vz5Kvdl",
        "outputId": "854db1d9-6951-47ed-8ec5-878d18cd8722"
      },
      "execution_count": null,
      "outputs": [
        {
          "output_type": "stream",
          "name": "stdout",
          "text": [
            "+-----+--------------+\n",
            "|label|      features|\n",
            "+-----+--------------+\n",
            "|  1.0| [0.0,1.1,0.1]|\n",
            "|  0.0|[2.0,1.0,-1.0]|\n",
            "|  0.0| [2.0,1.3,1.0]|\n",
            "|  1.0|[0.0,1.2,-0.5]|\n",
            "+-----+--------------+\n",
            "\n"
          ]
        }
      ]
    },
    {
      "cell_type": "code",
      "source": [
        "lr = LogisticRegression(maxIter=10, regParam=0.01) #estimator \n",
        "model1 = lr.fit(training)\n",
        "print(\"Model 1 was fit using parameters: \")\n",
        "print(model1.extractParamMap())"
      ],
      "metadata": {
        "colab": {
          "base_uri": "https://localhost:8080/"
        },
        "id": "_K-BNCWQLERH",
        "outputId": "fd44de71-74fb-4446-ba07-96a4bdfce405"
      },
      "execution_count": null,
      "outputs": [
        {
          "output_type": "stream",
          "name": "stdout",
          "text": [
            "Model 1 was fit using parameters: \n",
            "{Param(parent='LogisticRegression_9b32fa39128c', name='aggregationDepth', doc='suggested depth for treeAggregate (>= 2).'): 2, Param(parent='LogisticRegression_9b32fa39128c', name='elasticNetParam', doc='the ElasticNet mixing parameter, in range [0, 1]. For alpha = 0, the penalty is an L2 penalty. For alpha = 1, it is an L1 penalty.'): 0.0, Param(parent='LogisticRegression_9b32fa39128c', name='family', doc='The name of family which is a description of the label distribution to be used in the model. Supported options: auto, binomial, multinomial'): 'auto', Param(parent='LogisticRegression_9b32fa39128c', name='featuresCol', doc='features column name.'): 'features', Param(parent='LogisticRegression_9b32fa39128c', name='fitIntercept', doc='whether to fit an intercept term.'): True, Param(parent='LogisticRegression_9b32fa39128c', name='labelCol', doc='label column name.'): 'label', Param(parent='LogisticRegression_9b32fa39128c', name='maxBlockSizeInMB', doc='maximum memory in MB for stacking input data into blocks. Data is stacked within partitions. If more than remaining data size in a partition then it is adjusted to the data size. Default 0.0 represents choosing optimal value, depends on specific algorithm. Must be >= 0.'): 0.0, Param(parent='LogisticRegression_9b32fa39128c', name='maxIter', doc='max number of iterations (>= 0).'): 10, Param(parent='LogisticRegression_9b32fa39128c', name='predictionCol', doc='prediction column name.'): 'prediction', Param(parent='LogisticRegression_9b32fa39128c', name='probabilityCol', doc='Column name for predicted class conditional probabilities. Note: Not all models output well-calibrated probability estimates! These probabilities should be treated as confidences, not precise probabilities.'): 'probability', Param(parent='LogisticRegression_9b32fa39128c', name='rawPredictionCol', doc='raw prediction (a.k.a. confidence) column name.'): 'rawPrediction', Param(parent='LogisticRegression_9b32fa39128c', name='regParam', doc='regularization parameter (>= 0).'): 0.01, Param(parent='LogisticRegression_9b32fa39128c', name='standardization', doc='whether to standardize the training features before fitting the model.'): True, Param(parent='LogisticRegression_9b32fa39128c', name='threshold', doc='Threshold in binary classification prediction, in range [0, 1]. If threshold and thresholds are both set, they must match.e.g. if threshold is p, then thresholds must be equal to [1-p, p].'): 0.5, Param(parent='LogisticRegression_9b32fa39128c', name='tol', doc='the convergence tolerance for iterative algorithms (>= 0).'): 1e-06}\n"
          ]
        }
      ]
    },
    {
      "cell_type": "code",
      "source": [
        "paramMap = {lr.maxIter: 20}\n",
        "paramMap.update({lr.regParam: 0.1, lr.threshold: 0.55})\n",
        "paramMap2 = {lr.probabilityCol: \"myProbability\"}\n",
        "paramMapCombined = paramMap.copy()\n",
        "paramMapCombined.update(paramMap2)  # type: ignore"
      ],
      "metadata": {
        "id": "7zKDBEwtLKSx"
      },
      "execution_count": null,
      "outputs": []
    },
    {
      "cell_type": "code",
      "source": [
        "paramMap"
      ],
      "metadata": {
        "colab": {
          "base_uri": "https://localhost:8080/"
        },
        "id": "p1u328gALP5V",
        "outputId": "972c1ffc-c23f-4d5c-d131-87c50b9ee13f"
      },
      "execution_count": null,
      "outputs": [
        {
          "output_type": "execute_result",
          "data": {
            "text/plain": [
              "{Param(parent='LogisticRegression_9b32fa39128c', name='maxIter', doc='max number of iterations (>= 0).'): 20,\n",
              " Param(parent='LogisticRegression_9b32fa39128c', name='regParam', doc='regularization parameter (>= 0).'): 0.1,\n",
              " Param(parent='LogisticRegression_9b32fa39128c', name='threshold', doc='Threshold in binary classification prediction, in range [0, 1]. If threshold and thresholds are both set, they must match.e.g. if threshold is p, then thresholds must be equal to [1-p, p].'): 0.55}"
            ]
          },
          "metadata": {},
          "execution_count": 15
        }
      ]
    },
    {
      "cell_type": "code",
      "source": [
        "paramMapCombined #paramMap과 paramMap2를 합친 속성이 들어있음 "
      ],
      "metadata": {
        "colab": {
          "base_uri": "https://localhost:8080/"
        },
        "id": "8nWWikprM4wg",
        "outputId": "a678aa5e-dbb5-4e88-9379-985f4ca39d58"
      },
      "execution_count": null,
      "outputs": [
        {
          "output_type": "execute_result",
          "data": {
            "text/plain": [
              "{Param(parent='LogisticRegression_9b32fa39128c', name='maxIter', doc='max number of iterations (>= 0).'): 20,\n",
              " Param(parent='LogisticRegression_9b32fa39128c', name='regParam', doc='regularization parameter (>= 0).'): 0.1,\n",
              " Param(parent='LogisticRegression_9b32fa39128c', name='threshold', doc='Threshold in binary classification prediction, in range [0, 1]. If threshold and thresholds are both set, they must match.e.g. if threshold is p, then thresholds must be equal to [1-p, p].'): 0.55,\n",
              " Param(parent='LogisticRegression_9b32fa39128c', name='probabilityCol', doc='Column name for predicted class conditional probabilities. Note: Not all models output well-calibrated probability estimates! These probabilities should be treated as confidences, not precise probabilities.'): 'myProbability'}"
            ]
          },
          "metadata": {},
          "execution_count": 17
        }
      ]
    },
    {
      "cell_type": "markdown",
      "source": [
        "paramMapCombined의 parameter를 이용하여 학습"
      ],
      "metadata": {
        "id": "LXB-t9rdNO2w"
      }
    },
    {
      "cell_type": "code",
      "source": [
        "model2 = lr.fit(training, paramMapCombined)\n",
        "print(\"Model 2 was fit using parameters: \")\n",
        "print(model2.extractParamMap())"
      ],
      "metadata": {
        "colab": {
          "base_uri": "https://localhost:8080/"
        },
        "id": "eV1h3883NKf0",
        "outputId": "cf0d757e-3463-4902-9a05-425c493f52b2"
      },
      "execution_count": null,
      "outputs": [
        {
          "output_type": "stream",
          "name": "stdout",
          "text": [
            "Model 2 was fit using parameters: \n",
            "{Param(parent='LogisticRegression_9b32fa39128c', name='aggregationDepth', doc='suggested depth for treeAggregate (>= 2).'): 2, Param(parent='LogisticRegression_9b32fa39128c', name='elasticNetParam', doc='the ElasticNet mixing parameter, in range [0, 1]. For alpha = 0, the penalty is an L2 penalty. For alpha = 1, it is an L1 penalty.'): 0.0, Param(parent='LogisticRegression_9b32fa39128c', name='family', doc='The name of family which is a description of the label distribution to be used in the model. Supported options: auto, binomial, multinomial'): 'auto', Param(parent='LogisticRegression_9b32fa39128c', name='featuresCol', doc='features column name.'): 'features', Param(parent='LogisticRegression_9b32fa39128c', name='fitIntercept', doc='whether to fit an intercept term.'): True, Param(parent='LogisticRegression_9b32fa39128c', name='labelCol', doc='label column name.'): 'label', Param(parent='LogisticRegression_9b32fa39128c', name='maxBlockSizeInMB', doc='maximum memory in MB for stacking input data into blocks. Data is stacked within partitions. If more than remaining data size in a partition then it is adjusted to the data size. Default 0.0 represents choosing optimal value, depends on specific algorithm. Must be >= 0.'): 0.0, Param(parent='LogisticRegression_9b32fa39128c', name='maxIter', doc='max number of iterations (>= 0).'): 20, Param(parent='LogisticRegression_9b32fa39128c', name='predictionCol', doc='prediction column name.'): 'prediction', Param(parent='LogisticRegression_9b32fa39128c', name='probabilityCol', doc='Column name for predicted class conditional probabilities. Note: Not all models output well-calibrated probability estimates! These probabilities should be treated as confidences, not precise probabilities.'): 'myProbability', Param(parent='LogisticRegression_9b32fa39128c', name='rawPredictionCol', doc='raw prediction (a.k.a. confidence) column name.'): 'rawPrediction', Param(parent='LogisticRegression_9b32fa39128c', name='regParam', doc='regularization parameter (>= 0).'): 0.1, Param(parent='LogisticRegression_9b32fa39128c', name='standardization', doc='whether to standardize the training features before fitting the model.'): True, Param(parent='LogisticRegression_9b32fa39128c', name='threshold', doc='Threshold in binary classification prediction, in range [0, 1]. If threshold and thresholds are both set, they must match.e.g. if threshold is p, then thresholds must be equal to [1-p, p].'): 0.55, Param(parent='LogisticRegression_9b32fa39128c', name='tol', doc='the convergence tolerance for iterative algorithms (>= 0).'): 1e-06}\n"
          ]
        }
      ]
    },
    {
      "cell_type": "code",
      "source": [
        "test = spark.createDataFrame([\n",
        "    (1.0, Vectors.dense([-1.0, 1.5, 1.3])),\n",
        "    (0.0, Vectors.dense([3.0, 2.0, -0.1])),\n",
        "    (1.0, Vectors.dense([0.0, 2.2, -1.5]))], [\"label\", \"features\"])"
      ],
      "metadata": {
        "id": "FdGXmhfdNZar"
      },
      "execution_count": null,
      "outputs": []
    },
    {
      "cell_type": "code",
      "source": [
        "prediction = model2.transform(test)\n",
        "result = prediction.select(\"features\", \"label\", \"myProbability\", \"prediction\") \\\n",
        "    .collect()"
      ],
      "metadata": {
        "id": "XSZLj91jNblc"
      },
      "execution_count": null,
      "outputs": []
    },
    {
      "cell_type": "code",
      "source": [
        "for row in result:\n",
        "    print(\"features=%s, label=%s -> prob=%s, prediction=%s\"\n",
        "          % (row.features, row.label, row.myProbability, row.prediction))"
      ],
      "metadata": {
        "colab": {
          "base_uri": "https://localhost:8080/"
        },
        "id": "NBuhMnYqNdQr",
        "outputId": "c95b7f7e-cbf8-4c49-cf00-5a5107b11f23"
      },
      "execution_count": null,
      "outputs": [
        {
          "output_type": "stream",
          "name": "stdout",
          "text": [
            "features=[-1.0,1.5,1.3], label=1.0 -> prob=[0.057073049935725456,0.9429269500642745], prediction=1.0\n",
            "features=[3.0,2.0,-0.1], label=0.0 -> prob=[0.9238521956443227,0.07614780435567725], prediction=0.0\n",
            "features=[0.0,2.2,-1.5], label=1.0 -> prob=[0.10972780286187808,0.8902721971381219], prediction=1.0\n"
          ]
        }
      ]
    },
    {
      "cell_type": "markdown",
      "source": [
        "Example: Pipeline"
      ],
      "metadata": {
        "id": "ffg41_08Mz4J"
      }
    },
    {
      "cell_type": "code",
      "source": [
        "from pyspark.ml import Pipeline\n",
        "from pyspark.ml.classification import LogisticRegression\n",
        "from pyspark.ml.feature import HashingTF, Tokenizer\n",
        "\n",
        "training = spark.createDataFrame([\n",
        "    (0, \"a b c d e spark\", 1.0),\n",
        "    (1, \"b d\", 0.0),\n",
        "    (2, \"spark f g h\", 1.0),\n",
        "    (3, \"hadoop mapreduce\", 0.0)\n",
        "], [\"id\", \"text\", \"label\"])\n"
      ],
      "metadata": {
        "id": "BTmOkS_nOggh"
      },
      "execution_count": null,
      "outputs": []
    },
    {
      "cell_type": "markdown",
      "source": [
        "tokenizer + hashingTF + LogisticRegression 으로 구성된 ML pipeline 정의"
      ],
      "metadata": {
        "id": "1Jhc0fyDOnsv"
      }
    },
    {
      "cell_type": "code",
      "source": [
        "tokenizer = Tokenizer(inputCol=\"text\", outputCol=\"words\")\n",
        "hashingTF = HashingTF(inputCol=tokenizer.getOutputCol(), outputCol=\"features\")\n",
        "lr = LogisticRegression(maxIter=10, regParam=0.001)\n",
        "pipeline = Pipeline(stages=[tokenizer, hashingTF, lr])"
      ],
      "metadata": {
        "id": "bGnutwQkOmbe"
      },
      "execution_count": null,
      "outputs": []
    },
    {
      "cell_type": "code",
      "source": [
        "pipeline.getStages()"
      ],
      "metadata": {
        "colab": {
          "base_uri": "https://localhost:8080/"
        },
        "id": "hDrZBaVNQ7S4",
        "outputId": "12f4f1af-32eb-4119-d803-60b60f60b696"
      },
      "execution_count": null,
      "outputs": [
        {
          "output_type": "execute_result",
          "data": {
            "text/plain": [
              "[Tokenizer_f1c90bc556ad,\n",
              " HashingTF_bb629ade7ac9,\n",
              " LogisticRegression_32a443469f21]"
            ]
          },
          "metadata": {},
          "execution_count": 35
        }
      ]
    },
    {
      "cell_type": "code",
      "source": [
        "pipeline.params"
      ],
      "metadata": {
        "id": "PniU9NFRRkfp",
        "outputId": "ff751697-6485-4c5e-9cb5-5f3cdf3b1d68",
        "colab": {
          "base_uri": "https://localhost:8080/"
        }
      },
      "execution_count": null,
      "outputs": [
        {
          "output_type": "execute_result",
          "data": {
            "text/plain": [
              "[Param(parent='Pipeline_bfe83f1ff7fb', name='stages', doc='a list of pipeline stages')]"
            ]
          },
          "metadata": {},
          "execution_count": 37
        }
      ]
    },
    {
      "cell_type": "code",
      "source": [
        "model = pipeline.fit(training)"
      ],
      "metadata": {
        "id": "DpiwrajpPoXC"
      },
      "execution_count": null,
      "outputs": []
    },
    {
      "cell_type": "code",
      "source": [
        "test = spark.createDataFrame([\n",
        "    (4, \"spark i j k\"),\n",
        "    (5, \"l m n\"),\n",
        "    (6, \"spark hadoop spark\"),\n",
        "    (7, \"apache hadoop\")\n",
        "], [\"id\", \"text\"])\n"
      ],
      "metadata": {
        "id": "VE5VOfh8PqF9"
      },
      "execution_count": null,
      "outputs": []
    },
    {
      "cell_type": "code",
      "source": [
        "prediction = model.transform(test)\n",
        "selected = prediction.select(\"id\", \"text\", \"probability\", \"prediction\")\n",
        "for row in selected.collect():\n",
        "    rid, text, prob, prediction = row\n",
        "    print(\n",
        "        \"(%d, %s) --> prob=%s, prediction=%f\" % (\n",
        "            rid, text, str(prob), prediction   # type: ignore\n",
        "        )\n",
        "    )"
      ],
      "metadata": {
        "colab": {
          "base_uri": "https://localhost:8080/"
        },
        "id": "z20Ip2oVPrzq",
        "outputId": "20d01e3d-46e5-4189-ca36-e00f99e21ffe"
      },
      "execution_count": null,
      "outputs": [
        {
          "output_type": "stream",
          "name": "stdout",
          "text": [
            "(4, spark i j k) --> prob=[0.6292098489668476,0.3707901510331524], prediction=0.000000\n",
            "(5, l m n) --> prob=[0.984770006762304,0.015229993237696027], prediction=0.000000\n",
            "(6, spark hadoop spark) --> prob=[0.13412348342566055,0.8658765165743394], prediction=1.000000\n",
            "(7, apache hadoop) --> prob=[0.9955732114398529,0.00442678856014711], prediction=0.000000\n"
          ]
        }
      ]
    }
  ]
}