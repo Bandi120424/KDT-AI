{
  "cells": [
    {
      "cell_type": "code",
      "execution_count": null,
      "metadata": {
        "id": "NSK1DzL4n5wP"
      },
      "outputs": [],
      "source": [
        "%matplotlib inline"
      ]
    },
    {
      "cell_type": "markdown",
      "metadata": {
        "id": "OJwbKhJRn5wS"
      },
      "source": [
        "\n",
        "# NLP From Scratch: Classifying Names with a Character-Level RNN\n",
        "**Author**: [Sean Robertson](https://github.com/spro/practical-pytorch)\n",
        "\n",
        "Goal: 18개 언어의 몇천개의 성(last name)을 학습, 특정 이름이 어떤 언어에 속하는지 예측\n",
        "- NLP 모델링을 위한 데이터 전처리 과정에서 'torchtext' 의 함수들을 사용하지 않음\n",
        "- character-level RNN: 단어를 글자의 연속으로 이해, 각 스텝에서 예측치와 hidden state (과거 hidden state에 영향받음)를 생성 \n",
        "\n",
        "\n",
        "    $ python predict.py Hinton\n",
        "    (-0.47) Scottish\n",
        "    (-1.52) English\n",
        "    (-3.57) Irish\n",
        "\n",
        "    $ python predict.py Schmidhuber\n",
        "    (-0.19) German\n",
        "    (-2.48) Czech\n",
        "    (-2.68) Dutch\n",
        "\n",
        "\n",
        "**Recommended Reading:**\n",
        "\n",
        "-  https://pytorch.org/ For installation instructions\n",
        "-  :doc:`/beginner/deep_learning_60min_blitz` to get started with PyTorch in general\n",
        "-  :doc:`/beginner/pytorch_with_examples` for a wide and deep overview\n",
        "-  :doc:`/beginner/former_torchies_tutorial` if you are former Lua Torch user\n",
        "\n",
        "RNN 관련 문헌:\n",
        "\n",
        "-  [The Unreasonable Effectiveness of Recurrent Neural\n",
        "   Networks](https://karpathy.github.io/2015/05/21/rnn-effectiveness/)_\n",
        "   shows a bunch of real life examples\n",
        "-  [Understanding LSTM\n",
        "   Networks](https://colah.github.io/posts/2015-08-Understanding-LSTMs/)_\n",
        "   is about LSTMs specifically but also informative about RNNs in\n",
        "   general\n",
        "\n",
        "## Preparing the Data\n",
        "\n",
        ".. Note::\n",
        "   Download the data from\n",
        "   [here](https://download.pytorch.org/tutorial/data.zip)\n",
        "   and extract it to the current directory.\n",
        "\n",
        "Included in the ``data/names`` directory are 18 text files named as\n",
        "\"[Language].txt\". Each file contains a bunch of names, one name per\n",
        "line, mostly romanized (but we still need to convert from Unicode to\n",
        "ASCII).\n",
        "\n",
        "We'll end up with a dictionary of lists of names per language,\n",
        "``{language: [names ...]}``. The generic variables \"category\" and \"line\"\n",
        "(for language and name in our case) are used for later extensibility.\n"
      ]
    },
    {
      "cell_type": "code",
      "execution_count": null,
      "metadata": {
        "id": "h4nIjOH9n5wW",
        "colab": {
          "base_uri": "https://localhost:8080/"
        },
        "outputId": "76a544db-2a0c-4ae4-ad1b-a987bc99802f"
      },
      "outputs": [
        {
          "output_type": "stream",
          "name": "stdout",
          "text": [
            "['data/Portuguese.txt', 'data/English.txt', 'data/Polish.txt', 'data/Italian.txt', 'data/French.txt', 'data/Russian.txt', 'data/Japanese.txt', 'data/Spanish.txt', 'data/Irish.txt', 'data/Korean.txt', 'data/Chinese.txt', 'data/German.txt', 'data/Dutch.txt', 'data/Greek.txt', 'data/Scottish.txt', 'data/Vietnamese.txt', 'data/Czech.txt', 'data/Arabic.txt']\n",
            "Slusarski\n"
          ]
        }
      ],
      "source": [
        "from __future__ import unicode_literals, print_function, division\n",
        "from io import open\n",
        "import glob\n",
        "import os\n",
        "\n",
        "def findFiles(path): return glob.glob(path) #조건에 맞는 파일명을 리스트 형식으로 반환\n",
        "\n",
        "print(findFiles('data/*.txt'))\n",
        "\n",
        "import unicodedata\n",
        "import string\n",
        "\n",
        "all_letters = string.ascii_letters + \" .,;'\"\n",
        "n_letters = len(all_letters)\n",
        "\n",
        "# Turn a Unicode string to plain ASCII, thanks to https://stackoverflow.com/a/518232/2809427 (특수기호를 제거하여 형식을 통일)\n",
        "def unicodeToAscii(s):\n",
        "    return ''.join(\n",
        "        c for c in unicodedata.normalize('NFD', s) #유니코드 문자열 정규화 (같은 글자라도 형식이 다를 수 있으므로, 정확한 문자열 처리를 위해 필수) \n",
        "        if unicodedata.category(c) != 'Mn'\n",
        "        and c in all_letters\n",
        "    )\n",
        "\n",
        "print(unicodeToAscii('Ślusàrski'))\n",
        "\n",
        "# Build the category_lines dictionary, a list of names per language\n",
        "category_lines = {}\n",
        "all_categories = []\n",
        "\n",
        "# Read a file and split into lines\n",
        "def readLines(filename):\n",
        "    lines = open(filename, encoding='utf-8').read().strip().split('\\n')\n",
        "    return [unicodeToAscii(line) for line in lines]\n",
        "\n",
        "for filename in findFiles('data/*.txt'):\n",
        "    category = os.path.splitext(os.path.basename(filename))[0]\n",
        "    all_categories.append(category)\n",
        "    lines = readLines(filename)\n",
        "    category_lines[category] = lines\n",
        "\n",
        "n_categories = len(all_categories)"
      ]
    },
    {
      "cell_type": "code",
      "source": [
        "print(n_categories)"
      ],
      "metadata": {
        "colab": {
          "base_uri": "https://localhost:8080/"
        },
        "id": "KIZa9pHQtaVN",
        "outputId": "732bd234-c126-4b79-a343-9130fc521da0"
      },
      "execution_count": null,
      "outputs": [
        {
          "output_type": "stream",
          "name": "stdout",
          "text": [
            "18\n"
          ]
        }
      ]
    },
    {
      "cell_type": "markdown",
      "metadata": {
        "id": "3D0qOoLwn5wZ"
      },
      "source": [
        "Now we have ``category_lines``, a dictionary mapping each category\n",
        "(language) to a list of lines (names). We also kept track of\n",
        "``all_categories`` (just a list of languages) and ``n_categories`` for\n",
        "later reference.\n",
        "\n",
        "\n"
      ]
    },
    {
      "cell_type": "code",
      "execution_count": null,
      "metadata": {
        "id": "jai91kNCn5wa",
        "colab": {
          "base_uri": "https://localhost:8080/"
        },
        "outputId": "292096bd-f5a9-4956-d199-519a825551e3"
      },
      "outputs": [
        {
          "output_type": "stream",
          "name": "stdout",
          "text": [
            "['Abandonato', 'Abatangelo', 'Abatantuono', 'Abate', 'Abategiovanni']\n"
          ]
        }
      ],
      "source": [
        "print(category_lines['Italian'][:5])"
      ]
    },
    {
      "cell_type": "markdown",
      "metadata": {
        "id": "0MqK1wNln5wb"
      },
      "source": [
        "### Turning Names into Tensors\n",
        "\n",
        "이름을 텐서로 변환\n",
        "- single letter: 원-핫 인코딩 이용하여 ``<1 x n_letters>`` 의 벡터로\n",
        "- 단어를 표현하기 위해서 위 벡터들을 붙여 2D matrix로 만듦  \n",
        "(``<line_length x 1 x n_letters>``; extra 1 dimension is because PyTorch assumes everything is in batches - we're just using a batch size of 1 here)\n",
        "\n",
        "\n"
      ]
    },
    {
      "cell_type": "code",
      "execution_count": null,
      "metadata": {
        "id": "nneg1T82n5wc",
        "colab": {
          "base_uri": "https://localhost:8080/"
        },
        "outputId": "0543f5d8-8c6c-42f7-a352-ab793fd6c73d"
      },
      "outputs": [
        {
          "output_type": "stream",
          "name": "stdout",
          "text": [
            "tensor([[0., 0., 0., 0., 0., 0., 0., 0., 0., 0., 0., 0., 0., 0., 0., 0., 0., 0.,\n",
            "         0., 0., 0., 0., 0., 0., 0., 0., 0., 0., 0., 0., 0., 0., 0., 0., 0., 1.,\n",
            "         0., 0., 0., 0., 0., 0., 0., 0., 0., 0., 0., 0., 0., 0., 0., 0., 0., 0.,\n",
            "         0., 0., 0.]])\n",
            "torch.Size([5, 1, 57])\n"
          ]
        }
      ],
      "source": [
        "import torch\n",
        "\n",
        "# Find letter index from all_letters, e.g. \"a\" = 0\n",
        "def letterToIndex(letter):\n",
        "    return all_letters.find(letter)\n",
        "\n",
        "# Just for demonstration, turn a letter into a <1 x n_letters> Tensor\n",
        "def letterToTensor(letter):\n",
        "    tensor = torch.zeros(1, n_letters)\n",
        "    tensor[0][letterToIndex(letter)] = 1\n",
        "    return tensor\n",
        "\n",
        "# Turn a line into a <line_length x 1 x n_letters>,\n",
        "# or an array of one-hot letter vectors\n",
        "def lineToTensor(line):\n",
        "    tensor = torch.zeros(len(line), 1, n_letters)\n",
        "    for li, letter in enumerate(line):\n",
        "        tensor[li][0][letterToIndex(letter)] = 1\n",
        "    return tensor\n",
        "\n",
        "print(letterToTensor('J'))\n",
        "\n",
        "print(lineToTensor('Jones').size())"
      ]
    },
    {
      "cell_type": "code",
      "source": [
        "print(lineToTensor('Jones'))"
      ],
      "metadata": {
        "colab": {
          "base_uri": "https://localhost:8080/"
        },
        "id": "SfwFwpW3xl-E",
        "outputId": "329d583a-81b1-4bb6-d8ac-379ddcab4048"
      },
      "execution_count": null,
      "outputs": [
        {
          "output_type": "stream",
          "name": "stdout",
          "text": [
            "tensor([[[0., 0., 0., 0., 0., 0., 0., 0., 0., 0., 0., 0., 0., 0., 0., 0., 0.,\n",
            "          0., 0., 0., 0., 0., 0., 0., 0., 0., 0., 0., 0., 0., 0., 0., 0., 0.,\n",
            "          0., 1., 0., 0., 0., 0., 0., 0., 0., 0., 0., 0., 0., 0., 0., 0., 0.,\n",
            "          0., 0., 0., 0., 0., 0.]],\n",
            "\n",
            "        [[0., 0., 0., 0., 0., 0., 0., 0., 0., 0., 0., 0., 0., 0., 1., 0., 0.,\n",
            "          0., 0., 0., 0., 0., 0., 0., 0., 0., 0., 0., 0., 0., 0., 0., 0., 0.,\n",
            "          0., 0., 0., 0., 0., 0., 0., 0., 0., 0., 0., 0., 0., 0., 0., 0., 0.,\n",
            "          0., 0., 0., 0., 0., 0.]],\n",
            "\n",
            "        [[0., 0., 0., 0., 0., 0., 0., 0., 0., 0., 0., 0., 0., 1., 0., 0., 0.,\n",
            "          0., 0., 0., 0., 0., 0., 0., 0., 0., 0., 0., 0., 0., 0., 0., 0., 0.,\n",
            "          0., 0., 0., 0., 0., 0., 0., 0., 0., 0., 0., 0., 0., 0., 0., 0., 0.,\n",
            "          0., 0., 0., 0., 0., 0.]],\n",
            "\n",
            "        [[0., 0., 0., 0., 1., 0., 0., 0., 0., 0., 0., 0., 0., 0., 0., 0., 0.,\n",
            "          0., 0., 0., 0., 0., 0., 0., 0., 0., 0., 0., 0., 0., 0., 0., 0., 0.,\n",
            "          0., 0., 0., 0., 0., 0., 0., 0., 0., 0., 0., 0., 0., 0., 0., 0., 0.,\n",
            "          0., 0., 0., 0., 0., 0.]],\n",
            "\n",
            "        [[0., 0., 0., 0., 0., 0., 0., 0., 0., 0., 0., 0., 0., 0., 0., 0., 0.,\n",
            "          0., 1., 0., 0., 0., 0., 0., 0., 0., 0., 0., 0., 0., 0., 0., 0., 0.,\n",
            "          0., 0., 0., 0., 0., 0., 0., 0., 0., 0., 0., 0., 0., 0., 0., 0., 0.,\n",
            "          0., 0., 0., 0., 0., 0.]]])\n"
          ]
        }
      ]
    },
    {
      "cell_type": "markdown",
      "metadata": {
        "id": "oylR6MOCn5wd"
      },
      "source": [
        "## Creating the Network\n",
        "\n",
        "Before autograd, creating a recurrent neural network in Torch involved\n",
        "cloning the parameters of a layer over several timesteps. The layers\n",
        "held hidden state and gradients which are now entirely handled by the\n",
        "graph itself. This means you can implement a RNN in a very \"pure\" way,\n",
        "as regular feed-forward layers.\n",
        "\n",
        "This RNN module (mostly copied from [the PyTorch for Torch users\n",
        "tutorial](https://pytorch.org/tutorials/beginner/former_torchies/\n",
        "nn_tutorial.html#example-2-recurrent-net)_)\n",
        "is just 2 linear layers which operate on an input and hidden state, with\n",
        "a LogSoftmax layer after the output.\n",
        "\n",
        ".. figure:: https://i.imgur.com/Z2xbySO.png\n",
        "   :alt:\n",
        "\n",
        "\n",
        "\n"
      ]
    },
    {
      "cell_type": "code",
      "execution_count": null,
      "metadata": {
        "id": "C4tYBdVCn5wd"
      },
      "outputs": [],
      "source": [
        "import torch.nn as nn\n",
        "\n",
        "class RNN(nn.Module):\n",
        "    def __init__(self, input_size, hidden_size, output_size):\n",
        "        super(RNN, self).__init__()\n",
        "\n",
        "        self.hidden_size = hidden_size\n",
        "\n",
        "        self.i2h = nn.Linear(input_size + hidden_size, hidden_size) #input to hidden layer\n",
        "        self.i2o = nn.Linear(input_size + hidden_size, output_size) #input to output layer\n",
        "        self.softmax = nn.LogSoftmax(dim=1)\n",
        "\n",
        "    def forward(self, input, hidden):\n",
        "        combined = torch.cat((input, hidden), 1)\n",
        "        hidden = self.i2h(combined)\n",
        "        output = self.i2o(combined)\n",
        "        output = self.softmax(output)\n",
        "        return output, hidden\n",
        "\n",
        "    def initHidden(self):\n",
        "        return torch.zeros(1, self.hidden_size)\n",
        "\n",
        "n_hidden = 128\n",
        "rnn = RNN(n_letters, n_hidden, n_categories)"
      ]
    },
    {
      "cell_type": "markdown",
      "metadata": {
        "id": "YfyS2I5tn5we"
      },
      "source": [
        "- input과 이전 hidden state (최초에는 0) 를 넘겨주어야 함 \n",
        "\n",
        "\n"
      ]
    },
    {
      "cell_type": "code",
      "execution_count": null,
      "metadata": {
        "id": "7j_vtRv1n5we"
      },
      "outputs": [],
      "source": [
        "input = letterToTensor('A')\n",
        "hidden = torch.zeros(1, n_hidden)\n",
        "\n",
        "output, next_hidden = rnn(input, hidden)"
      ]
    },
    {
      "cell_type": "code",
      "source": [
        "output"
      ],
      "metadata": {
        "colab": {
          "base_uri": "https://localhost:8080/"
        },
        "id": "UeWvOtEmzgC_",
        "outputId": "1db0c8c2-3360-4d9e-d9aa-2356493b8e4e"
      },
      "execution_count": null,
      "outputs": [
        {
          "output_type": "execute_result",
          "data": {
            "text/plain": [
              "tensor([[-2.8821, -2.9978, -2.9398, -2.8735, -2.8754, -2.8837, -2.8068, -2.8936,\n",
              "         -2.9867, -2.8744, -2.8626, -2.8482, -2.8681, -2.9241, -2.9429, -2.8941,\n",
              "         -2.7835, -2.9143]], grad_fn=<LogSoftmaxBackward0>)"
            ]
          },
          "metadata": {},
          "execution_count": 25
        }
      ]
    },
    {
      "cell_type": "code",
      "source": [
        "next_hidden.shape"
      ],
      "metadata": {
        "colab": {
          "base_uri": "https://localhost:8080/"
        },
        "id": "XrqJO-MZziJS",
        "outputId": "267cbd3c-eee1-4588-a9b4-17479c479c88"
      },
      "execution_count": null,
      "outputs": [
        {
          "output_type": "execute_result",
          "data": {
            "text/plain": [
              "torch.Size([1, 128])"
            ]
          },
          "metadata": {},
          "execution_count": 22
        }
      ]
    },
    {
      "cell_type": "markdown",
      "metadata": {
        "id": "x-51TkNYn5wf"
      },
      "source": [
        "효율성을 위해 매 스텝마다 새로운 tensor를 생성하지 않고, ``lineToTensor`` 와 slice를 이용함 \n"
      ]
    },
    {
      "cell_type": "code",
      "execution_count": null,
      "metadata": {
        "id": "hKG5PuFhn5wf",
        "colab": {
          "base_uri": "https://localhost:8080/"
        },
        "outputId": "aa860682-365c-44ec-96ba-9952803ea1b6"
      },
      "outputs": [
        {
          "output_type": "stream",
          "name": "stdout",
          "text": [
            "tensor([[-2.8821, -2.9978, -2.9398, -2.8735, -2.8754, -2.8837, -2.8068, -2.8936,\n",
            "         -2.9867, -2.8744, -2.8626, -2.8482, -2.8681, -2.9241, -2.9429, -2.8941,\n",
            "         -2.7835, -2.9143]], grad_fn=<LogSoftmaxBackward0>)\n"
          ]
        }
      ],
      "source": [
        "input = lineToTensor('Albert')\n",
        "hidden = torch.zeros(1, n_hidden)\n",
        "\n",
        "output, next_hidden = rnn(input[0], hidden)\n",
        "print(output) #각 언어에 속할 가능도 값 (높을수록 해당 언어에 속할 확률이 높음)"
      ]
    },
    {
      "cell_type": "markdown",
      "metadata": {
        "id": "22WH-oCwn5wg"
      },
      "source": [
        "## Training\n"
      ]
    },
    {
      "cell_type": "code",
      "execution_count": null,
      "metadata": {
        "id": "w_rJQO_hn5wg",
        "colab": {
          "base_uri": "https://localhost:8080/"
        },
        "outputId": "917a116a-b8f1-42b4-f1fa-986ad77a7b46"
      },
      "outputs": [
        {
          "output_type": "stream",
          "name": "stdout",
          "text": [
            "('Czech', 16)\n"
          ]
        }
      ],
      "source": [
        "def categoryFromOutput(output): #가장 가능성이 높은 카테고리를 출력 \n",
        "    top_n, top_i = output.topk(1)\n",
        "    category_i = top_i[0].item()\n",
        "    return all_categories[category_i], category_i\n",
        "\n",
        "print(categoryFromOutput(output))"
      ]
    },
    {
      "cell_type": "code",
      "execution_count": null,
      "metadata": {
        "id": "ARJs1FNun5wh",
        "colab": {
          "base_uri": "https://localhost:8080/"
        },
        "outputId": "367f026c-f2e1-4db3-b3d5-d6aea4badd32"
      },
      "outputs": [
        {
          "output_type": "stream",
          "name": "stdout",
          "text": [
            "category = Greek / line = Horiatis\n",
            "category = Italian / line = Gismondi\n",
            "category = Czech / line = Schwarz\n",
            "category = Chinese / line = Mak\n",
            "category = German / line = Voigts\n",
            "category = Arabic / line = Shammas\n",
            "category = Korean / line = Yoon\n",
            "category = Spanish / line = D'cruze\n",
            "category = Arabic / line = Attia\n",
            "category = Korean / line = Yoo\n"
          ]
        }
      ],
      "source": [
        "import random\n",
        "\n",
        "def randomChoice(l):\n",
        "    return l[random.randint(0, len(l) - 1)]\n",
        "\n",
        "def randomTrainingExample():\n",
        "    category = randomChoice(all_categories)\n",
        "    line = randomChoice(category_lines[category])\n",
        "    category_tensor = torch.tensor([all_categories.index(category)], dtype=torch.long)\n",
        "    line_tensor = lineToTensor(line)\n",
        "    return category, line, category_tensor, line_tensor\n",
        "\n",
        "for i in range(10):\n",
        "    category, line, category_tensor, line_tensor = randomTrainingExample()\n",
        "    print('category =', category, '/ line =', line)"
      ]
    },
    {
      "cell_type": "markdown",
      "metadata": {
        "id": "N2IjTUrsn5wh"
      },
      "source": [
        "### Training the Network\n",
        "RNN의 마지막 layer가 ``nn.LogSoftmax``이므로, loss functiond 으로 ``nn.NLLLoss`` 사용\n",
        "\n",
        "\n"
      ]
    },
    {
      "cell_type": "code",
      "execution_count": null,
      "metadata": {
        "id": "08B3MnZ-n5wh"
      },
      "outputs": [],
      "source": [
        "criterion = nn.NLLLoss()"
      ]
    },
    {
      "cell_type": "markdown",
      "metadata": {
        "id": "yWpgUBbgn5wi"
      },
      "source": [
        "Each loop of training will:\n",
        "\n",
        "-  Create input and target tensors\n",
        "-  Create a zeroed initial hidden state\n",
        "-  Read each letter in and\n",
        "\n",
        "   -  Keep hidden state for next letter\n",
        "\n",
        "-  Compare final output to target\n",
        "-  Back-propagate\n",
        "-  Return the output and loss\n",
        "\n",
        "\n"
      ]
    },
    {
      "cell_type": "code",
      "execution_count": null,
      "metadata": {
        "id": "3LBgMMv6n5wi"
      },
      "outputs": [],
      "source": [
        "learning_rate = 0.005 # If you set this too high, it might explode. If too low, it might not learn\n",
        "\n",
        "def train(category_tensor, line_tensor):\n",
        "    hidden = rnn.initHidden()\n",
        "\n",
        "    rnn.zero_grad()\n",
        "\n",
        "    for i in range(line_tensor.size()[0]):\n",
        "        output, hidden = rnn(line_tensor[i], hidden)\n",
        "\n",
        "    loss = criterion(output, category_tensor)\n",
        "    loss.backward()\n",
        "\n",
        "    # Add parameters' gradients to their values, multiplied by learning rate\n",
        "    for p in rnn.parameters():\n",
        "        p.data.add_(p.grad.data, alpha=-learning_rate)\n",
        "\n",
        "    return output, loss.item()"
      ]
    },
    {
      "cell_type": "code",
      "execution_count": null,
      "metadata": {
        "id": "FElG_x01n5wj",
        "colab": {
          "base_uri": "https://localhost:8080/"
        },
        "outputId": "78783582-6841-4c4a-c2e3-42f0b70f1d8e"
      },
      "outputs": [
        {
          "output_type": "stream",
          "name": "stdout",
          "text": [
            "5000 5% (0m 5s) 2.8862 Horalya / Japanese ✗ (Russian)\n",
            "10000 10% (0m 11s) 2.7852 Cuellar / Arabic ✗ (Spanish)\n",
            "15000 15% (0m 16s) 2.3688 Bran / Vietnamese ✗ (Irish)\n",
            "20000 20% (0m 22s) 2.6348 Lorenzen / Scottish ✗ (German)\n",
            "25000 25% (0m 29s) 2.0494 Linville / Irish ✗ (French)\n",
            "30000 30% (0m 35s) 1.4746 Sarraf / Arabic ✓\n",
            "35000 35% (0m 41s) 0.4459 Affini / Italian ✓\n",
            "40000 40% (0m 46s) 0.9738 Kringos / Greek ✓\n",
            "45000 45% (0m 52s) 0.8498 Thi / Vietnamese ✓\n",
            "50000 50% (0m 57s) 2.9639 Agramunt / French ✗ (Spanish)\n",
            "55000 55% (1m 3s) 0.3011 Hasekura / Japanese ✓\n",
            "60000 60% (1m 8s) 1.9449 Cameron / French ✗ (Scottish)\n",
            "65000 65% (1m 13s) 0.9922 Zhi / Chinese ✓\n",
            "70000 70% (1m 19s) 2.3233 Gavril / French ✗ (Greek)\n",
            "75000 75% (1m 24s) 1.1712 Maria / Portuguese ✓\n",
            "80000 80% (1m 29s) 1.7050 Nicosia / Spanish ✗ (Italian)\n",
            "85000 85% (1m 34s) 1.2028 Jaluvka / Russian ✗ (Czech)\n",
            "90000 90% (1m 40s) 0.4004 Jackson / Scottish ✓\n",
            "95000 95% (1m 45s) 0.6741 Aitken / Scottish ✓\n",
            "100000 100% (1m 50s) 0.2533 Geng / Chinese ✓\n"
          ]
        }
      ],
      "source": [
        "import time\n",
        "import math\n",
        "\n",
        "n_iters = 100000\n",
        "print_every = 5000\n",
        "plot_every = 1000\n",
        "\n",
        "\n",
        "\n",
        "# Keep track of losses for plotting\n",
        "current_loss = 0\n",
        "all_losses = []\n",
        "\n",
        "def timeSince(since):\n",
        "    now = time.time()\n",
        "    s = now - since\n",
        "    m = math.floor(s / 60)\n",
        "    s -= m * 60\n",
        "    return '%dm %ds' % (m, s)\n",
        "\n",
        "start = time.time()\n",
        "\n",
        "for iter in range(1, n_iters + 1):\n",
        "    category, line, category_tensor, line_tensor = randomTrainingExample()\n",
        "    output, loss = train(category_tensor, line_tensor)\n",
        "    current_loss += loss\n",
        "\n",
        "    # Print iter number, loss, name and guess\n",
        "    if iter % print_every == 0:\n",
        "        guess, guess_i = categoryFromOutput(output)\n",
        "        correct = '✓' if guess == category else '✗ (%s)' % category\n",
        "        print('%d %d%% (%s) %.4f %s / %s %s' % (iter, iter / n_iters * 100, timeSince(start), loss, line, guess, correct))\n",
        "\n",
        "    # Add current loss avg to list of losses\n",
        "    if iter % plot_every == 0:\n",
        "        all_losses.append(current_loss / plot_every)\n",
        "        current_loss = 0"
      ]
    },
    {
      "cell_type": "markdown",
      "metadata": {
        "id": "SChtizYRn5wj"
      },
      "source": [
        "### Plotting the Results\n",
        "\n",
        "\n"
      ]
    },
    {
      "cell_type": "code",
      "execution_count": null,
      "metadata": {
        "id": "ku4lGFFgn5wj",
        "colab": {
          "base_uri": "https://localhost:8080/",
          "height": 283
        },
        "outputId": "750fca4b-153b-4266-d9dd-5fd18e87b0cb"
      },
      "outputs": [
        {
          "output_type": "execute_result",
          "data": {
            "text/plain": [
              "[<matplotlib.lines.Line2D at 0x7fbf3ac8a070>]"
            ]
          },
          "metadata": {},
          "execution_count": 33
        },
        {
          "output_type": "display_data",
          "data": {
            "text/plain": [
              "<Figure size 432x288 with 1 Axes>"
            ],
            "image/png": "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\n"
          },
          "metadata": {
            "needs_background": "light"
          }
        }
      ],
      "source": [
        "import matplotlib.pyplot as plt\n",
        "import matplotlib.ticker as ticker\n",
        "\n",
        "plt.figure()\n",
        "plt.plot(all_losses)"
      ]
    },
    {
      "cell_type": "markdown",
      "metadata": {
        "id": "llRTMAfnn5wk"
      },
      "source": [
        "## Evaluating the Results\n",
        "\n"
      ]
    },
    {
      "cell_type": "code",
      "execution_count": null,
      "metadata": {
        "id": "Z9x6m_cmn5wk",
        "colab": {
          "base_uri": "https://localhost:8080/",
          "height": 320
        },
        "outputId": "71c604dc-bf94-46ec-dfbd-d6fee944acb1"
      },
      "outputs": [
        {
          "output_type": "display_data",
          "data": {
            "text/plain": [
              "<Figure size 432x288 with 2 Axes>"
            ],
            "image/png": "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\n"
          },
          "metadata": {
            "needs_background": "light"
          }
        }
      ],
      "source": [
        "# Keep track of correct guesses in a confusion matrix\n",
        "confusion = torch.zeros(n_categories, n_categories)\n",
        "n_confusion = 10000\n",
        "\n",
        "# Just return an output given a line\n",
        "def evaluate(line_tensor):\n",
        "    hidden = rnn.initHidden()\n",
        "\n",
        "    for i in range(line_tensor.size()[0]):\n",
        "        output, hidden = rnn(line_tensor[i], hidden)\n",
        "\n",
        "    return output\n",
        "\n",
        "# Go through a bunch of examples and record which are correctly guessed\n",
        "for i in range(n_confusion):\n",
        "    category, line, category_tensor, line_tensor = randomTrainingExample()\n",
        "    output = evaluate(line_tensor)\n",
        "    guess, guess_i = categoryFromOutput(output)\n",
        "    category_i = all_categories.index(category)\n",
        "    confusion[category_i][guess_i] += 1\n",
        "\n",
        "# Normalize by dividing every row by its sum\n",
        "for i in range(n_categories):\n",
        "    confusion[i] = confusion[i] / confusion[i].sum()\n",
        "\n",
        "# Set up plot\n",
        "fig = plt.figure()\n",
        "ax = fig.add_subplot(111)\n",
        "cax = ax.matshow(confusion.numpy())\n",
        "fig.colorbar(cax)\n",
        "\n",
        "# Set up axes\n",
        "ax.set_xticklabels([''] + all_categories, rotation=90)\n",
        "ax.set_yticklabels([''] + all_categories)\n",
        "\n",
        "# Force label at every tick\n",
        "ax.xaxis.set_major_locator(ticker.MultipleLocator(1))\n",
        "ax.yaxis.set_major_locator(ticker.MultipleLocator(1))\n",
        "\n",
        "# sphinx_gallery_thumbnail_number = 2\n",
        "plt.show()"
      ]
    },
    {
      "cell_type": "markdown",
      "metadata": {
        "id": "nkSG8SiIn5wk"
      },
      "source": [
        "### Running on User Input\n",
        "\n",
        "\n"
      ]
    },
    {
      "cell_type": "code",
      "execution_count": null,
      "metadata": {
        "id": "vLZaZRUen5wk",
        "colab": {
          "base_uri": "https://localhost:8080/"
        },
        "outputId": "0ea777d2-a830-46cb-d07c-464e43453ecc"
      },
      "outputs": [
        {
          "output_type": "stream",
          "name": "stdout",
          "text": [
            "\n",
            "> Dovesky\n",
            "(-0.83) Russian\n",
            "(-1.18) Czech\n",
            "(-2.07) English\n",
            "\n",
            "> Jackson\n",
            "(-1.03) English\n",
            "(-1.04) Scottish\n",
            "(-2.43) Dutch\n",
            "\n",
            "> Satoshi\n",
            "(-1.18) Italian\n",
            "(-1.93) Arabic\n",
            "(-2.27) Portuguese\n"
          ]
        }
      ],
      "source": [
        "def predict(input_line, n_predictions=3): #해당 성(last name)이 속할 것으로 기대되는 카테고리 3개 출력 \n",
        "    print('\\n> %s' % input_line)\n",
        "    with torch.no_grad():\n",
        "        output = evaluate(lineToTensor(input_line))\n",
        "\n",
        "        # Get top N categories\n",
        "        topv, topi = output.topk(n_predictions, 1, True)\n",
        "        predictions = []\n",
        "\n",
        "        for i in range(n_predictions):\n",
        "            value = topv[0][i].item()\n",
        "            category_index = topi[0][i].item()\n",
        "            print('(%.2f) %s' % (value, all_categories[category_index]))\n",
        "            predictions.append([value, all_categories[category_index]])\n",
        "\n",
        "predict('Dovesky')\n",
        "predict('Jackson')\n",
        "predict('Satoshi')"
      ]
    },
    {
      "cell_type": "markdown",
      "metadata": {
        "id": "Jg1X_SRpn5wl"
      },
      "source": [
        "The final versions of the scripts [in the Practical PyTorch\n",
        "repo](https://github.com/spro/practical-pytorch/tree/master/char-rnn-classification)_\n",
        "split the above code into a few files:\n",
        "\n",
        "-  ``data.py`` (loads files)\n",
        "-  ``model.py`` (defines the RNN)\n",
        "-  ``train.py`` (runs training)\n",
        "-  ``predict.py`` (runs ``predict()`` with command line arguments)\n",
        "-  ``server.py`` (serve prediction as a JSON API with bottle.py)\n",
        "\n",
        "Run ``train.py`` to train and save the network.\n",
        "\n",
        "Run ``predict.py`` with a name to view predictions:\n",
        "\n",
        "::\n",
        "\n",
        "    $ python predict.py Hazaki\n",
        "    (-0.42) Japanese\n",
        "    (-1.39) Polish\n",
        "    (-3.51) Czech\n",
        "\n",
        "Run ``server.py`` and visit http://localhost:5533/Yourname to get JSON\n",
        "output of predictions.\n",
        "\n",
        "\n"
      ]
    },
  ],
  "metadata": {
    "kernelspec": {
      "display_name": "Python 3",
      "language": "python",
      "name": "python3"
    },
    "language_info": {
      "codemirror_mode": {
        "name": "ipython",
        "version": 3
      },
      "file_extension": ".py",
      "mimetype": "text/x-python",
      "name": "python",
      "nbconvert_exporter": "python",
      "pygments_lexer": "ipython3",
      "version": "3.10.4"
    },
    "colab": {
      "provenance": []
    }
  },
  "nbformat": 4,
  "nbformat_minor": 0
}
