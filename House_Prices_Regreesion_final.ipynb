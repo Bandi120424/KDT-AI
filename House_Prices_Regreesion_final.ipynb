{
  "cells": [
    {
      "cell_type": "markdown",
      "metadata": {
        "id": "view-in-github",
        "colab_type": "text"
      },
      "source": [
        "<a href=\"https://colab.research.google.com/github/Bandi120424/KDT-AI/blob/Month-2/House_Prices_Regreesion_final.ipynb\" target=\"_parent\"><img src=\"https://colab.research.google.com/assets/colab-badge.svg\" alt=\"Open In Colab\"/></a>"
      ]
    },
    {
      "cell_type": "markdown",
      "source": [
        "## 라이브러리 및 데이터 임포트"
      ],
      "metadata": {
        "id": "IcxOkP2RRfsX"
      },
      "id": "IcxOkP2RRfsX"
    },
    {
      "cell_type": "code",
      "execution_count": 87,
      "id": "9680fb6e",
      "metadata": {
        "id": "9680fb6e"
      },
      "outputs": [],
      "source": [
        "import numpy as np\n",
        "import pandas as pd\n",
        "import seaborn as sns\n",
        "import matplotlib.pyplot as plt\n",
        "import plotly.express as px\n",
        "from collections import Counter\n",
        "from scipy import stats\n",
        "from scipy.stats import norm, skew \n",
        "from sklearn.preprocessing import StandardScaler, OneHotEncoder, LabelEncoder, OrdinalEncoder\n",
        "from sklearn.impute import SimpleImputer\n",
        "from sklearn.pipeline import make_pipeline, Pipeline\n",
        "\n",
        "%matplotlib inline"
      ]
    },
    {
      "cell_type": "code",
      "execution_count": 88,
      "id": "5a7482e8",
      "metadata": {
        "id": "5a7482e8"
      },
      "outputs": [],
      "source": [
        "train_data = pd.read_csv(\"/content/train.csv\")\n",
        "test_data = pd.read_csv(\"/content/test.csv\")"
      ]
    },
    {
      "cell_type": "code",
      "execution_count": 89,
      "id": "14cbd473",
      "metadata": {
        "id": "14cbd473"
      },
      "outputs": [],
      "source": [
        "train = train_data.copy()\n",
        "test = test_data.copy()"
      ]
    },
    {
      "cell_type": "markdown",
      "id": "1cb2fbd1",
      "metadata": {
        "id": "1cb2fbd1"
      },
      "source": [
        "## 데이터 구성 확인 및 결측치/이상치 처리"
      ]
    },
    {
      "cell_type": "markdown",
      "source": [
        "#### 데이터 구성 확인"
      ],
      "metadata": {
        "id": "alVzeZMYSsbG"
      },
      "id": "alVzeZMYSsbG"
    },
    {
      "cell_type": "code",
      "source": [
        "train.head(2)"
      ],
      "metadata": {
        "colab": {
          "base_uri": "https://localhost:8080/",
          "height": 205
        },
        "id": "0RprAYRWSuSL",
        "outputId": "48945d47-929e-4319-feff-56d33663c3f0"
      },
      "id": "0RprAYRWSuSL",
      "execution_count": 90,
      "outputs": [
        {
          "output_type": "execute_result",
          "data": {
            "text/plain": [
              "   Id  MSSubClass MSZoning  LotFrontage  LotArea Street Alley LotShape  \\\n",
              "0   1          60       RL         65.0     8450   Pave   NaN      Reg   \n",
              "1   2          20       RL         80.0     9600   Pave   NaN      Reg   \n",
              "\n",
              "  LandContour Utilities  ... PoolArea PoolQC Fence MiscFeature MiscVal MoSold  \\\n",
              "0         Lvl    AllPub  ...        0    NaN   NaN         NaN       0      2   \n",
              "1         Lvl    AllPub  ...        0    NaN   NaN         NaN       0      5   \n",
              "\n",
              "  YrSold  SaleType  SaleCondition  SalePrice  \n",
              "0   2008        WD         Normal     208500  \n",
              "1   2007        WD         Normal     181500  \n",
              "\n",
              "[2 rows x 81 columns]"
            ],
            "text/html": [
              "\n",
              "  <div id=\"df-b511274b-b83e-46e1-b22e-a266e91c636d\">\n",
              "    <div class=\"colab-df-container\">\n",
              "      <div>\n",
              "<style scoped>\n",
              "    .dataframe tbody tr th:only-of-type {\n",
              "        vertical-align: middle;\n",
              "    }\n",
              "\n",
              "    .dataframe tbody tr th {\n",
              "        vertical-align: top;\n",
              "    }\n",
              "\n",
              "    .dataframe thead th {\n",
              "        text-align: right;\n",
              "    }\n",
              "</style>\n",
              "<table border=\"1\" class=\"dataframe\">\n",
              "  <thead>\n",
              "    <tr style=\"text-align: right;\">\n",
              "      <th></th>\n",
              "      <th>Id</th>\n",
              "      <th>MSSubClass</th>\n",
              "      <th>MSZoning</th>\n",
              "      <th>LotFrontage</th>\n",
              "      <th>LotArea</th>\n",
              "      <th>Street</th>\n",
              "      <th>Alley</th>\n",
              "      <th>LotShape</th>\n",
              "      <th>LandContour</th>\n",
              "      <th>Utilities</th>\n",
              "      <th>...</th>\n",
              "      <th>PoolArea</th>\n",
              "      <th>PoolQC</th>\n",
              "      <th>Fence</th>\n",
              "      <th>MiscFeature</th>\n",
              "      <th>MiscVal</th>\n",
              "      <th>MoSold</th>\n",
              "      <th>YrSold</th>\n",
              "      <th>SaleType</th>\n",
              "      <th>SaleCondition</th>\n",
              "      <th>SalePrice</th>\n",
              "    </tr>\n",
              "  </thead>\n",
              "  <tbody>\n",
              "    <tr>\n",
              "      <th>0</th>\n",
              "      <td>1</td>\n",
              "      <td>60</td>\n",
              "      <td>RL</td>\n",
              "      <td>65.0</td>\n",
              "      <td>8450</td>\n",
              "      <td>Pave</td>\n",
              "      <td>NaN</td>\n",
              "      <td>Reg</td>\n",
              "      <td>Lvl</td>\n",
              "      <td>AllPub</td>\n",
              "      <td>...</td>\n",
              "      <td>0</td>\n",
              "      <td>NaN</td>\n",
              "      <td>NaN</td>\n",
              "      <td>NaN</td>\n",
              "      <td>0</td>\n",
              "      <td>2</td>\n",
              "      <td>2008</td>\n",
              "      <td>WD</td>\n",
              "      <td>Normal</td>\n",
              "      <td>208500</td>\n",
              "    </tr>\n",
              "    <tr>\n",
              "      <th>1</th>\n",
              "      <td>2</td>\n",
              "      <td>20</td>\n",
              "      <td>RL</td>\n",
              "      <td>80.0</td>\n",
              "      <td>9600</td>\n",
              "      <td>Pave</td>\n",
              "      <td>NaN</td>\n",
              "      <td>Reg</td>\n",
              "      <td>Lvl</td>\n",
              "      <td>AllPub</td>\n",
              "      <td>...</td>\n",
              "      <td>0</td>\n",
              "      <td>NaN</td>\n",
              "      <td>NaN</td>\n",
              "      <td>NaN</td>\n",
              "      <td>0</td>\n",
              "      <td>5</td>\n",
              "      <td>2007</td>\n",
              "      <td>WD</td>\n",
              "      <td>Normal</td>\n",
              "      <td>181500</td>\n",
              "    </tr>\n",
              "  </tbody>\n",
              "</table>\n",
              "<p>2 rows × 81 columns</p>\n",
              "</div>\n",
              "      <button class=\"colab-df-convert\" onclick=\"convertToInteractive('df-b511274b-b83e-46e1-b22e-a266e91c636d')\"\n",
              "              title=\"Convert this dataframe to an interactive table.\"\n",
              "              style=\"display:none;\">\n",
              "        \n",
              "  <svg xmlns=\"http://www.w3.org/2000/svg\" height=\"24px\"viewBox=\"0 0 24 24\"\n",
              "       width=\"24px\">\n",
              "    <path d=\"M0 0h24v24H0V0z\" fill=\"none\"/>\n",
              "    <path d=\"M18.56 5.44l.94 2.06.94-2.06 2.06-.94-2.06-.94-.94-2.06-.94 2.06-2.06.94zm-11 1L8.5 8.5l.94-2.06 2.06-.94-2.06-.94L8.5 2.5l-.94 2.06-2.06.94zm10 10l.94 2.06.94-2.06 2.06-.94-2.06-.94-.94-2.06-.94 2.06-2.06.94z\"/><path d=\"M17.41 7.96l-1.37-1.37c-.4-.4-.92-.59-1.43-.59-.52 0-1.04.2-1.43.59L10.3 9.45l-7.72 7.72c-.78.78-.78 2.05 0 2.83L4 21.41c.39.39.9.59 1.41.59.51 0 1.02-.2 1.41-.59l7.78-7.78 2.81-2.81c.8-.78.8-2.07 0-2.86zM5.41 20L4 18.59l7.72-7.72 1.47 1.35L5.41 20z\"/>\n",
              "  </svg>\n",
              "      </button>\n",
              "      \n",
              "  <style>\n",
              "    .colab-df-container {\n",
              "      display:flex;\n",
              "      flex-wrap:wrap;\n",
              "      gap: 12px;\n",
              "    }\n",
              "\n",
              "    .colab-df-convert {\n",
              "      background-color: #E8F0FE;\n",
              "      border: none;\n",
              "      border-radius: 50%;\n",
              "      cursor: pointer;\n",
              "      display: none;\n",
              "      fill: #1967D2;\n",
              "      height: 32px;\n",
              "      padding: 0 0 0 0;\n",
              "      width: 32px;\n",
              "    }\n",
              "\n",
              "    .colab-df-convert:hover {\n",
              "      background-color: #E2EBFA;\n",
              "      box-shadow: 0px 1px 2px rgba(60, 64, 67, 0.3), 0px 1px 3px 1px rgba(60, 64, 67, 0.15);\n",
              "      fill: #174EA6;\n",
              "    }\n",
              "\n",
              "    [theme=dark] .colab-df-convert {\n",
              "      background-color: #3B4455;\n",
              "      fill: #D2E3FC;\n",
              "    }\n",
              "\n",
              "    [theme=dark] .colab-df-convert:hover {\n",
              "      background-color: #434B5C;\n",
              "      box-shadow: 0px 1px 3px 1px rgba(0, 0, 0, 0.15);\n",
              "      filter: drop-shadow(0px 1px 2px rgba(0, 0, 0, 0.3));\n",
              "      fill: #FFFFFF;\n",
              "    }\n",
              "  </style>\n",
              "\n",
              "      <script>\n",
              "        const buttonEl =\n",
              "          document.querySelector('#df-b511274b-b83e-46e1-b22e-a266e91c636d button.colab-df-convert');\n",
              "        buttonEl.style.display =\n",
              "          google.colab.kernel.accessAllowed ? 'block' : 'none';\n",
              "\n",
              "        async function convertToInteractive(key) {\n",
              "          const element = document.querySelector('#df-b511274b-b83e-46e1-b22e-a266e91c636d');\n",
              "          const dataTable =\n",
              "            await google.colab.kernel.invokeFunction('convertToInteractive',\n",
              "                                                     [key], {});\n",
              "          if (!dataTable) return;\n",
              "\n",
              "          const docLinkHtml = 'Like what you see? Visit the ' +\n",
              "            '<a target=\"_blank\" href=https://colab.research.google.com/notebooks/data_table.ipynb>data table notebook</a>'\n",
              "            + ' to learn more about interactive tables.';\n",
              "          element.innerHTML = '';\n",
              "          dataTable['output_type'] = 'display_data';\n",
              "          await google.colab.output.renderOutput(dataTable, element);\n",
              "          const docLink = document.createElement('div');\n",
              "          docLink.innerHTML = docLinkHtml;\n",
              "          element.appendChild(docLink);\n",
              "        }\n",
              "      </script>\n",
              "    </div>\n",
              "  </div>\n",
              "  "
            ]
          },
          "metadata": {},
          "execution_count": 90
        }
      ]
    },
    {
      "cell_type": "code",
      "source": [
        "train.info()"
      ],
      "metadata": {
        "colab": {
          "base_uri": "https://localhost:8080/"
        },
        "id": "3mnKVYakTW7d",
        "outputId": "0da3b0c3-2551-4857-d554-df968a73712f"
      },
      "id": "3mnKVYakTW7d",
      "execution_count": 91,
      "outputs": [
        {
          "output_type": "stream",
          "name": "stdout",
          "text": [
            "<class 'pandas.core.frame.DataFrame'>\n",
            "RangeIndex: 1460 entries, 0 to 1459\n",
            "Data columns (total 81 columns):\n",
            " #   Column         Non-Null Count  Dtype  \n",
            "---  ------         --------------  -----  \n",
            " 0   Id             1460 non-null   int64  \n",
            " 1   MSSubClass     1460 non-null   int64  \n",
            " 2   MSZoning       1460 non-null   object \n",
            " 3   LotFrontage    1201 non-null   float64\n",
            " 4   LotArea        1460 non-null   int64  \n",
            " 5   Street         1460 non-null   object \n",
            " 6   Alley          91 non-null     object \n",
            " 7   LotShape       1460 non-null   object \n",
            " 8   LandContour    1460 non-null   object \n",
            " 9   Utilities      1460 non-null   object \n",
            " 10  LotConfig      1460 non-null   object \n",
            " 11  LandSlope      1460 non-null   object \n",
            " 12  Neighborhood   1460 non-null   object \n",
            " 13  Condition1     1460 non-null   object \n",
            " 14  Condition2     1460 non-null   object \n",
            " 15  BldgType       1460 non-null   object \n",
            " 16  HouseStyle     1460 non-null   object \n",
            " 17  OverallQual    1460 non-null   int64  \n",
            " 18  OverallCond    1460 non-null   int64  \n",
            " 19  YearBuilt      1460 non-null   int64  \n",
            " 20  YearRemodAdd   1460 non-null   int64  \n",
            " 21  RoofStyle      1460 non-null   object \n",
            " 22  RoofMatl       1460 non-null   object \n",
            " 23  Exterior1st    1460 non-null   object \n",
            " 24  Exterior2nd    1460 non-null   object \n",
            " 25  MasVnrType     1452 non-null   object \n",
            " 26  MasVnrArea     1452 non-null   float64\n",
            " 27  ExterQual      1460 non-null   object \n",
            " 28  ExterCond      1460 non-null   object \n",
            " 29  Foundation     1460 non-null   object \n",
            " 30  BsmtQual       1423 non-null   object \n",
            " 31  BsmtCond       1423 non-null   object \n",
            " 32  BsmtExposure   1422 non-null   object \n",
            " 33  BsmtFinType1   1423 non-null   object \n",
            " 34  BsmtFinSF1     1460 non-null   int64  \n",
            " 35  BsmtFinType2   1422 non-null   object \n",
            " 36  BsmtFinSF2     1460 non-null   int64  \n",
            " 37  BsmtUnfSF      1460 non-null   int64  \n",
            " 38  TotalBsmtSF    1460 non-null   int64  \n",
            " 39  Heating        1460 non-null   object \n",
            " 40  HeatingQC      1460 non-null   object \n",
            " 41  CentralAir     1460 non-null   object \n",
            " 42  Electrical     1459 non-null   object \n",
            " 43  1stFlrSF       1460 non-null   int64  \n",
            " 44  2ndFlrSF       1460 non-null   int64  \n",
            " 45  LowQualFinSF   1460 non-null   int64  \n",
            " 46  GrLivArea      1460 non-null   int64  \n",
            " 47  BsmtFullBath   1460 non-null   int64  \n",
            " 48  BsmtHalfBath   1460 non-null   int64  \n",
            " 49  FullBath       1460 non-null   int64  \n",
            " 50  HalfBath       1460 non-null   int64  \n",
            " 51  BedroomAbvGr   1460 non-null   int64  \n",
            " 52  KitchenAbvGr   1460 non-null   int64  \n",
            " 53  KitchenQual    1460 non-null   object \n",
            " 54  TotRmsAbvGrd   1460 non-null   int64  \n",
            " 55  Functional     1460 non-null   object \n",
            " 56  Fireplaces     1460 non-null   int64  \n",
            " 57  FireplaceQu    770 non-null    object \n",
            " 58  GarageType     1379 non-null   object \n",
            " 59  GarageYrBlt    1379 non-null   float64\n",
            " 60  GarageFinish   1379 non-null   object \n",
            " 61  GarageCars     1460 non-null   int64  \n",
            " 62  GarageArea     1460 non-null   int64  \n",
            " 63  GarageQual     1379 non-null   object \n",
            " 64  GarageCond     1379 non-null   object \n",
            " 65  PavedDrive     1460 non-null   object \n",
            " 66  WoodDeckSF     1460 non-null   int64  \n",
            " 67  OpenPorchSF    1460 non-null   int64  \n",
            " 68  EnclosedPorch  1460 non-null   int64  \n",
            " 69  3SsnPorch      1460 non-null   int64  \n",
            " 70  ScreenPorch    1460 non-null   int64  \n",
            " 71  PoolArea       1460 non-null   int64  \n",
            " 72  PoolQC         7 non-null      object \n",
            " 73  Fence          281 non-null    object \n",
            " 74  MiscFeature    54 non-null     object \n",
            " 75  MiscVal        1460 non-null   int64  \n",
            " 76  MoSold         1460 non-null   int64  \n",
            " 77  YrSold         1460 non-null   int64  \n",
            " 78  SaleType       1460 non-null   object \n",
            " 79  SaleCondition  1460 non-null   object \n",
            " 80  SalePrice      1460 non-null   int64  \n",
            "dtypes: float64(3), int64(35), object(43)\n",
            "memory usage: 924.0+ KB\n"
          ]
        }
      ]
    },
    {
      "cell_type": "code",
      "source": [
        "test.head(2)"
      ],
      "metadata": {
        "colab": {
          "base_uri": "https://localhost:8080/",
          "height": 205
        },
        "id": "xWIdM04-SzDe",
        "outputId": "ef2769eb-4594-4d68-80a9-05bc6583fc08"
      },
      "id": "xWIdM04-SzDe",
      "execution_count": 92,
      "outputs": [
        {
          "output_type": "execute_result",
          "data": {
            "text/plain": [
              "     Id  MSSubClass MSZoning  LotFrontage  LotArea Street Alley LotShape  \\\n",
              "0  1461          20       RH         80.0    11622   Pave   NaN      Reg   \n",
              "1  1462          20       RL         81.0    14267   Pave   NaN      IR1   \n",
              "\n",
              "  LandContour Utilities  ... ScreenPorch PoolArea PoolQC  Fence MiscFeature  \\\n",
              "0         Lvl    AllPub  ...         120        0    NaN  MnPrv         NaN   \n",
              "1         Lvl    AllPub  ...           0        0    NaN    NaN        Gar2   \n",
              "\n",
              "  MiscVal MoSold  YrSold  SaleType  SaleCondition  \n",
              "0       0      6    2010        WD         Normal  \n",
              "1   12500      6    2010        WD         Normal  \n",
              "\n",
              "[2 rows x 80 columns]"
            ],
            "text/html": [
              "\n",
              "  <div id=\"df-10f3d359-3f3c-4246-a2bb-c93060125aa8\">\n",
              "    <div class=\"colab-df-container\">\n",
              "      <div>\n",
              "<style scoped>\n",
              "    .dataframe tbody tr th:only-of-type {\n",
              "        vertical-align: middle;\n",
              "    }\n",
              "\n",
              "    .dataframe tbody tr th {\n",
              "        vertical-align: top;\n",
              "    }\n",
              "\n",
              "    .dataframe thead th {\n",
              "        text-align: right;\n",
              "    }\n",
              "</style>\n",
              "<table border=\"1\" class=\"dataframe\">\n",
              "  <thead>\n",
              "    <tr style=\"text-align: right;\">\n",
              "      <th></th>\n",
              "      <th>Id</th>\n",
              "      <th>MSSubClass</th>\n",
              "      <th>MSZoning</th>\n",
              "      <th>LotFrontage</th>\n",
              "      <th>LotArea</th>\n",
              "      <th>Street</th>\n",
              "      <th>Alley</th>\n",
              "      <th>LotShape</th>\n",
              "      <th>LandContour</th>\n",
              "      <th>Utilities</th>\n",
              "      <th>...</th>\n",
              "      <th>ScreenPorch</th>\n",
              "      <th>PoolArea</th>\n",
              "      <th>PoolQC</th>\n",
              "      <th>Fence</th>\n",
              "      <th>MiscFeature</th>\n",
              "      <th>MiscVal</th>\n",
              "      <th>MoSold</th>\n",
              "      <th>YrSold</th>\n",
              "      <th>SaleType</th>\n",
              "      <th>SaleCondition</th>\n",
              "    </tr>\n",
              "  </thead>\n",
              "  <tbody>\n",
              "    <tr>\n",
              "      <th>0</th>\n",
              "      <td>1461</td>\n",
              "      <td>20</td>\n",
              "      <td>RH</td>\n",
              "      <td>80.0</td>\n",
              "      <td>11622</td>\n",
              "      <td>Pave</td>\n",
              "      <td>NaN</td>\n",
              "      <td>Reg</td>\n",
              "      <td>Lvl</td>\n",
              "      <td>AllPub</td>\n",
              "      <td>...</td>\n",
              "      <td>120</td>\n",
              "      <td>0</td>\n",
              "      <td>NaN</td>\n",
              "      <td>MnPrv</td>\n",
              "      <td>NaN</td>\n",
              "      <td>0</td>\n",
              "      <td>6</td>\n",
              "      <td>2010</td>\n",
              "      <td>WD</td>\n",
              "      <td>Normal</td>\n",
              "    </tr>\n",
              "    <tr>\n",
              "      <th>1</th>\n",
              "      <td>1462</td>\n",
              "      <td>20</td>\n",
              "      <td>RL</td>\n",
              "      <td>81.0</td>\n",
              "      <td>14267</td>\n",
              "      <td>Pave</td>\n",
              "      <td>NaN</td>\n",
              "      <td>IR1</td>\n",
              "      <td>Lvl</td>\n",
              "      <td>AllPub</td>\n",
              "      <td>...</td>\n",
              "      <td>0</td>\n",
              "      <td>0</td>\n",
              "      <td>NaN</td>\n",
              "      <td>NaN</td>\n",
              "      <td>Gar2</td>\n",
              "      <td>12500</td>\n",
              "      <td>6</td>\n",
              "      <td>2010</td>\n",
              "      <td>WD</td>\n",
              "      <td>Normal</td>\n",
              "    </tr>\n",
              "  </tbody>\n",
              "</table>\n",
              "<p>2 rows × 80 columns</p>\n",
              "</div>\n",
              "      <button class=\"colab-df-convert\" onclick=\"convertToInteractive('df-10f3d359-3f3c-4246-a2bb-c93060125aa8')\"\n",
              "              title=\"Convert this dataframe to an interactive table.\"\n",
              "              style=\"display:none;\">\n",
              "        \n",
              "  <svg xmlns=\"http://www.w3.org/2000/svg\" height=\"24px\"viewBox=\"0 0 24 24\"\n",
              "       width=\"24px\">\n",
              "    <path d=\"M0 0h24v24H0V0z\" fill=\"none\"/>\n",
              "    <path d=\"M18.56 5.44l.94 2.06.94-2.06 2.06-.94-2.06-.94-.94-2.06-.94 2.06-2.06.94zm-11 1L8.5 8.5l.94-2.06 2.06-.94-2.06-.94L8.5 2.5l-.94 2.06-2.06.94zm10 10l.94 2.06.94-2.06 2.06-.94-2.06-.94-.94-2.06-.94 2.06-2.06.94z\"/><path d=\"M17.41 7.96l-1.37-1.37c-.4-.4-.92-.59-1.43-.59-.52 0-1.04.2-1.43.59L10.3 9.45l-7.72 7.72c-.78.78-.78 2.05 0 2.83L4 21.41c.39.39.9.59 1.41.59.51 0 1.02-.2 1.41-.59l7.78-7.78 2.81-2.81c.8-.78.8-2.07 0-2.86zM5.41 20L4 18.59l7.72-7.72 1.47 1.35L5.41 20z\"/>\n",
              "  </svg>\n",
              "      </button>\n",
              "      \n",
              "  <style>\n",
              "    .colab-df-container {\n",
              "      display:flex;\n",
              "      flex-wrap:wrap;\n",
              "      gap: 12px;\n",
              "    }\n",
              "\n",
              "    .colab-df-convert {\n",
              "      background-color: #E8F0FE;\n",
              "      border: none;\n",
              "      border-radius: 50%;\n",
              "      cursor: pointer;\n",
              "      display: none;\n",
              "      fill: #1967D2;\n",
              "      height: 32px;\n",
              "      padding: 0 0 0 0;\n",
              "      width: 32px;\n",
              "    }\n",
              "\n",
              "    .colab-df-convert:hover {\n",
              "      background-color: #E2EBFA;\n",
              "      box-shadow: 0px 1px 2px rgba(60, 64, 67, 0.3), 0px 1px 3px 1px rgba(60, 64, 67, 0.15);\n",
              "      fill: #174EA6;\n",
              "    }\n",
              "\n",
              "    [theme=dark] .colab-df-convert {\n",
              "      background-color: #3B4455;\n",
              "      fill: #D2E3FC;\n",
              "    }\n",
              "\n",
              "    [theme=dark] .colab-df-convert:hover {\n",
              "      background-color: #434B5C;\n",
              "      box-shadow: 0px 1px 3px 1px rgba(0, 0, 0, 0.15);\n",
              "      filter: drop-shadow(0px 1px 2px rgba(0, 0, 0, 0.3));\n",
              "      fill: #FFFFFF;\n",
              "    }\n",
              "  </style>\n",
              "\n",
              "      <script>\n",
              "        const buttonEl =\n",
              "          document.querySelector('#df-10f3d359-3f3c-4246-a2bb-c93060125aa8 button.colab-df-convert');\n",
              "        buttonEl.style.display =\n",
              "          google.colab.kernel.accessAllowed ? 'block' : 'none';\n",
              "\n",
              "        async function convertToInteractive(key) {\n",
              "          const element = document.querySelector('#df-10f3d359-3f3c-4246-a2bb-c93060125aa8');\n",
              "          const dataTable =\n",
              "            await google.colab.kernel.invokeFunction('convertToInteractive',\n",
              "                                                     [key], {});\n",
              "          if (!dataTable) return;\n",
              "\n",
              "          const docLinkHtml = 'Like what you see? Visit the ' +\n",
              "            '<a target=\"_blank\" href=https://colab.research.google.com/notebooks/data_table.ipynb>data table notebook</a>'\n",
              "            + ' to learn more about interactive tables.';\n",
              "          element.innerHTML = '';\n",
              "          dataTable['output_type'] = 'display_data';\n",
              "          await google.colab.output.renderOutput(dataTable, element);\n",
              "          const docLink = document.createElement('div');\n",
              "          docLink.innerHTML = docLinkHtml;\n",
              "          element.appendChild(docLink);\n",
              "        }\n",
              "      </script>\n",
              "    </div>\n",
              "  </div>\n",
              "  "
            ]
          },
          "metadata": {},
          "execution_count": 92
        }
      ]
    },
    {
      "cell_type": "markdown",
      "source": [
        "#### 수치형 변수와 범주형 변수 탐색"
      ],
      "metadata": {
        "id": "o0QYm_QJSDXC"
      },
      "id": "o0QYm_QJSDXC"
    },
    {
      "cell_type": "code",
      "execution_count": 93,
      "id": "2a4a325d",
      "metadata": {
        "colab": {
          "base_uri": "https://localhost:8080/"
        },
        "id": "2a4a325d",
        "outputId": "af673dbd-965e-4900-c808-4df0416b99c4"
      },
      "outputs": [
        {
          "output_type": "stream",
          "name": "stdout",
          "text": [
            "numerical features: 38, categorical features:  43\n"
          ]
        }
      ],
      "source": [
        "numerical_feats = train.dtypes[train.dtypes !='object'].index\n",
        "categorical_feats = train.dtypes[train.dtypes =='object'].index\n",
        "\n",
        "print(f\"numerical features: {len(numerical_feats)}, categorical features:  {len(categorical_feats)}\")"
      ]
    },
    {
      "cell_type": "code",
      "source": [
        "train.columns"
      ],
      "metadata": {
        "colab": {
          "base_uri": "https://localhost:8080/"
        },
        "id": "K3Kx6vOC7E8d",
        "outputId": "e43cb2a5-546b-4609-f11e-8715cb0cea8a"
      },
      "id": "K3Kx6vOC7E8d",
      "execution_count": 94,
      "outputs": [
        {
          "output_type": "execute_result",
          "data": {
            "text/plain": [
              "Index(['Id', 'MSSubClass', 'MSZoning', 'LotFrontage', 'LotArea', 'Street',\n",
              "       'Alley', 'LotShape', 'LandContour', 'Utilities', 'LotConfig',\n",
              "       'LandSlope', 'Neighborhood', 'Condition1', 'Condition2', 'BldgType',\n",
              "       'HouseStyle', 'OverallQual', 'OverallCond', 'YearBuilt', 'YearRemodAdd',\n",
              "       'RoofStyle', 'RoofMatl', 'Exterior1st', 'Exterior2nd', 'MasVnrType',\n",
              "       'MasVnrArea', 'ExterQual', 'ExterCond', 'Foundation', 'BsmtQual',\n",
              "       'BsmtCond', 'BsmtExposure', 'BsmtFinType1', 'BsmtFinSF1',\n",
              "       'BsmtFinType2', 'BsmtFinSF2', 'BsmtUnfSF', 'TotalBsmtSF', 'Heating',\n",
              "       'HeatingQC', 'CentralAir', 'Electrical', '1stFlrSF', '2ndFlrSF',\n",
              "       'LowQualFinSF', 'GrLivArea', 'BsmtFullBath', 'BsmtHalfBath', 'FullBath',\n",
              "       'HalfBath', 'BedroomAbvGr', 'KitchenAbvGr', 'KitchenQual',\n",
              "       'TotRmsAbvGrd', 'Functional', 'Fireplaces', 'FireplaceQu', 'GarageType',\n",
              "       'GarageYrBlt', 'GarageFinish', 'GarageCars', 'GarageArea', 'GarageQual',\n",
              "       'GarageCond', 'PavedDrive', 'WoodDeckSF', 'OpenPorchSF',\n",
              "       'EnclosedPorch', '3SsnPorch', 'ScreenPorch', 'PoolArea', 'PoolQC',\n",
              "       'Fence', 'MiscFeature', 'MiscVal', 'MoSold', 'YrSold', 'SaleType',\n",
              "       'SaleCondition', 'SalePrice'],\n",
              "      dtype='object')"
            ]
          },
          "metadata": {},
          "execution_count": 94
        }
      ]
    },
    {
      "cell_type": "markdown",
      "id": "8d5840c9",
      "metadata": {
        "id": "8d5840c9"
      },
      "source": [
        "#### IQR 방식을 이용하여 train의 수치형 변수 이상치 제거\n"
      ]
    },
    {
      "cell_type": "code",
      "execution_count": 95,
      "id": "d8fdaa30",
      "metadata": {
        "id": "d8fdaa30"
      },
      "outputs": [],
      "source": [
        "class remove_outliers():\n",
        "  def __init__(self, method = 'iqr', n = 2):\n",
        "    self.method = method\n",
        "    self.n = n\n",
        "\n",
        "\n",
        "  def fit(self, X, y=None):\n",
        "        return self\n",
        "\n",
        "  def transform(self, X):\n",
        "    features = X.dtypes[X.dtypes !='object'].index #수치형 변수 탐색\n",
        "    outlier_indices = []\n",
        "    for col in features:\n",
        "        Q1 = np.percentile(X[col], 25)\n",
        "        Q3 = np.percentile(X[col], 75)\n",
        "        outlier_step = 1.5*(Q3-Q1)\n",
        "        \n",
        "        outlier_list_col  = X[(X[col] > Q3+outlier_step) | (X[col] < Q1-outlier_step)].index\n",
        "        outlier_indices.extend(outlier_list_col)\n",
        "    \n",
        "    outlier_indices = Counter(outlier_indices) #outlier_indices의 각 원소가 몇 번 나오는지를 담은 객체 반환 \n",
        "    multiple_outlier_indices = list(k for k, v in outlier_indices.items() if v > self.n) #n번 이상 나오는 이상치를 제거\n",
        "    new_X = X.drop(multiple_outlier_indices, axis = 0).reset_index(drop=True)\n",
        "    return new_X"
      ]
    },
    {
      "cell_type": "markdown",
      "id": "22dc7add",
      "metadata": {
        "id": "22dc7add"
      },
      "source": [
        "#### 결측치 처리\n",
        "\n",
        "**결측치 처리 가이드라인**\n",
        "- 10% 미만: 삭제 or 대치\n",
        "- 10% - 50%: regression or model based imputation\n",
        "- 50% 이상: 컬럼 자체 제거\n",
        "\n",
        "\n",
        "train을 기반으로 결측치 처리 방법 구성 => class화"
      ]
    },
    {
      "cell_type": "code",
      "execution_count": 96,
      "id": "479d0f0c",
      "metadata": {
        "colab": {
          "base_uri": "https://localhost:8080/"
        },
        "id": "479d0f0c",
        "outputId": "20ac3a35-e15b-4777-cf93-6955dc9650a9"
      },
      "outputs": [
        {
          "output_type": "execute_result",
          "data": {
            "text/plain": [
              "FireplaceQu     47.260274\n",
              "LotFrontage     17.739726\n",
              "GarageType       5.547945\n",
              "GarageYrBlt      5.547945\n",
              "GarageFinish     5.547945\n",
              "GarageQual       5.547945\n",
              "GarageCond       5.547945\n",
              "BsmtExposure     2.602740\n",
              "BsmtFinType2     2.602740\n",
              "BsmtQual         2.534247\n",
              "BsmtCond         2.534247\n",
              "BsmtFinType1     2.534247\n",
              "MasVnrType       0.547945\n",
              "MasVnrArea       0.547945\n",
              "Electrical       0.068493\n",
              "dtype: float64"
            ]
          },
          "metadata": {},
          "execution_count": 96
        }
      ],
      "source": [
        "train_na = (train.isnull().sum()/len(train)) * 100\n",
        "train_na = train_na.drop(train_na[(train_na == 0) | (train_na >= 50)].index).sort_values(ascending=False) \n",
        "train_na"
      ]
    },
    {
      "cell_type": "markdown",
      "source": [
        "결측치 특성을 살펴보자. "
      ],
      "metadata": {
        "id": "vlSA3sPW4eTR"
      },
      "id": "vlSA3sPW4eTR"
    },
    {
      "cell_type": "markdown",
      "id": "18833b2d",
      "metadata": {
        "id": "18833b2d"
      },
      "source": [
        "*   LotFrontage: Linear feet of street connected to property  \n",
        "=> Neighborhood와 상관관계가 높을 것으로 추정  \n",
        "=> Neighborhood를 기준으로 한 평균값으로 결측치를 채움 \n",
        "*   나머지 특성들은 결측치의 비율이 크지 않으므로, NA나 0 값을 가질 수 있는 특성의 경우, NA나 0으로 채워줌  \n",
        "\n",
        "  **이 때, Garage 관련 속성과 Basement 관련 속성 처리에 주의하자**  \n",
        "  Garage/Basement가 없으면 관련 속성도 다 0나 Null로 처리\n",
        "\n",
        "*   MSZoning, Utilities, Functional, Electrical, KitchenQual, Exterior1st, Exterior2nd, SaleType, MSSubClass  \n",
        "=> 위 특징들은 값을 NA로 채울 수 없으므로 최빈값으로 채워줌\n",
        "\n",
        "\n",
        "\n",
        "\n",
        "\n",
        "\n",
        "\n"
      ]
    },
    {
      "cell_type": "code",
      "source": [
        "class handle_missing_val():\n",
        "\n",
        "  def fit(self, X, y=None):\n",
        "        return self\n",
        "        \n",
        "  def transform(self, X):\n",
        "    #NA값이 있는 특징\n",
        "    feats_with_NA = ['LotFrontage', 'LotArea','YearRemodAdd',\n",
        "       'MasVnrArea', 'TotalBsmtSF', '1stFlrSF', '2ndFlrSF',\n",
        "       'LowQualFinSF', 'GrLivArea', 'BsmtFullBath', 'BsmtHalfBath', 'FullBath',\n",
        "       'HalfBath', 'BedroomAbvGr', 'KitchenAbvGr', 'TotRmsAbvGrd', 'Fireplaces', 'WoodDeckSF', 'OpenPorchSF',\n",
        "       'EnclosedPorch', '3SsnPorch', 'ScreenPorch', 'PoolArea', 'PoolQC',\n",
        "       'Fence', 'MiscFeature', 'MiscVal', 'MoSold', 'YrSold']\n",
        "    \n",
        "    num_feats = X.dtypes[X.dtypes !='object'].index.tolist()\n",
        "    cat_feats = X.dtypes[X.dtypes =='object'].index.tolist()\n",
        "\n",
        "    #각 feature의 결측치 비율구함. 결측치 처리를 해줘야하는 feature 선택 \n",
        "    missing_ratio_sr = (X.isnull().sum()/len(X)) * 100\n",
        "    selected_feats = missing_ratio_sr.drop(missing_ratio_sr[(missing_ratio_sr == 0) | (missing_ratio_sr >= 50)].index).index.tolist()\n",
        "\n",
        "\n",
        "    if 'LotFrontage' in selected_feats:\n",
        "      X['LotFrontage'] = X.groupby('Neighborhood')['LotFrontage'].transform(lambda x: x.fillna(x.median()))\n",
        "    \n",
        "    X[['BsmtFinSF1', 'BsmtFinSF2', 'BsmtUnfSF','TotalBsmtSF', 'BsmtFullBath', 'BsmtHalfBath']] = X[['BsmtFinSF1', 'BsmtFinSF2', 'BsmtUnfSF','TotalBsmtSF', 'BsmtFullBath', 'BsmtHalfBath']].fillna(value=0)\n",
        "    X[['BsmtQual', 'BsmtCond', 'BsmtExposure', 'BsmtFinType1', 'BsmtFinType2']] = X[['BsmtQual', 'BsmtCond', 'BsmtExposure', 'BsmtFinType1', 'BsmtFinType2']].fillna(value='NA')\n",
        "    \n",
        "    X[['GarageType', 'GarageFinish', 'GarageQual', 'GarageCond']] =  X[['GarageType', 'GarageFinish', 'GarageQual', 'GarageCond']].fillna('NA')\n",
        "    X[['GarageYrBlt', 'GarageArea', 'GarageCars']] = X[['GarageYrBlt', 'GarageArea', 'GarageCars']].fillna(0)\n",
        "\n",
        "    #NA값을 가지는 속성 NA 또는 0으로 채워줌\n",
        "    num_selected_feats_with_NA = [a for a in selected_feats if a in feats_with_NA and a in num_feats]\n",
        "    cat_selected_feats_with_NA = [a for a in selected_feats if a in feats_with_NA and a in cat_feats]\n",
        "    X[num_selected_feats_with_NA] = X[num_selected_feats_with_NA].fillna(X[num_selected_feats_with_NA].fillna(0))\n",
        "    X[cat_selected_feats_with_NA] = X[cat_selected_feats_with_NA].fillna(X[cat_selected_feats_with_NA].fillna('NA'))\n",
        "    \n",
        "    #NA값을 가지지 못하는 속성 최빈값으로 채움 \n",
        "    selected_feats_with_no_NA = [a for a in selected_feats if a not in feats_with_NA]\n",
        "    X[selected_feats_with_no_NA] = X[selected_feats_with_no_NA].fillna(X[selected_feats_with_no_NA].mode().iloc[0])\n",
        "\n",
        "    return X"
      ],
      "metadata": {
        "id": "4WwpeYY_0z51"
      },
      "id": "4WwpeYY_0z51",
      "execution_count": 97,
      "outputs": []
    },
    {
      "cell_type": "markdown",
      "id": "c787ce8a",
      "metadata": {
        "id": "c787ce8a"
      },
      "source": [
        "## 수치형 특성 분석"
      ]
    },
    {
      "cell_type": "markdown",
      "source": [
        "###  새로운 특징 생성 및 특성 타입 변경 (수치형 특성 -> 범주형 특성)  \n",
        "MSSubClass, OverallCond, MoSold, YrSold은 수치형 특성이지만 범주형처럼 생각할 수 있는 특성이므로 범주형 특성으로 처리한다.\n"
      ],
      "metadata": {
        "id": "wudW-c2eZigm"
      },
      "id": "wudW-c2eZigm"
    },
    {
      "cell_type": "code",
      "source": [
        "class create_features():\n",
        "\n",
        "  def fit(self, X, y=None):\n",
        "    return self\n",
        "\n",
        "  def transform(self, X):\n",
        "    X['Total_Home_Quality'] = X['OverallQual'] + X['OverallCond']\n",
        "    X['Total_sqr_footage'] = (X['BsmtFinSF1'] + X['BsmtFinSF2'] + X['1stFlrSF'] + X['2ndFlrSF'])\n",
        "    X['Total_Bathrooms'] = (X['FullBath'] + (0.5 * X['HalfBath']) + X['BsmtFullBath'] + (0.5 * X['BsmtHalfBath']))\n",
        "    X['Total_porch_sf'] = (X['OpenPorchSF'] + X['3SsnPorch'] + X['EnclosedPorch'] + X['ScreenPorch'] + X['WoodDeckSF'])\n",
        "    X[['MSSubClass', 'OverallCond', 'MoSold', 'YrSold']] = X[['MSSubClass', 'OverallCond', 'MoSold', 'YrSold']].astype(str)\n",
        "    return X"
      ],
      "metadata": {
        "id": "LwD7pAcraJo4"
      },
      "id": "LwD7pAcraJo4",
      "execution_count": 98,
      "outputs": []
    },
    {
      "cell_type": "markdown",
      "source": [
        "### 수치형 특성 정규화 처리"
      ],
      "metadata": {
        "id": "ui4MO044cA4c"
      },
      "id": "ui4MO044cA4c"
    },
    {
      "cell_type": "markdown",
      "source": [
        "**첨도, 왜도**\n",
        "- 첨도: 측정치의 빈도수의 분포 (정규분포는 첨도 0)\n",
        "- 왜도: 분포의 비대칭성을 나타냄, 절댓값 3 미만까지는 왜도가 크지 않다고 판단"
      ],
      "metadata": {
        "id": "Qu95mYyNYZH6"
      },
      "id": "Qu95mYyNYZH6"
    },
    {
      "cell_type": "markdown",
      "source": [
        "1. 첨도의 절댓값이 1 이상 OR 왜도의 절댓값이 3 이상인 특성 중, SalePrice (타깃값)과의 상관관계지수가 0.1 이상인 특성에 한해서 정규화 처리  \n",
        "  **상관관계지수 절댓값이 0.1 이상인 특성**\n",
        "['TotalBsmtSF', '1stFlrSF', 'GarageYrBlt', 'MasVnrArea', 'WoodDeckSF', 'OpenPorchSF', 'LotArea', 'ScreenPorch', 'EnclosedPorch', 'KitchenAbvGr'] \n",
        "2. 정규화 후, |skew| >= 1 또는 |kurt| >= 3인 값은 특성에서 제거"
      ],
      "metadata": {
        "id": "IPNpOK4QTbne"
      },
      "id": "IPNpOK4QTbne"
    },
    {
      "cell_type": "code",
      "source": [
        "class normalize_val_4_train():\n",
        "\n",
        "  def fit(self, X, y=None):\n",
        "        return self\n",
        "\n",
        "  def transform(self, X):\n",
        "    num_feats = list(X.dtypes[X.dtypes !='object'].index)\n",
        "    num_feats = [a for a in num_feats if a not in ('Id', 'SalePrice')]\n",
        "\n",
        "    #정규화할 특성 추출\n",
        "    X_skew = X[num_feats].skew()\n",
        "    X_kurt = X[num_feats].kurt()\n",
        "    skew_list = X_skew[abs(X_skew) >= 1].index.tolist()\n",
        "    kurt_list = X_kurt[abs(X_kurt) >= 3].index.tolist()\n",
        "\n",
        "    tmp_feats = list(set(skew_list+kurt_list))\n",
        "\n",
        "    #corr_data = X[tmp_feats+['SalePrice']].corr()\n",
        "    #corr_feats = corr_data[abs(corr_data['SalePrice']) > 0.1].index.tolist() \n",
        "    corr_feats = ['TotalBsmtSF', '1stFlrSF', 'GarageYrBlt', 'MasVnrArea', 'WoodDeckSF', 'OpenPorchSF', 'LotArea', 'ScreenPorch', 'EnclosedPorch', 'KitchenAbvGr']\n",
        "    selected_feats = [a for a in tmp_feats if a in corr_feats]\n",
        "\n",
        "    #정규화 수행\n",
        "    X[selected_feats] = np.log1p(X[selected_feats])\n",
        "    \n",
        "    #|skew| >= 1 인 값은 특성에서 제거\n",
        "    new_X_skew = X[num_feats].skew()\n",
        "    del_feats1 = new_X_skew[abs(new_X_skew) >= 1].index.tolist()\n",
        "    \n",
        "    #|kurt| >= 3 인 값은 특성에서 제거\n",
        "    new_X_kurt = X[num_feats].kurt()\n",
        "    del_feats2 = new_X_kurt[abs(new_X_kurt) >= 3].index.tolist()\n",
        "    \n",
        "    del_feats = list(set(del_feats1 + del_feats2))\n",
        "    X = X.drop(del_feats, axis = 1)\n",
        "\n",
        "    return X"
      ],
      "metadata": {
        "id": "l5QyiQNCPCUi"
      },
      "id": "l5QyiQNCPCUi",
      "execution_count": 99,
      "outputs": []
    },
    {
      "cell_type": "markdown",
      "source": [
        "**train set 관찰을 통해 얻은 최종 수치형 특성**\n",
        "\n",
        "final_num_feats = ['OverallQual','YearBuilt','YearRemodAdd','MasVnrArea', 'BsmtFinSF1', 'BsmtUnfSF', 'TotalBsmtSF', '1stFlrSF', '2ndFlrSF', 'GrLivArea',\n",
        " 'BsmtFullBath','FullBath', 'HalfBath', 'BedroomAbvGr', 'TotRmsAbvGrd', 'Fireplaces', 'GarageCars','GarageArea','WoodDeckSF','OpenPorchSF',  'Total_Home_Quality', 'Total_sqr_footage',\n",
        " 'Total_Bathrooms', 'Total_porch_sf']"
      ],
      "metadata": {
        "id": "Xfc172ys9AC4"
      },
      "id": "Xfc172ys9AC4"
    },
    {
      "cell_type": "markdown",
      "source": [
        "## 범주형 특성 분석"
      ],
      "metadata": {
        "id": "g4UhePoGbvan"
      },
      "id": "g4UhePoGbvan"
    },
    {
      "cell_type": "markdown",
      "id": "516392d9",
      "metadata": {
        "id": "516392d9"
      },
      "source": [
        "각 범주형 특성당 데이터 분포를 확인\n",
        "=> 값이 현저히 치우쳐진 경우 훈련에서 제외\n",
        "\n",
        "데이터 관찰을 통해 다음 특성을 제외\n",
        "\n",
        "['Utilities', 'YrSold', 'LandSlope', 'LotConfig', 'Condition2', 'BsmtFinType1', 'BsmtFinType2', 'Functional', 'MoSold']"
      ]
    },
    {
      "cell_type": "markdown",
      "source": [
        "## 특성 조정\n",
        "훈련에 사용할 특성에 대하여 다음을 수행\n",
        "- 수치형 특성: 정규화\n",
        "- 범주형 특성: 라벨인코딩"
      ],
      "metadata": {
        "id": "hiqq0pLP-jaK"
      },
      "id": "hiqq0pLP-jaK"
    },
    {
      "cell_type": "code",
      "source": [
        "class modify_feats():\n",
        "\n",
        "  def fit(self, X, y=None):\n",
        "        return self\n",
        "\n",
        "  def transform(self, X):\n",
        "    num_feats = list(X.dtypes[X.dtypes != 'object'].index)\n",
        "    final_num_feats =  ['OverallQual','YearBuilt','YearRemodAdd','MasVnrArea', 'BsmtFinSF1', 'BsmtUnfSF', 'TotalBsmtSF', '1stFlrSF', '2ndFlrSF', 'GrLivArea', 'BsmtFullBath','FullBath', 'HalfBath', 'BedroomAbvGr', 'TotRmsAbvGrd', 'Fireplaces', 'GarageCars','GarageArea','WoodDeckSF','OpenPorchSF', 'Total_Home_Quality', 'Total_sqr_footage', 'Total_Bathrooms', 'Total_porch_sf']\n",
        "    cat_feats = list(X.dtypes[X.dtypes == 'object'].index)\n",
        "    del_feats = ['Utilities', 'YrSold', 'LandSlope', 'LotConfig', 'Condition2', 'BsmtFinType1', 'BsmtFinType2', 'Functional', 'MoSold']\n",
        "    final_cat_feats = [a for a in cat_feats if a not in del_feats]\n",
        "\n",
        "    #정규화 수행\n",
        "    if 'SalePrice' in num_feats:\n",
        "      final_num_feats += ['SalePrice']      \n",
        "    X[final_num_feats] = np.log1p(X[final_num_feats])\n",
        "\n",
        "    #라벨 인코딩 수행 \n",
        "    le = LabelEncoder()\n",
        "    new_X = X[final_cat_feats].apply(le.fit_transform)\n",
        "\n",
        "    #훈련에 사용할 범주형 특성만 남김 \n",
        "    X = X.drop(cat_feats, axis = 1)\n",
        "\n",
        "    return pd.concat([X, new_X], axis = 1)  "
      ],
      "metadata": {
        "id": "Y6YWBAXDpsEt"
      },
      "id": "Y6YWBAXDpsEt",
      "execution_count": 100,
      "outputs": []
    },
    {
      "cell_type": "code",
      "source": [
        "pipe = make_pipeline(remove_outliers(), handle_missing_val(), create_features(), modify_feats())\n",
        "train = pipe.fit_transform(train)"
      ],
      "metadata": {
        "id": "qkK1viWJxi4n"
      },
      "id": "qkK1viWJxi4n",
      "execution_count": 101,
      "outputs": []
    },
    {
      "cell_type": "code",
      "source": [
        "pipe_test = make_pipeline(handle_missing_val(), create_features(), modify_feats())\n",
        "test = pipe_test.fit_transform(test)"
      ],
      "metadata": {
        "id": "0JDm71xlLbjr"
      },
      "id": "0JDm71xlLbjr",
      "execution_count": 102,
      "outputs": []
    },
    {
      "cell_type": "code",
      "source": [
        "test_na = (test.isnull().sum()/len(test)) * 100\n",
        "test_na[test_na != 0]"
      ],
      "metadata": {
        "colab": {
          "base_uri": "https://localhost:8080/"
        },
        "id": "hmQHjlCup2Kn",
        "outputId": "30c174ac-e9a8-45d7-f242-0312e9600435"
      },
      "id": "hmQHjlCup2Kn",
      "execution_count": 103,
      "outputs": [
        {
          "output_type": "execute_result",
          "data": {
            "text/plain": [
              "Series([], dtype: float64)"
            ]
          },
          "metadata": {},
          "execution_count": 103
        }
      ]
    },
    {
      "cell_type": "markdown",
      "id": "efcdc250",
      "metadata": {
        "id": "efcdc250"
      },
      "source": [
        "### 훈련 "
      ]
    },
    {
      "cell_type": "markdown",
      "source": [
        "라이브러리 임포트"
      ],
      "metadata": {
        "id": "4w9NBlIgyk_j"
      },
      "id": "4w9NBlIgyk_j"
    },
    {
      "cell_type": "code",
      "execution_count": 104,
      "id": "053480a7",
      "metadata": {
        "id": "053480a7"
      },
      "outputs": [],
      "source": [
        "from sklearn.linear_model import ElasticNet, Lasso,  BayesianRidge, LassoLarsIC\n",
        "from sklearn.ensemble import RandomForestRegressor,  GradientBoostingRegressor\n",
        "from sklearn.kernel_ridge import KernelRidge\n",
        "from sklearn.preprocessing import RobustScaler\n",
        "from sklearn.base import BaseEstimator, TransformerMixin, RegressorMixin, clone\n",
        "from sklearn.model_selection import GridSearchCV, KFold, cross_val_score, train_test_split\n",
        "from sklearn.metrics import mean_squared_error\n",
        "import xgboost as xgb\n",
        "import lightgbm as lgb"
      ]
    },
    {
      "cell_type": "code",
      "execution_count": 105,
      "id": "a7d3c3b8",
      "metadata": {
        "id": "a7d3c3b8"
      },
      "outputs": [],
      "source": [
        "X_train = train.drop(['Id', 'SalePrice'], axis = 1).values\n",
        "target_label = train['SalePrice'].values\n",
        "X_test = test.drop('Id', axis = 1).values"
      ]
    },
    {
      "cell_type": "code",
      "execution_count": 106,
      "id": "e7581d3a",
      "metadata": {
        "id": "e7581d3a",
        "outputId": "f6efb84f-3fc7-47a5-e33e-fef656d0f2f2",
        "colab": {
          "base_uri": "https://localhost:8080/"
        }
      },
      "outputs": [
        {
          "output_type": "stream",
          "name": "stdout",
          "text": [
            "train shape: (1326, 74)\n",
            "target_label shape: (1326,)\n",
            "test shape: (1459, 74)\n"
          ]
        }
      ],
      "source": [
        "print(f\"train shape: {X_train.shape}\")\n",
        "print(f\"target_label shape: {target_label.shape}\")\n",
        "print(f\"test shape: {X_test.shape}\")"
      ]
    },
    {
      "cell_type": "code",
      "execution_count": 107,
      "id": "51e478c5",
      "metadata": {
        "id": "51e478c5"
      },
      "outputs": [],
      "source": [
        "X_tr, X_vld, y_tr, y_vld = train_test_split(X_train, target_label, test_size = 0.2, random_state = 42)"
      ]
    },
    {
      "cell_type": "code",
      "execution_count": 108,
      "id": "a35c6d54",
      "metadata": {
        "id": "a35c6d54"
      },
      "outputs": [],
      "source": [
        "class AveragingModels(BaseEstimator, RegressorMixin, TransformerMixin):\n",
        "    def __init__(self, models):\n",
        "        self.models = models\n",
        "        \n",
        "    def fit(self, X, y):\n",
        "        self.models_ = [clone(x) for x in self.models]\n",
        "        \n",
        "        for model in self.models_:\n",
        "            model.fit(X, y)\n",
        "\n",
        "        return self\n",
        "    \n",
        "    def predict(self, X):\n",
        "        predictions = np.column_stack([\n",
        "            model.predict(X) for model in self.models_\n",
        "        ])\n",
        "        return np.mean(predictions, axis=1)   "
      ]
    },
    {
      "cell_type": "code",
      "execution_count": 109,
      "id": "152af834",
      "metadata": {
        "id": "152af834"
      },
      "outputs": [],
      "source": [
        "lasso = make_pipeline(RobustScaler(), Lasso(alpha =0.0005, random_state=1))\n",
        "ENet = make_pipeline(RobustScaler(), ElasticNet(alpha=0.0005, l1_ratio=.9, random_state=3))\n",
        "GBoost = GradientBoostingRegressor(n_estimators=3000, learning_rate=0.05,\n",
        "                                   max_depth=4, max_features='sqrt',\n",
        "                                   min_samples_leaf=15, min_samples_split=10, \n",
        "                                   loss='huber', random_state =5)\n",
        "model_xgb = xgb.XGBRegressor(colsample_bytree=0.4603, gamma=0.0468, \n",
        "                             learning_rate=0.05, max_depth=3, \n",
        "                             min_child_weight=1.7817, n_estimators=2200,\n",
        "                             reg_alpha=0.4640, reg_lambda=0.8571,\n",
        "                             subsample=0.5213, silent=1,\n",
        "                             random_state =7, nthread = -1)\n",
        "model_lgb = lgb.LGBMRegressor(objective='regression',num_leaves=5,\n",
        "                              learning_rate=0.05, n_estimators=720,\n",
        "                              max_bin = 55, bagging_fraction = 0.8,\n",
        "                              bagging_freq = 5, feature_fraction = 0.2319,\n",
        "                              feature_fraction_seed=9, bagging_seed=9,\n",
        "                              min_data_in_leaf =6, min_sum_hessian_in_leaf = 11)"
      ]
    },
    {
      "cell_type": "markdown",
      "source": [
        "## 평가"
      ],
      "metadata": {
        "id": "dQcjtnE3rhfl"
      },
      "id": "dQcjtnE3rhfl"
    },
    {
      "cell_type": "code",
      "source": [
        "kf = KFold(n_splits=10, random_state=42, shuffle=True)"
      ],
      "metadata": {
        "id": "OQT4DGOYrlDQ"
      },
      "id": "OQT4DGOYrlDQ",
      "execution_count": 110,
      "outputs": []
    },
    {
      "cell_type": "code",
      "source": [
        "def rmsle(y, y_pred):\n",
        "    return np.sqrt(mean_squared_error(y, y_pred))\n",
        "\n",
        "def cv_rmse(model, X, y_pred):\n",
        "    rmse = np.sqrt(-cross_val_score(model, X, y_pred, scoring=\"neg_mean_squared_error\", cv=kf))\n",
        "    return (rmse)\n",
        "\n",
        "scores = {}"
      ],
      "metadata": {
        "id": "-HIleUIGrEhB"
      },
      "id": "-HIleUIGrEhB",
      "execution_count": 111,
      "outputs": []
    },
    {
      "cell_type": "code",
      "source": [
        "lasso.fit(X_tr, y_tr)\n",
        "score = cv_rmse(lasso, X_tr, y_tr)\n",
        "scores['lasso'] = (score.mean(), score.std())\n",
        "\n",
        "ENet.fit(X_tr, y_tr)\n",
        "score = cv_rmse(ENet, X_tr, y_tr)\n",
        "scores['Elastic Net'] = (score.mean(), score.std())\n",
        "\n",
        "GBoost.fit(X_tr, y_tr)\n",
        "score = cv_rmse(GBoost, X_tr, y_tr)\n",
        "scores['GBoost'] = (score.mean(), score.std())\n",
        "\n",
        "averaged_models = AveragingModels(models = (lasso, ENet, GBoost))\n",
        "averaged_models.fit(X_tr, y_tr)\n",
        "score = cv_rmse(averaged_models, X_tr, y_tr)\n",
        "scores['Average Model'] = (score.mean(), score.std())\n",
        "\n",
        "model_xgb.fit(X_tr, y_tr)\n",
        "score = cv_rmse(model_xgb, X_tr, y_tr)\n",
        "scores['XGBRegressor'] = (score.mean(), score.std())\n",
        "\n",
        "model_lgb.fit(X_tr, y_tr)\n",
        "score = cv_rmse(model_lgb, X_tr, y_tr)\n",
        "scores['LGBMRegressor'] = (score.mean(), score.std())"
      ],
      "metadata": {
        "id": "byyiagfOr822"
      },
      "id": "byyiagfOr822",
      "execution_count": 112,
      "outputs": []
    },
    {
      "cell_type": "code",
      "source": [
        "sns.set_style(\"white\")\n",
        "fig = plt.figure(figsize=(18, 8))\n",
        "\n",
        "ax = sns.pointplot(x=list(scores.keys()), y=[score for score, _ in scores.values()], markers=['o'], linestyles=['-'])\n",
        "for i, score in enumerate(scores.values()):\n",
        "    ax.text(i, score[0] + 0.00004, '{:.6f}'.format(score[0]), horizontalalignment='left', size='large', color='black', weight='semibold')\n",
        "\n",
        "plt.ylabel('Score (RMSE)', size=20, labelpad=12.5)\n",
        "plt.xlabel('Model', size=20, labelpad=12.5)\n",
        "plt.tick_params(axis='x', labelsize=13.5)\n",
        "plt.tick_params(axis='y', labelsize=12.5)\n",
        "\n",
        "plt.title('Scores of Models', size=20)\n",
        "\n",
        "plt.show()\n"
      ],
      "metadata": {
        "colab": {
          "base_uri": "https://localhost:8080/",
          "height": 505
        },
        "id": "fL1wYqLxQwQb",
        "outputId": "5f6907ed-3d09-41b1-f412-5a33fdf1c572"
      },
      "id": "fL1wYqLxQwQb",
      "execution_count": 113,
      "outputs": [
        {
          "output_type": "display_data",
          "data": {
            "text/plain": [
              "<Figure size 1296x576 with 1 Axes>"
            ],
            "image/png": "[encoded data removed]"
          },
          "metadata": {}
        }
      ]
    },
    {
      "cell_type": "code",
      "source": [
        "averaged_pred = averaged_models.predict(X_test)\n",
        "xgb_pred = model_xgb.predict(X_test)\n",
        "lgb_pred = model_lgb.predict(X_test)"
      ],
      "metadata": {
        "id": "2E0NWpUWg43t"
      },
      "id": "2E0NWpUWg43t",
      "execution_count": 114,
      "outputs": []
    },
    {
      "cell_type": "code",
      "execution_count": 115,
      "id": "cafd9d52",
      "metadata": {
        "id": "cafd9d52"
      },
      "outputs": [],
      "source": [
        "ensemble =  np.exp(averaged_pred*0.5 + xgb_pred*0.25 + lgb_pred*0.25)"
      ]
    },
    {
      "cell_type": "code",
      "execution_count": 116,
      "id": "79725b7b",
      "metadata": {
        "id": "79725b7b"
      },
      "outputs": [],
      "source": [
        "sub = pd.DataFrame()\n",
        "sub['Id'] = test['Id']\n",
        "sub['SalePrice'] = ensemble\n",
        "sub.to_csv('submission.csv',index=False) "
      ]
    }
  ],
  "metadata": {
    "kernelspec": {
      "display_name": "Python 3 (ipykernel)",
      "language": "python",
      "name": "python3"
    },
    "language_info": {
      "codemirror_mode": {
        "name": "ipython",
        "version": 3
      },
      "file_extension": ".py",
      "mimetype": "text/x-python",
      "name": "python",
      "nbconvert_exporter": "python",
      "pygments_lexer": "ipython3",
      "version": "3.9.12"
    },
    "colab": {
      "provenance": [],
      "include_colab_link": true
    }
  },
  "nbformat": 4,
  "nbformat_minor": 5
}