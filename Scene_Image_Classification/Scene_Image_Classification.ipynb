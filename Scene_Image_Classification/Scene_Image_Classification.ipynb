{
  "nbformat": 4,
  "nbformat_minor": 0,
  "metadata": {
    "colab": {
      "provenance": [],
      "authorship_tag": "ABX9TyOwVYrAZmMPMcd865B/GjYX",
      "include_colab_link": true
    },
    "kernelspec": {
      "name": "python3",
      "display_name": "Python 3"
    },
    "language_info": {
      "name": "python"
    },
    "accelerator": "GPU",
    "gpuClass": "standard"
  },
  "cells": [
    {
      "cell_type": "markdown",
      "metadata": {
        "id": "view-in-github",
        "colab_type": "text"
      },
      "source": [
        "<a href=\"https://colab.research.google.com/github/Bandi120424/KDT-AI/blob/Month-3/Scene_Image_Classification.ipynb\" target=\"_parent\"><img src=\"https://colab.research.google.com/assets/colab-badge.svg\" alt=\"Open In Colab\"/></a>"
      ]
    },
    {
      "cell_type": "markdown",
      "source": [
        "### 데이터 로드 및 라이브러리 임포트"
      ],
      "metadata": {
        "id": "iqENwMAdeodI"
      }
    },
    {
      "cell_type": "code",
      "execution_count": 1,
      "metadata": {
        "colab": {
          "base_uri": "https://localhost:8080/"
        },
        "id": "6NVxjoCO743n",
        "outputId": "7d4c9580-4260-4ffd-9177-a89474d4c80c"
      },
      "outputs": [
        {
          "output_type": "stream",
          "name": "stdout",
          "text": [
            "Cloning into 'Scene-Classification-Dataset-Split'...\n",
            "remote: Enumerating objects: 17038, done.\u001b[K\n",
            "remote: Total 17038 (delta 0), reused 0 (delta 0), pack-reused 17038\u001b[K\n",
            "Receiving objects: 100% (17038/17038), 136.02 MiB | 26.03 MiB/s, done.\n",
            "Checking out files: 100% (17035/17035), done.\n",
            "/content/Scene-Classification-Dataset-Split\n"
          ]
        }
      ],
      "source": [
        "!git clone https://github.com/ndb796/Scene-Classification-Dataset-Split \n",
        "%cd Scene-Classification-Dataset-Split "
      ]
    },
    {
      "cell_type": "code",
      "source": [
        "import os\n",
        "import pandas as pd\n",
        "import numpy as np\n",
        "import seaborn as sns\n",
        "import matplotlib.pyplot as plt\n",
        "\n",
        "import torch\n",
        "from torchvision import datasets, transforms\n",
        "import torchvision\n",
        "import time\n",
        "import torch.optim as optim\n",
        "import torch.nn as nn\n",
        "import torch.nn.functional as F"
      ],
      "metadata": {
        "id": "18B67rSpgN5d"
      },
      "execution_count": 17,
      "outputs": []
    },
    {
      "cell_type": "code",
      "source": [
        "classes = ['buildings', 'forests', 'glacier', 'mountains', 'sea', 'street']\n",
        "train_path = 'train/'\n",
        "val_path = 'val/'\n",
        "\n",
        "print(\"[ 학습 데이터셋 ]\")\n",
        "for i in range(6):\n",
        "    print(f'클래스 {i}의 개수: {len(os.listdir(train_path + classes[i]))}')\n",
        "\n",
        "print(\"[ 검증 데이터셋 ]\")\n",
        "for i in range(6):\n",
        "    print(f'클래스 {i}의 개수: {len(os.listdir(val_path + classes[i]))}')"
      ],
      "metadata": {
        "colab": {
          "base_uri": "https://localhost:8080/"
        },
        "id": "W17HTvLEfUdn",
        "outputId": "20724e14-91f9-4a37-ab4b-96a3ef513fcf"
      },
      "execution_count": 3,
      "outputs": [
        {
          "output_type": "stream",
          "name": "stdout",
          "text": [
            "[ 학습 데이터셋 ]\n",
            "클래스 0의 개수: 2105\n",
            "클래스 1의 개수: 2205\n",
            "클래스 2의 개수: 2363\n",
            "클래스 3의 개수: 2438\n",
            "클래스 4의 개수: 2224\n",
            "클래스 5의 개수: 2292\n",
            "[ 검증 데이터셋 ]\n",
            "클래스 0의 개수: 523\n",
            "클래스 1의 개수: 540\n",
            "클래스 2의 개수: 594\n",
            "클래스 3의 개수: 599\n",
            "클래스 4의 개수: 560\n",
            "클래스 5의 개수: 591\n"
          ]
        }
      ]
    },
    {
      "cell_type": "markdown",
      "source": [
        "### 데이터 증진 (data augmentation), 정규화\n",
        "- RandomResizedCrop(): 이미지의 일부를 잘라내어 특정 크기로 변형\n",
        "- RandomHorizontalFlip(): 이미지 좌우 반전\n",
        "- input Mixup"
      ],
      "metadata": {
        "id": "IOiJb2Upfait"
      }
    },
    {
      "cell_type": "code",
      "source": [
        "device = torch.device(\"cuda:0\" if torch.cuda.is_available() else \"cpu\") # device object\n",
        "\n",
        "transforms_train = transforms.Compose([\n",
        "    transforms.RandomResizedCrop((64, 64)),\n",
        "    transforms.RandomHorizontalFlip(),\n",
        "    transforms.ToTensor(),\n",
        "    transforms.Normalize([0.485, 0.456, 0.406], [0.229, 0.224, 0.225]) # 정규화(normalization)\n",
        "])\n",
        "\n",
        "transforms_val = transforms.Compose([\n",
        "    transforms.Resize((64, 64)),\n",
        "    transforms.ToTensor(),\n",
        "    transforms.Normalize([0.485, 0.456, 0.406], [0.229, 0.224, 0.225])\n",
        "])\n",
        "\n",
        "train_dataset = datasets.ImageFolder(train_path, transforms_train) \n",
        "val_dataset = datasets.ImageFolder(val_path, transforms_val)\n",
        "\n",
        "train_dataloader = torch.utils.data.DataLoader(train_dataset, batch_size=32, shuffle=True, num_workers=2) #DataLoader: data에 대응하는 label을 붙이고, minibatch 단위로 데이터를 섞어서 리턴 (오버피팅을 방지)\n",
        "val_dataloader = torch.utils.data.DataLoader(val_dataset, batch_size=32, shuffle=True, num_workers=2)\n",
        "\n",
        "print('Training dataset size:', len(train_dataset))\n",
        "print('Validation dataset size:', len(val_dataset))\n",
        "\n",
        "class_names = train_dataset.classes\n",
        "print('Class names:', class_names)"
      ],
      "metadata": {
        "id": "DRjWoDcp8j0h",
        "colab": {
          "base_uri": "https://localhost:8080/"
        },
        "outputId": "81f19283-e19f-424c-a7d5-92877dacba24"
      },
      "execution_count": 4,
      "outputs": [
        {
          "output_type": "stream",
          "name": "stdout",
          "text": [
            "Training dataset size: 13627\n",
            "Validation dataset size: 3407\n",
            "Class names: ['buildings', 'forests', 'glacier', 'mountains', 'sea', 'street']\n"
          ]
        }
      ]
    },
    {
      "cell_type": "code",
      "source": [
        "mixup_alpha = 1.0\n",
        "\n",
        "\n",
        "def mixup_data(x, y):\n",
        "    lam = np.random.beta(mixup_alpha, mixup_alpha)\n",
        "    batch_size = x.size()[0]\n",
        "    index = torch.randperm(batch_size).cuda()\n",
        "    mixed_x = lam * x + (1 - lam) * x[index]\n",
        "    y_a, y_b = y, y[index]\n",
        "    return mixed_x, y_a, y_b, lam\n",
        "\n",
        "\n",
        "def mixup_criterion(criterion, pred, y_a, y_b, lam):\n",
        "    return lam * criterion(pred, y_a) + (1 - lam) * criterion(pred, y_b)\n",
        "\n",
        "\n",
        "def train_with_mixup(net, epoch, optimizer, criterion, train_dataloader):\n",
        "    print('[ Train epoch: %d ]' % epoch)\n",
        "    net.train() # 모델을 학습 모드로 설정\n",
        "    train_loss = 0\n",
        "    correct = 0\n",
        "    total = 0\n",
        "    for batch_idx, (inputs, targets) in enumerate(train_dataloader):\n",
        "        inputs, targets = inputs.to(device), targets.to(device)\n",
        "        inputs, targets_a, targets_b, lam = mixup_data(inputs, targets) # Mixup 진행\n",
        "        optimizer.zero_grad() # 기울기(gradient) 초기화\n",
        "\n",
        "        outputs = net(inputs) # 모델 입력하여 결과 계산\n",
        "        loss = mixup_criterion(criterion, outputs, targets_a, targets_b, lam) # 손실(loss) 값 계산\n",
        "        loss.backward() # 역전파를 통해 기울기(gradient) 계산\n",
        "\n",
        "        optimizer.step() # 계산된 기울기를 이용해 모델 가중치 업데이트\n",
        "        train_loss += loss.item()\n",
        "        _, predicted = outputs.max(1)\n",
        "\n",
        "        total += targets.size(0)\n",
        "        correct += (lam * predicted.eq(targets_a).sum().item() + (1 - lam) * predicted.eq(targets_b).sum().item())\n",
        "\n",
        "    print('Train accuarcy:', 100. * correct / total)\n",
        "    print('Train average loss:', train_loss / total)\n",
        "    return (100. * correct / total, train_loss / total)"
      ],
      "metadata": {
        "id": "f4ffHguvhVEW"
      },
      "execution_count": 5,
      "outputs": []
    },
    {
      "cell_type": "markdown",
      "source": [
        "#### 전이학습"
      ],
      "metadata": {
        "id": "AHAbWucehkST"
      }
    },
    {
      "cell_type": "code",
      "source": [
        "transforms_train_transferred = transforms.Compose([\n",
        "    transforms.RandomResizedCrop((224, 224)),\n",
        "    transforms.RandomHorizontalFlip(),\n",
        "    transforms.ToTensor(),\n",
        "    transforms.Normalize([0.485, 0.456, 0.406], [0.229, 0.224, 0.225]) # 정규화(normalization)\n",
        "])\n",
        "\n",
        "transforms_val_transferred = transforms.Compose([\n",
        "    transforms.Resize((224, 224)),\n",
        "    transforms.ToTensor(),\n",
        "    transforms.Normalize([0.485, 0.456, 0.406], [0.229, 0.224, 0.225])\n",
        "])\n",
        "\n",
        "train_dataset_transferred = datasets.ImageFolder(train_path, transforms_train_transferred)\n",
        "val_dataset_transferred = datasets.ImageFolder(val_path, transforms_val_transferred)\n",
        "\n",
        "train_dataloader_transferred = torch.utils.data.DataLoader(train_dataset_transferred, batch_size=16, shuffle=True, num_workers=2)\n",
        "val_dataloader_transferred = torch.utils.data.DataLoader(val_dataset_transferred, batch_size=16, shuffle=True, num_workers=2)\n",
        "\n",
        "print('Training dataset size:', len(train_dataset_transferred))\n",
        "print('Validation dataset size:', len(val_dataset_transferred))\n",
        "\n",
        "class_names = train_dataset_transferred.classes\n",
        "print('Class names:', class_names)"
      ],
      "metadata": {
        "colab": {
          "base_uri": "https://localhost:8080/"
        },
        "id": "8sO8jLhbho91",
        "outputId": "810ecf33-97a9-4532-f988-2e36d47027fe"
      },
      "execution_count": 6,
      "outputs": [
        {
          "output_type": "stream",
          "name": "stdout",
          "text": [
            "Training dataset size: 13627\n",
            "Validation dataset size: 3407\n",
            "Class names: ['buildings', 'forests', 'glacier', 'mountains', 'sea', 'street']\n"
          ]
        }
      ]
    },
    {
      "cell_type": "markdown",
      "source": [
        "### 학습 및 평가 함수 정의"
      ],
      "metadata": {
        "id": "elMl9fXdfx32"
      }
    },
    {
      "cell_type": "code",
      "source": [
        "def train(net, epoch, optimizer, criterion, train_dataloader):\n",
        "    print('[ Train epoch: %d ]' % epoch)\n",
        "    net.train() # 모델을 학습 모드로 설정\n",
        "    train_loss = 0\n",
        "    correct = 0\n",
        "    total = 0\n",
        "    for batch_idx, (inputs, targets) in enumerate(train_dataloader):\n",
        "        inputs, targets = inputs.to(device), targets.to(device)\n",
        "        optimizer.zero_grad() # 기울기(gradient) 초기화\n",
        "\n",
        "        outputs = net(inputs) # 모델 입력하여 결과 계산\n",
        "        loss = criterion(outputs, targets) # 손실(loss) 값 계산\n",
        "        loss.backward() # 역전파를 통해 기울기(gradient) 계산\n",
        "\n",
        "        optimizer.step() # 계산된 기울기를 이용해 모델 가중치 업데이트\n",
        "        train_loss += loss.item()\n",
        "        _, predicted = outputs.max(1)\n",
        "\n",
        "        total += targets.size(0)\n",
        "        correct += predicted.eq(targets).sum().item()\n",
        "\n",
        "    print('Train accuarcy:', 100. * correct / total)\n",
        "    print('Train average loss:', train_loss / total)\n",
        "    return (100. * correct / total, train_loss / total)\n",
        "\n",
        "\n",
        "def validate(net, epoch, val_dataloader):\n",
        "    print('[ Validation epoch: %d ]' % epoch)\n",
        "    net.eval() # 모델을 평가 모드로 설정\n",
        "    val_loss = 0\n",
        "    correct = 0\n",
        "    total = 0\n",
        "    for batch_idx, (inputs, targets) in enumerate(val_dataloader):\n",
        "        inputs, targets = inputs.to(device), targets.to(device)\n",
        "\n",
        "        outputs = net(inputs) # 모델 입력하여 결과 계산\n",
        "        val_loss += criterion(outputs, targets).item()\n",
        "        _, predicted = outputs.max(1)\n",
        "\n",
        "        total += targets.size(0)\n",
        "        correct += predicted.eq(targets).sum().item()\n",
        "\n",
        "    print('Accuarcy:', 100. * correct / total)\n",
        "    print('Average loss:', val_loss / total)\n",
        "    return (100. * correct / total, val_loss / total)"
      ],
      "metadata": {
        "id": "jgj5qRs8f5ve"
      },
      "execution_count": 7,
      "outputs": []
    },
    {
      "cell_type": "markdown",
      "source": [
        "### AlexNet의 변형 아키텍쳐 구현"
      ],
      "metadata": {
        "id": "9nTn9LBVgCDz"
      }
    },
    {
      "cell_type": "code",
      "source": [
        "class AlexNet(nn.Module):\n",
        "    def __init__(self):\n",
        "        super(AlexNet, self).__init__()\n",
        "        # → 차원(dimension): (3 x 64 x 64)\n",
        "        self.conv1 = nn.Conv2d(in_channels=3, out_channels=96, kernel_size=5, stride=1, padding=2)\n",
        "        # → 차원(dimension): (96 x 64 x 64)\n",
        "        self.lrn1 =  nn.LocalResponseNorm(5)\n",
        "        # → 차원(dimension): (96 x 64 x 64)\n",
        "        self.pool1 = nn.MaxPool2d(kernel_size=3, stride=2)\n",
        "        # → 차원(dimension): (96 x 31 x 31)\n",
        "        self.conv2 = nn.Conv2d(in_channels=96, out_channels=256, kernel_size=5, stride=1, padding=2)\n",
        "        # → 차원(dimension): (256 x 31 x 31)\n",
        "        self.lrn2 =  nn.LocalResponseNorm(5)\n",
        "        # → 차원(dimension): (256 x 31 x 31)\n",
        "        self.pool2 = nn.MaxPool2d(kernel_size=3, stride=2)\n",
        "        # → 차원(dimension): (256 x 15 x 15)\n",
        "        self.conv3 = nn.Conv2d(in_channels=256, out_channels=384, kernel_size=3, stride=1, padding=1)\n",
        "        # → 차원(dimension): (384 x 15 x 15)\n",
        "        self.conv4 = nn.Conv2d(in_channels=384, out_channels=384, kernel_size=3, stride=1, padding=1)\n",
        "        # → 차원(dimension): (384 x 15 x 15)\n",
        "        self.conv5 = nn.Conv2d(in_channels=384, out_channels=256, kernel_size=3, stride=1, padding=1)\n",
        "        # → 차원(dimension): (256 x 15 x 15)\n",
        "        self.pool3 = nn.MaxPool2d(kernel_size=3, stride=2)\n",
        "        # → 차원(dimension): (256 x 7 x 7)\n",
        "        self.fc1 = nn.Linear(256 * 7 * 7, 4096)\n",
        "        # → 차원(dimension): (4096)\n",
        "        self.dp1 = nn.Dropout(p=0.5)\n",
        "        self.fc2 = nn.Linear(4096, 6)\n",
        "        # → 차원(dimension): (6)\n",
        "        self.dp2 = nn.Dropout(p=0.5)       \n",
        "        \n",
        "    def forward(self, x):\n",
        "        x = F.relu(self.conv1(x))\n",
        "        x = self.pool1(self.lrn1(x))\n",
        "        x = F.relu(self.conv2(x))\n",
        "        x = self.pool2(self.lrn2(x))\n",
        "        x = F.relu(self.conv3(x))\n",
        "        x = F.relu(self.conv4(x))\n",
        "        x = F.relu(self.conv5(x)) \t\t   \n",
        "        x = self.pool3(x)\n",
        "        x = torch.flatten(x, 1)\n",
        "        x =  F.relu(self.fc1(x))\n",
        "        x = self.fc2(self.dp1(x))\n",
        "        x = self.dp2(x)\n",
        "\t\n",
        "        return x"
      ],
      "metadata": {
        "id": "dvlZ2wMWgEjZ"
      },
      "execution_count": 8,
      "outputs": []
    },
    {
      "cell_type": "markdown",
      "source": [
        "#### 평가"
      ],
      "metadata": {
        "id": "I4uHeyPrgmo2"
      }
    },
    {
      "cell_type": "code",
      "source": [
        "import time\n",
        "import torch.optim as optim\n",
        "\n",
        "\n",
        "net = AlexNet()\n",
        "net = net.to(device)\n",
        "\n",
        "epoch = 30\n",
        "learning_rate = 0.002\n",
        "file_name = \"AlexNet.pt\"\n",
        "\n",
        "criterion = nn.CrossEntropyLoss()\n",
        "optimizer = optim.SGD(net.parameters(), lr=learning_rate, momentum=0.9, weight_decay=0.0002)\n",
        "\n",
        "train_result = []\n",
        "val_result = []\n",
        "\n",
        "start_time = time.time() # 시작 시간\n",
        "\n",
        "for i in range(epoch):\n",
        "    train_acc, train_loss = train(net, i, optimizer, criterion, train_dataloader) # 학습(training)\n",
        "    val_acc, val_loss = validate(net, i + 1, val_dataloader) # 검증(validation)\n",
        "\n",
        "    # 학습된 모델 저장하기\n",
        "    state = {\n",
        "        'net': net.state_dict()\n",
        "    }\n",
        "    if not os.path.isdir('checkpoint'):\n",
        "        os.mkdir('checkpoint')\n",
        "    torch.save(state, './checkpoint/' + file_name)\n",
        "    print(f'Model saved! (time elapsed: {time.time() - start_time})')\n",
        "\n",
        "    # 현재 epoch에서의 정확도(accuracy)와 손실(loss) 값 저장하기\n",
        "    train_result.append((train_acc, train_loss))\n",
        "    val_result.append((val_acc, val_loss))"
      ],
      "metadata": {
        "colab": {
          "base_uri": "https://localhost:8080/"
        },
        "id": "IQnRAqIBgnWO",
        "outputId": "cf94e7cf-77fb-4c01-d1c7-6ea1a76a2d88"
      },
      "execution_count": 9,
      "outputs": [
        {
          "output_type": "stream",
          "name": "stdout",
          "text": [
            "[ Train epoch: 0 ]\n",
            "Train accuarcy: 30.821163865854555\n",
            "Train average loss: 0.05063398395953196\n",
            "[ Validation epoch: 1 ]\n",
            "Accuarcy: 54.71088934546522\n",
            "Average loss: 0.0383326744172522\n",
            "Model saved! (time elapsed: 48.74067521095276)\n",
            "[ Train epoch: 1 ]\n",
            "Train accuarcy: 38.97409554560799\n",
            "Train average loss: 0.045427220683196864\n",
            "[ Validation epoch: 2 ]\n",
            "Accuarcy: 55.56207807455239\n",
            "Average loss: 0.03577239761123008\n",
            "Model saved! (time elapsed: 90.51253247261047)\n",
            "[ Train epoch: 2 ]\n",
            "Train accuarcy: 41.843399134072065\n",
            "Train average loss: 0.04395696089746597\n",
            "[ Validation epoch: 3 ]\n",
            "Accuarcy: 63.428235984737306\n",
            "Average loss: 0.033053293076294905\n",
            "Model saved! (time elapsed: 132.18666172027588)\n",
            "[ Train epoch: 3 ]\n",
            "Train accuarcy: 42.452484039040144\n",
            "Train average loss: 0.0429441792263169\n",
            "[ Validation epoch: 4 ]\n",
            "Accuarcy: 64.837100088054\n",
            "Average loss: 0.030313990281969704\n",
            "Model saved! (time elapsed: 173.97729063034058)\n",
            "[ Train epoch: 4 ]\n",
            "Train accuarcy: 43.70000733837235\n",
            "Train average loss: 0.0419838098565682\n",
            "[ Validation epoch: 5 ]\n",
            "Accuarcy: 68.03639565600234\n",
            "Average loss: 0.02993612603284692\n",
            "Model saved! (time elapsed: 215.49963355064392)\n",
            "[ Train epoch: 5 ]\n",
            "Train accuarcy: 45.402509723343364\n",
            "Train average loss: 0.04040482372358259\n",
            "[ Validation epoch: 6 ]\n",
            "Accuarcy: 74.66979747578515\n",
            "Average loss: 0.02603154893421098\n",
            "Model saved! (time elapsed: 256.939284324646)\n",
            "[ Train epoch: 6 ]\n",
            "Train accuarcy: 46.18037719233874\n",
            "Train average loss: 0.03968670191134624\n",
            "[ Validation epoch: 7 ]\n",
            "Accuarcy: 75.84385089521574\n",
            "Average loss: 0.024213990858652952\n",
            "Model saved! (time elapsed: 298.49508714675903)\n",
            "[ Train epoch: 7 ]\n",
            "Train accuarcy: 47.25911792764365\n",
            "Train average loss: 0.03888345238414839\n",
            "[ Validation epoch: 8 ]\n",
            "Accuarcy: 76.31347226298797\n",
            "Average loss: 0.022906839480174752\n",
            "Model saved! (time elapsed: 340.25190567970276)\n",
            "[ Train epoch: 8 ]\n",
            "Train accuarcy: 48.41124238643869\n",
            "Train average loss: 0.03808447574059244\n",
            "[ Validation epoch: 9 ]\n",
            "Accuarcy: 77.1940123275609\n",
            "Average loss: 0.02274235258152802\n",
            "Model saved! (time elapsed: 382.068740606308)\n",
            "[ Train epoch: 9 ]\n",
            "Train accuarcy: 49.27717032362222\n",
            "Train average loss: 0.03735332809366221\n",
            "[ Validation epoch: 10 ]\n",
            "Accuarcy: 78.86703845024948\n",
            "Average loss: 0.02215958451608916\n",
            "Model saved! (time elapsed: 423.61808586120605)\n",
            "[ Train epoch: 10 ]\n",
            "Train accuarcy: 49.07169589784986\n",
            "Train average loss: 0.03748533828440298\n",
            "[ Validation epoch: 11 ]\n",
            "Accuarcy: 77.51687701790432\n",
            "Average loss: 0.021895022879676942\n",
            "Model saved! (time elapsed: 465.1173930168152)\n",
            "[ Train epoch: 11 ]\n",
            "Train accuarcy: 50.03302267557056\n",
            "Train average loss: 0.03667431210285326\n",
            "[ Validation epoch: 12 ]\n",
            "Accuarcy: 79.0137951276783\n",
            "Average loss: 0.021041495878044936\n",
            "Model saved! (time elapsed: 506.6453025341034)\n",
            "[ Train epoch: 12 ]\n",
            "Train accuarcy: 49.702795919864975\n",
            "Train average loss: 0.03639828942706827\n",
            "[ Validation epoch: 13 ]\n",
            "Accuarcy: 81.3325506310537\n",
            "Average loss: 0.021583312832088038\n",
            "Model saved! (time elapsed: 548.4507126808167)\n",
            "[ Train epoch: 13 ]\n",
            "Train accuarcy: 50.24583547369193\n",
            "Train average loss: 0.0360072263445203\n",
            "[ Validation epoch: 14 ]\n",
            "Accuarcy: 80.33460522453771\n",
            "Average loss: 0.0198493763730083\n",
            "Model saved! (time elapsed: 589.8901934623718)\n",
            "[ Train epoch: 14 ]\n",
            "Train accuarcy: 51.001687825640275\n",
            "Train average loss: 0.035696491711713726\n",
            "[ Validation epoch: 15 ]\n",
            "Accuarcy: 81.65541532139713\n",
            "Average loss: 0.018528163914180832\n",
            "Model saved! (time elapsed: 631.2728989124298)\n",
            "[ Train epoch: 15 ]\n",
            "Train accuarcy: 51.4713436559771\n",
            "Train average loss: 0.035229138664203054\n",
            "[ Validation epoch: 16 ]\n",
            "Accuarcy: 77.04725565013209\n",
            "Average loss: 0.02082275701366914\n",
            "Model saved! (time elapsed: 673.1106088161469)\n",
            "[ Train epoch: 16 ]\n",
            "Train accuarcy: 50.94298084684817\n",
            "Train average loss: 0.035365771016467824\n",
            "[ Validation epoch: 17 ]\n",
            "Accuarcy: 81.03903727619607\n",
            "Average loss: 0.018289403706167953\n",
            "Model saved! (time elapsed: 714.6300120353699)\n",
            "[ Train epoch: 17 ]\n",
            "Train accuarcy: 52.014383209804066\n",
            "Train average loss: 0.03463403318863827\n",
            "[ Validation epoch: 18 ]\n",
            "Accuarcy: 80.1878485471089\n",
            "Average loss: 0.020570297306991232\n",
            "Model saved! (time elapsed: 756.0079438686371)\n",
            "[ Train epoch: 18 ]\n",
            "Train accuarcy: 51.963014603360975\n",
            "Train average loss: 0.03462621883906158\n",
            "[ Validation epoch: 19 ]\n",
            "Accuarcy: 80.48136190196654\n",
            "Average loss: 0.01985283913694941\n",
            "Model saved! (time elapsed: 797.771082162857)\n",
            "[ Train epoch: 19 ]\n",
            "Train accuarcy: 52.47670066779188\n",
            "Train average loss: 0.03441576101008887\n",
            "[ Validation epoch: 20 ]\n",
            "Accuarcy: 82.12503668916936\n",
            "Average loss: 0.01839512634704216\n",
            "Model saved! (time elapsed: 839.1182615756989)\n",
            "[ Train epoch: 20 ]\n",
            "Train accuarcy: 52.47670066779188\n",
            "Train average loss: 0.03406426748596424\n",
            "[ Validation epoch: 21 ]\n",
            "Accuarcy: 81.94892867625477\n",
            "Average loss: 0.016854894534737475\n",
            "Model saved! (time elapsed: 880.5861608982086)\n",
            "[ Train epoch: 21 ]\n",
            "Train accuarcy: 53.04175533866589\n",
            "Train average loss: 0.0336789369206965\n",
            "[ Validation epoch: 22 ]\n",
            "Accuarcy: 80.30525388905195\n",
            "Average loss: 0.01831058625570308\n",
            "Model saved! (time elapsed: 922.324348449707)\n",
            "[ Train epoch: 22 ]\n",
            "Train accuarcy: 53.03441696631687\n",
            "Train average loss: 0.033650856248314334\n",
            "[ Validation epoch: 23 ]\n",
            "Accuarcy: 83.97417082477253\n",
            "Average loss: 0.016539333580104985\n",
            "Model saved! (time elapsed: 963.7254586219788)\n",
            "[ Train epoch: 23 ]\n",
            "Train accuarcy: 53.07110882806194\n",
            "Train average loss: 0.03357084997508429\n",
            "[ Validation epoch: 24 ]\n",
            "Accuarcy: 82.18373936014089\n",
            "Average loss: 0.01735839142734997\n",
            "Model saved! (time elapsed: 1005.1667833328247)\n",
            "[ Train epoch: 24 ]\n",
            "Train accuarcy: 52.608791370074115\n",
            "Train average loss: 0.03348905664726566\n",
            "[ Validation epoch: 25 ]\n",
            "Accuarcy: 83.15233343117112\n",
            "Average loss: 0.017429976771925423\n",
            "Model saved! (time elapsed: 1046.8814942836761)\n",
            "[ Train epoch: 25 ]\n",
            "Train accuarcy: 53.15183092390108\n",
            "Train average loss: 0.03309885354334937\n",
            "[ Validation epoch: 26 ]\n",
            "Accuarcy: 85.17757557968888\n",
            "Average loss: 0.015840531278993156\n",
            "Model saved! (time elapsed: 1088.3851771354675)\n",
            "[ Train epoch: 26 ]\n",
            "Train accuarcy: 53.34996697732443\n",
            "Train average loss: 0.033261568983521284\n",
            "[ Validation epoch: 27 ]\n",
            "Accuarcy: 84.09157616671558\n",
            "Average loss: 0.01530866602193515\n",
            "Model saved! (time elapsed: 1129.7894279956818)\n",
            "[ Train epoch: 27 ]\n",
            "Train accuarcy: 54.09114258457474\n",
            "Train average loss: 0.032907165631235254\n",
            "[ Validation epoch: 28 ]\n",
            "Accuarcy: 85.47108893454651\n",
            "Average loss: 0.015655658655863616\n",
            "Model saved! (time elapsed: 1172.607477903366)\n",
            "[ Train epoch: 28 ]\n",
            "Train accuarcy: 53.77559257356718\n",
            "Train average loss: 0.03279279108450594\n",
            "[ Validation epoch: 29 ]\n",
            "Accuarcy: 85.2362782506604\n",
            "Average loss: 0.01475574021504567\n",
            "Model saved! (time elapsed: 1214.1582970619202)\n",
            "[ Train epoch: 29 ]\n",
            "Train accuarcy: 54.78828795773097\n",
            "Train average loss: 0.03225485805440931\n",
            "[ Validation epoch: 30 ]\n",
            "Accuarcy: 82.94687408277076\n",
            "Average loss: 0.016828105102930386\n",
            "Model saved! (time elapsed: 1255.587967157364)\n"
          ]
        }
      ]
    },
    {
      "cell_type": "markdown",
      "source": [
        "정확도/손실 커브 시각화"
      ],
      "metadata": {
        "id": "OKIHFtUygtt-"
      }
    },
    {
      "cell_type": "code",
      "source": [
        "# 정확도(accuracy) 커브 시각화\n",
        "plt.subplot(211)\n",
        "plt.plot([i for i in range(epoch)], [i[0] for i in train_result])\n",
        "plt.plot([i for i in range(epoch)], [i[0] for i in val_result])\n",
        "plt.title(\"Accuracy Curve\")\n",
        "plt.xlabel(\"Epoch\")\n",
        "plt.ylabel(\"Accuracy\")\n",
        "plt.legend([\"train\", \"val\"])\n",
        "\n",
        "# 손실(loss) 커브 시각화\n",
        "plt.subplot(212)\n",
        "plt.plot([i for i in range(epoch)], [i[1] for i in train_result])\n",
        "plt.plot([i for i in range(epoch)], [i[1] for i in val_result])\n",
        "plt.title(\"Loss Curve\")\n",
        "plt.xlabel(\"Epoch\")\n",
        "plt.ylabel(\"Loss\")\n",
        "plt.legend([\"train\", \"val\"])\n",
        "\n",
        "plt.tight_layout()\n",
        "plt.show()"
      ],
      "metadata": {
        "colab": {
          "base_uri": "https://localhost:8080/",
          "height": 297
        },
        "id": "_XmNWC8_gxIX",
        "outputId": "78c82745-d71a-4821-cc81-8ee30951fcba"
      },
      "execution_count": 10,
      "outputs": [
        {
          "output_type": "display_data",
          "data": {
            "text/plain": [
              "<Figure size 432x288 with 2 Axes>"
            ],
            "image/png": "[encoded data removed]"
          },
          "metadata": {
            "needs_background": "light"
          }
        }
      ]
    },
    {
      "cell_type": "markdown",
      "source": [
        "혼동행렬 시각화"
      ],
      "metadata": {
        "id": "8vsP1Qsog0d3"
      }
    },
    {
      "cell_type": "code",
      "source": [
        "# 네트워크에 데이터셋을 입력하여 혼동 행렬(confusion matrix)을 계산하는 함수\n",
        "def get_confusion_matrix(net, num_classes, data_loader):\n",
        "    net.eval() # 모델을 평가 모드로 설정\n",
        "    confusion_matrix = torch.zeros(num_classes, num_classes, dtype=torch.int32)\n",
        "\n",
        "    for batch_idx, (inputs, targets) in enumerate(data_loader):\n",
        "        inputs, targets = inputs.to(device), targets.to(device)\n",
        "\n",
        "        outputs = net(inputs)\n",
        "        _, predicted = outputs.max(1)\n",
        "\n",
        "        for t, p in zip(targets.view(-1), predicted.view(-1)):\n",
        "            confusion_matrix[t.long(), p.long()] += 1\n",
        "\n",
        "    return confusion_matrix"
      ],
      "metadata": {
        "id": "XUECSwJDriPs"
      },
      "execution_count": 12,
      "outputs": []
    },
    {
      "cell_type": "code",
      "source": [
        "net = AlexNet()\n",
        "net = net.to(device)\n",
        "\n",
        "file_name = \"./checkpoint/AlexNet.pt\"\n",
        "checkpoint = torch.load(file_name)\n",
        "net.load_state_dict(checkpoint['net'])\n",
        "\n",
        "confusion_matrix = get_confusion_matrix(net, 6, val_dataloader)\n",
        "print(\"[ 각 클래스당 데이터 개수 ]\")\n",
        "print(confusion_matrix.sum(1))\n",
        "\n",
        "print(\"[ 혼동 행렬(confusion matrix) 시각화 ]\")\n",
        "res = pd.DataFrame(confusion_matrix.numpy(), index = [i for i in range(6)], columns = [i for i in range(6)])\n",
        "res.index.name = 'True label'\n",
        "res.columns.name = 'Predicted label'\n",
        "plt.figure(figsize = (10, 7))\n",
        "sns.heatmap(res, annot=True, fmt=\"d\", cmap='Blues')\n",
        "plt.show()\n",
        "\n",
        "print(\"[ 각 클래스에 따른 정확도 ]\")\n",
        "# (각 클래스마다 정답 개수 / 각 클래스마다 데이터의 개수)\n",
        "print(confusion_matrix.diag() / confusion_matrix.sum(1))\n",
        "\n",
        "print(\"[ 전체 평균 정확도 ]\")\n",
        "print(confusion_matrix.diag().sum() / confusion_matrix.sum())"
      ],
      "metadata": {
        "colab": {
          "base_uri": "https://localhost:8080/",
          "height": 571
        },
        "id": "-C1iMgqSg00F",
        "outputId": "0d02d255-d90c-4637-bae6-53a5816f044f"
      },
      "execution_count": 13,
      "outputs": [
        {
          "output_type": "stream",
          "name": "stdout",
          "text": [
            "[ 각 클래스당 데이터 개수 ]\n",
            "tensor([523, 540, 594, 599, 560, 591])\n",
            "[ 혼동 행렬(confusion matrix) 시각화 ]\n"
          ]
        },
        {
          "output_type": "display_data",
          "data": {
            "text/plain": [
              "<Figure size 720x504 with 2 Axes>"
            ],
            "image/png": "[encoded data removed]"
          },
          "metadata": {
            "needs_background": "light"
          }
        },
        {
          "output_type": "stream",
          "name": "stdout",
          "text": [
            "[ 각 클래스에 따른 정확도 ]\n",
            "tensor([0.8528, 0.9519, 0.7811, 0.6678, 0.9321, 0.8122])\n",
            "[ 전체 평균 정확도 ]\n",
            "tensor(0.8295)\n"
          ]
        }
      ]
    },
    {
      "cell_type": "markdown",
      "source": [
        "### pre-trained 모델을 이용하여 분류 모델 생성"
      ],
      "metadata": {
        "id": "9PcX460ihyTF"
      }
    },
    {
      "cell_type": "code",
      "source": [
        "from torchvision.models import resnet50, ResNet50_Weights\n",
        "net = torchvision.models.resnet50(weights=ResNet50_Weights.IMAGENET1K_V1)\n",
        "\n",
        "# 마지막 레이어의 차원을 6차원으로 조절\n",
        "num_features = net.fc.in_features\n",
        "net.fc = nn.Linear(num_features, 6)\n",
        "net = net.to(device)\n",
        "\n",
        "epoch = 20\n",
        "learning_rate = 0.001 # 일반적으로 fine-tuning을 진행할 때는 학습률(learning rate)을 낮게 설정\n",
        "file_name = \"ResNet50Transferred.pt\"\n",
        "\n",
        "criterion = nn.CrossEntropyLoss()\n",
        "optimizer = optim.SGD(net.parameters(), lr=learning_rate, momentum=0.9, weight_decay=0.0002)\n",
        "\n",
        "train_result = []\n",
        "val_result = []\n",
        "\n",
        "start_time = time.time() # 시작 시간\n",
        "\n",
        "for i in range(epoch):\n",
        "    train_acc, train_loss = train_with_mixup(net, i, optimizer, criterion, train_dataloader_transferred) # 학습(training)\n",
        "    val_acc, val_loss = validate(net, i + 1, val_dataloader_transferred) # 검증(validation)\n",
        "\n",
        "    # 학습된 모델 저장하기\n",
        "    state = {\n",
        "        'net': net.state_dict()\n",
        "    }\n",
        "    if not os.path.isdir('checkpoint'):\n",
        "        os.mkdir('checkpoint')\n",
        "    torch.save(state, './checkpoint/' + file_name)\n",
        "    print(f'Model saved! (time elapsed: {time.time() - start_time})')\n",
        "\n",
        "    # 현재 epoch에서의 정확도(accuracy)와 손실(loss) 값 저장하기\n",
        "    train_result.append((train_acc, train_loss))\n",
        "    val_result.append((val_acc, val_loss))"
      ],
      "metadata": {
        "colab": {
          "base_uri": "https://localhost:8080/"
        },
        "id": "Ec7WWJ_YhyoV",
        "outputId": "7ec997fe-fda2-4491-a34f-46a96ddaa597"
      },
      "execution_count": 18,
      "outputs": [
        {
          "output_type": "stream",
          "name": "stdout",
          "text": [
            "[ Train epoch: 0 ]\n",
            "Train accuarcy: 59.60334667738502\n",
            "Train average loss: 0.07216351189459028\n",
            "[ Validation epoch: 1 ]\n",
            "Accuarcy: 86.41033167009098\n",
            "Average loss: 0.027823242099448878\n",
            "Model saved! (time elapsed: 164.8102355003357)\n",
            "[ Train epoch: 1 ]\n",
            "Train accuarcy: 64.97423519088434\n",
            "Train average loss: 0.06428391035500491\n",
            "[ Validation epoch: 2 ]\n",
            "Accuarcy: 88.75843850895215\n",
            "Average loss: 0.025998962403988257\n",
            "Model saved! (time elapsed: 327.29100584983826)\n",
            "[ Train epoch: 2 ]\n",
            "Train accuarcy: 65.61703424479829\n",
            "Train average loss: 0.06300752379621843\n",
            "[ Validation epoch: 3 ]\n",
            "Accuarcy: 88.05400645729381\n",
            "Average loss: 0.024794522345958303\n",
            "Model saved! (time elapsed: 490.5914297103882)\n",
            "[ Train epoch: 3 ]\n",
            "Train accuarcy: 66.39579204246778\n",
            "Train average loss: 0.06140540442568563\n",
            "[ Validation epoch: 4 ]\n",
            "Accuarcy: 90.66627531552686\n",
            "Average loss: 0.021962546472557135\n",
            "Model saved! (time elapsed: 652.8563132286072)\n",
            "[ Train epoch: 4 ]\n",
            "Train accuarcy: 66.99313453977514\n",
            "Train average loss: 0.06011662717356129\n",
            "[ Validation epoch: 5 ]\n",
            "Accuarcy: 91.78162606398591\n",
            "Average loss: 0.019901847665282614\n",
            "Model saved! (time elapsed: 814.9149281978607)\n",
            "[ Train epoch: 5 ]\n",
            "Train accuarcy: 68.02763070824743\n",
            "Train average loss: 0.05859591463341387\n",
            "[ Validation epoch: 6 ]\n",
            "Accuarcy: 91.92838274141474\n",
            "Average loss: 0.018210759195618032\n",
            "Model saved! (time elapsed: 977.1674838066101)\n",
            "[ Train epoch: 6 ]\n",
            "Train accuarcy: 67.61628352871178\n",
            "Train average loss: 0.05862333856776183\n",
            "[ Validation epoch: 7 ]\n",
            "Accuarcy: 91.75227472850014\n",
            "Average loss: 0.01835937675997278\n",
            "Model saved! (time elapsed: 1139.6483390331268)\n",
            "[ Train epoch: 7 ]\n",
            "Train accuarcy: 68.25182652544629\n",
            "Train average loss: 0.05784462496923702\n",
            "[ Validation epoch: 8 ]\n",
            "Accuarcy: 91.63486938655709\n",
            "Average loss: 0.018140915624900125\n",
            "Model saved! (time elapsed: 1302.1334900856018)\n",
            "[ Train epoch: 8 ]\n",
            "Train accuarcy: 69.85240815694183\n",
            "Train average loss: 0.055790618536599515\n",
            "[ Validation epoch: 9 ]\n",
            "Accuarcy: 92.66216612855885\n",
            "Average loss: 0.01793469733328703\n",
            "Model saved! (time elapsed: 1464.6014268398285)\n",
            "[ Train epoch: 9 ]\n",
            "Train accuarcy: 68.22794744193081\n",
            "Train average loss: 0.05739833788095116\n",
            "[ Validation epoch: 10 ]\n",
            "Accuarcy: 92.28059876724392\n",
            "Average loss: 0.01948889092787431\n",
            "Model saved! (time elapsed: 1626.9285488128662)\n",
            "[ Train epoch: 10 ]\n",
            "Train accuarcy: 69.29563183183794\n",
            "Train average loss: 0.05612524511247333\n",
            "[ Validation epoch: 11 ]\n",
            "Accuarcy: 91.81097739947168\n",
            "Average loss: 0.017512128148517686\n",
            "Model saved! (time elapsed: 1789.0210120677948)\n",
            "[ Train epoch: 11 ]\n",
            "Train accuarcy: 68.83005003901165\n",
            "Train average loss: 0.05609643028261307\n",
            "[ Validation epoch: 12 ]\n",
            "Accuarcy: 92.95567948341649\n",
            "Average loss: 0.016299281353505436\n",
            "Model saved! (time elapsed: 1951.449979543686)\n",
            "[ Train epoch: 12 ]\n",
            "Train accuarcy: 69.01360537091249\n",
            "Train average loss: 0.05557190388968154\n",
            "[ Validation epoch: 13 ]\n",
            "Accuarcy: 91.9577340769005\n",
            "Average loss: 0.018585693420274257\n",
            "Model saved! (time elapsed: 2113.753762483597)\n",
            "[ Train epoch: 13 ]\n",
            "Train accuarcy: 70.04353171547578\n",
            "Train average loss: 0.05433556661441722\n",
            "[ Validation epoch: 14 ]\n",
            "Accuarcy: 93.24919283827414\n",
            "Average loss: 0.016495279915300604\n",
            "Model saved! (time elapsed: 2277.020144701004)\n",
            "[ Train epoch: 14 ]\n",
            "Train accuarcy: 69.42663692045407\n",
            "Train average loss: 0.05513356607006836\n",
            "[ Validation epoch: 15 ]\n",
            "Accuarcy: 93.19049016730261\n",
            "Average loss: 0.015838532240327097\n",
            "Model saved! (time elapsed: 2439.3662185668945)\n",
            "[ Train epoch: 15 ]\n",
            "Train accuarcy: 69.4332405057083\n",
            "Train average loss: 0.05506623915301701\n",
            "[ Validation epoch: 16 ]\n",
            "Accuarcy: 92.75022013501615\n",
            "Average loss: 0.01722201095723952\n",
            "Model saved! (time elapsed: 2601.9660420417786)\n",
            "[ Train epoch: 16 ]\n",
            "Train accuarcy: 69.98525159334824\n",
            "Train average loss: 0.05433263594846851\n",
            "[ Validation epoch: 17 ]\n",
            "Accuarcy: 93.54270619313179\n",
            "Average loss: 0.016311416381137405\n",
            "Model saved! (time elapsed: 2764.3767709732056)\n",
            "[ Train epoch: 17 ]\n",
            "Train accuarcy: 70.14616268940705\n",
            "Train average loss: 0.05433903141542498\n",
            "[ Validation epoch: 18 ]\n",
            "Accuarcy: 93.3665981802172\n",
            "Average loss: 0.015917571257698177\n",
            "Model saved! (time elapsed: 2926.8868927955627)\n",
            "[ Train epoch: 18 ]\n",
            "Train accuarcy: 69.78685006996109\n",
            "Train average loss: 0.05451953417717986\n",
            "[ Validation epoch: 19 ]\n",
            "Accuarcy: 93.4546521866745\n",
            "Average loss: 0.017001744437364668\n",
            "Model saved! (time elapsed: 3089.446790456772)\n",
            "[ Train epoch: 19 ]\n",
            "Train accuarcy: 70.56596228078165\n",
            "Train average loss: 0.053388682895057694\n",
            "[ Validation epoch: 20 ]\n",
            "Accuarcy: 92.57411212210155\n",
            "Average loss: 0.017000009624234456\n",
            "Model saved! (time elapsed: 3252.1068403720856)\n"
          ]
        }
      ]
    },
    {
      "cell_type": "markdown",
      "source": [
        "정확도/손실 커브 시각화"
      ],
      "metadata": {
        "id": "6_oqSJCiiEuE"
      }
    },
    {
      "cell_type": "code",
      "source": [
        "# 정확도(accuracy) 커브 시각화\n",
        "plt.subplot(211)\n",
        "plt.plot([i for i in range(epoch)], [i[0] for i in train_result])\n",
        "plt.plot([i for i in range(epoch)], [i[0] for i in val_result])\n",
        "plt.title(\"Accuracy Curve\")\n",
        "plt.xlabel(\"Epoch\")\n",
        "plt.ylabel(\"Accuracy\")\n",
        "plt.legend([\"train\", \"val\"])\n",
        "\n",
        "# 손실(loss) 커브 시각화\n",
        "plt.subplot(212)\n",
        "plt.plot([i for i in range(epoch)], [i[1] for i in train_result])\n",
        "plt.plot([i for i in range(epoch)], [i[1] for i in val_result])\n",
        "plt.title(\"Loss Curve\")\n",
        "plt.xlabel(\"Epoch\")\n",
        "plt.ylabel(\"Loss\")\n",
        "plt.legend([\"train\", \"val\"])\n",
        "\n",
        "plt.tight_layout()\n",
        "plt.show()"
      ],
      "metadata": {
        "colab": {
          "base_uri": "https://localhost:8080/",
          "height": 297
        },
        "id": "sWmCA0efiEDE",
        "outputId": "e591cf14-47e1-447d-9c32-5642dce50e4b"
      },
      "execution_count": 19,
      "outputs": [
        {
          "output_type": "display_data",
          "data": {
            "text/plain": [
              "<Figure size 432x288 with 2 Axes>"
            ],
            "image/png": "[encoded data removed]"
          },
          "metadata": {
            "needs_background": "light"
          }
        }
      ]
    }
  ]
}
